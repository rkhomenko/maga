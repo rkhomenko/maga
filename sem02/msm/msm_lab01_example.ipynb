{
 "cells": [
  {
   "cell_type": "code",
   "execution_count": 1,
   "metadata": {},
   "outputs": [],
   "source": [
    "import os\n",
    "import shutil\n",
    "import urllib3\n",
    "from subprocess import Popen, PIPE, STDOUT\n",
    "from multiprocessing import Pool\n",
    "\n",
    "import numpy as np\n",
    "from matplotlib import pyplot as plt"
   ]
  },
  {
   "cell_type": "markdown",
   "metadata": {},
   "source": [
    "### 0. Класс с параметрами атома"
   ]
  },
  {
   "cell_type": "code",
   "execution_count": 2,
   "metadata": {},
   "outputs": [],
   "source": [
    "class Atom:\n",
    "    def __init__(self, z, lattice_a, pseudo, atomic_mass):\n",
    "        self.pseudo = pseudo\n",
    "        self.celldim = Atom._celldim(lattice_a)\n",
    "        self.z = z\n",
    "        self.atomic_mass = atomic_mass\n",
    "        \n",
    "    def __str__(self):\n",
    "        return f'Z={self.z}, celldim={self.celldim}, m={self.atomic_mass}, pseudo={self.pseudo}'\n",
    "        \n",
    "    def get_pseudo_file(self):\n",
    "        return self.pseudo\n",
    "    \n",
    "    def get_celldim(self):\n",
    "        return self.celldim\n",
    "    \n",
    "    def get_atomic_mass(self):\n",
    "        return self.atomic_mass\n",
    "    \n",
    "    @staticmethod\n",
    "    def _celldim(x, a=52.9177):\n",
    "        # a - радиус Бора в пикометрах\n",
    "        return x / a"
   ]
  },
  {
   "cell_type": "code",
   "execution_count": 3,
   "metadata": {},
   "outputs": [],
   "source": [
    "def parse_output(output):\n",
    "    pattern = ['!', 'total', 'energy']\n",
    "    \n",
    "    for line in output.splitlines():\n",
    "        items = line.split()\n",
    "        if items[:3] == pattern:\n",
    "            return float(items[4])"
   ]
  },
  {
   "cell_type": "markdown",
   "metadata": {},
   "source": [
    "### 1. Конфигурация"
   ]
  },
  {
   "cell_type": "code",
   "execution_count": 4,
   "metadata": {},
   "outputs": [],
   "source": [
    "pseudo_url2atom = {\n",
    "    'C': 'https://www.quantum-espresso.org/upf_files/C.pbe-n-kjpaw_psl.1.0.0.UPF',\n",
    "    'Si': 'https://www.quantum-espresso.org/upf_files/Si.pbe-n-kjpaw_psl.1.0.0.UPF',\n",
    "    'Ge': 'https://www.quantum-espresso.org/upf_files/Ge.pbe-dn-kjpaw_psl.1.0.0.UPF',\n",
    "    'Sn': 'https://www.quantum-espresso.org/upf_files/Sn.pbe-dn-kjpaw_psl.1.0.0.UPF'\n",
    "}\n",
    "pseudo_dir = 'data/pseudo/pbe'\n",
    "output_dir = 'output'\n",
    "\n",
    "# \"а\" параметр решетки в пикометрах\n",
    "# Взял тут https://www.webelements.com/tin/crystal_structure.html\n",
    "lattice_a2atom = {\n",
    "    'C':  246.4,\n",
    "    'Si': 543.09,\n",
    "    'Ge': 565.75,\n",
    "    'Sn': 583.18,\n",
    "}\n",
    "\n",
    "# Атомный номер\n",
    "z2atom = {\n",
    "    'C':  6,\n",
    "    'Si': 14,\n",
    "    'Ge': 32,\n",
    "    'Sn': 50\n",
    "}\n",
    "\n",
    "atomic_mass = {\n",
    "    'C':  12.011,\n",
    "    'Si': 28.085,\n",
    "    'Ge': 72.630,\n",
    "    'Sn': 118.710\n",
    "}"
   ]
  },
  {
   "cell_type": "code",
   "execution_count": 5,
   "metadata": {},
   "outputs": [],
   "source": [
    "os.makedirs(pseudo_dir, exist_ok=True)\n",
    "os.makedirs(output_dir, exist_ok=True)"
   ]
  },
  {
   "cell_type": "code",
   "execution_count": 6,
   "metadata": {},
   "outputs": [],
   "source": [
    "http = urllib3.PoolManager()\n",
    "atoms = {}\n",
    "\n",
    "for atom_key, url_str in pseudo_url2atom.items():\n",
    "    url = urllib3.util.parse_url(url_str)\n",
    "    fname = url.path.split('/')[2]\n",
    "    path = os.path.join(pseudo_dir, fname)\n",
    "    \n",
    "    if not os.path.exists(path): \n",
    "        with http.request('GET', url_str, preload_content=False) as r, open(path, 'wb') as f:       \n",
    "            shutil.copyfileobj(r, f)\n",
    "        \n",
    "    atoms[atom_key] = Atom(z=z2atom[atom_key],\n",
    "                           pseudo=fname,\n",
    "                           lattice_a=lattice_a2atom[atom_key],\n",
    "                           atomic_mass=atomic_mass[atom_key])"
   ]
  },
  {
   "cell_type": "code",
   "execution_count": 7,
   "metadata": {},
   "outputs": [],
   "source": [
    "pwx_lattice_config = \"\"\"&control\n",
    "    prefix = '{0}',\n",
    "    pseudo_dir = '{1}',\n",
    "    outdir = '{2}',\n",
    "/\n",
    "&system\n",
    "! better lattice parametrization\n",
    "    ibrav = 2,\n",
    "    celldm(1) = {3},\n",
    "    ntyp = 1,\n",
    "    nat = 2,\n",
    "    ecutwfc = {4},\n",
    "    ecutrho = {5},\n",
    "/\n",
    "&electrons\n",
    "/\n",
    "ATOMIC_SPECIES\n",
    "    X {6} {7}\n",
    "ATOMIC_POSITIONS alat\n",
    "    X 0.00 0.00 0.00\n",
    "    X 0.25 0.25 0.25\n",
    "K_POINTS automatic\n",
    "    6 6 6 1 1 1\n",
    "\"\"\""
   ]
  },
  {
   "cell_type": "code",
   "execution_count": 8,
   "metadata": {},
   "outputs": [],
   "source": [
    "pwx_vacuum_config = \"\"\"&control\n",
    "    prefix = '{0}',\n",
    "    pseudo_dir = '{1}',\n",
    "    outdir = '{2}',\n",
    "/\n",
    "&system\n",
    "    ibrav = 1,\n",
    "    celldm(1) = {3},\n",
    "    ntyp = 1,\n",
    "    nat = 1,\n",
    "    ecutwfc = {4},\n",
    "    ecutrho = {5},\n",
    "! magnetic calcualtions\n",
    "    nspin = 2,\n",
    "    starting_magnetization(1) = 1,\n",
    "    occupations = 'smearing',\n",
    "    degauss = 0.01,\n",
    "/\n",
    "&electrons\n",
    "/\n",
    "ATOMIC_SPECIES\n",
    "    X {6} {7}\n",
    "ATOMIC_POSITIONS alat\n",
    "    X 0.00 0.00 0.00\n",
    "K_POINTS gamma\n",
    "! special calculation type for isolated atoms\"\"\""
   ]
  },
  {
   "cell_type": "code",
   "execution_count": 10,
   "metadata": {},
   "outputs": [],
   "source": [
    "N = 500\n",
    "delta = 1e-2\n",
    "pwx_exe='pw.x'\n",
    "ecutwfc = 47\n",
    "ecutrho = 250"
   ]
  },
  {
   "cell_type": "markdown",
   "metadata": {},
   "source": [
    "### 2. Расчет полной энергии системы"
   ]
  },
  {
   "cell_type": "code",
   "execution_count": 11,
   "metadata": {},
   "outputs": [
    {
     "name": "stdout",
     "output_type": "stream",
     "text": [
      "Z=50, celldim=11.020509205804483, m=118.71, pseudo=Sn.pbe-dn-kjpaw_psl.1.0.0.UPF\n"
     ]
    }
   ],
   "source": [
    "atom = atoms['Sn']\n",
    "print(atom)"
   ]
  },
  {
   "cell_type": "code",
   "execution_count": 12,
   "metadata": {},
   "outputs": [],
   "source": [
    "dx = N * delta\n",
    "celldims = np.arange(atom.get_celldim() - dx, atom.get_celldim() + dx, delta)"
   ]
  },
  {
   "cell_type": "code",
   "execution_count": 13,
   "metadata": {},
   "outputs": [],
   "source": [
    "def calc_total_energy(celldim):\n",
    "    conf = pwx_lattice_config.format(f'lattice_{celldim}',\n",
    "                                    pseudo_dir,\n",
    "                                    output_dir,\n",
    "                                    celldim,\n",
    "                                    ecutwfc,\n",
    "                                    ecutrho,\n",
    "                                    atom.get_atomic_mass(),\n",
    "                                    atom.get_pseudo_file())\n",
    "    p = Popen([pwx_exe], stdout=PIPE, stdin=PIPE, stderr=STDOUT)\n",
    "    stdout, _ = p.communicate(input=conf.encode())\n",
    "    output = stdout.decode()\n",
    "    return parse_output(output)"
   ]
  },
  {
   "cell_type": "code",
   "execution_count": 17,
   "metadata": {},
   "outputs": [],
   "source": [
    "with Pool(processes=12) as pool:\n",
    "        total_energy = pool.map(calc_total_energy, celldims)"
   ]
  },
  {
   "cell_type": "code",
   "execution_count": null,
   "metadata": {},
   "outputs": [],
   "source": [
    "# Расчеты для некоторых значений параметров могли не сойтись\n",
    "idx = [i for i, e in enumerate(total_energy) if e is None]\n",
    "total_energy = list(filter(lambda e: e is not None, total_energy))\n",
    "celldims = np.delete(celldims, idx)"
   ]
  },
  {
   "cell_type": "code",
   "execution_count": 28,
   "metadata": {},
   "outputs": [],
   "source": [
    "np.save(os.path.join(output_dir, 'energy.npy'), np.array([celldims, total_energy]))"
   ]
  },
  {
   "cell_type": "code",
   "execution_count": 32,
   "metadata": {},
   "outputs": [
    {
     "data": {
      "text/plain": [
       "[<matplotlib.lines.Line2D at 0x7fa928278610>]"
      ]
     },
     "execution_count": 32,
     "metadata": {},
     "output_type": "execute_result"
    },
    {
     "data": {
      "image/png": "[encoded data removed]",
      "text/plain": [
       "<Figure size 432x288 with 1 Axes>"
      ]
     },
     "metadata": {
      "needs_background": "light"
     },
     "output_type": "display_data"
    }
   ],
   "source": [
    "plt.plot(celldims, total_energy)"
   ]
  },
  {
   "cell_type": "code",
   "execution_count": 33,
   "metadata": {},
   "outputs": [
    {
     "data": {
      "text/plain": [
       "(12.560509205804344, -884.10351003)"
      ]
     },
     "execution_count": 33,
     "metadata": {},
     "output_type": "execute_result"
    }
   ],
   "source": [
    "idx = np.argmin(total_energy)\n",
    "min_celldim, min_energy = celldims[idx], total_energy[idx]\n",
    "min_celldim, min_energy"
   ]
  },
  {
   "cell_type": "markdown",
   "metadata": {},
   "source": [
    "### 3. Поиск оптимальных параметров отсечения кинетической энергии для волновых функций, плотности заряда и потенциала"
   ]
  },
  {
   "cell_type": "code",
   "execution_count": 34,
   "metadata": {},
   "outputs": [],
   "source": [
    "ecutwfc_values = [20, 30, 40, 50]\n",
    "ecutrho_coeff = [3, 4, 5]\n",
    "\n",
    "ecut_values = [(i, c * i) for i in ecutwfc_values for c in ecutrho_coeff]"
   ]
  },
  {
   "cell_type": "code",
   "execution_count": 35,
   "metadata": {},
   "outputs": [],
   "source": [
    "def calc_energy_with_cutoff(values):\n",
    "    ecutwfc, ecutrho = values\n",
    "    conf = pwx_lattice_config.format(f'lattice_{ecutwfc}_{ecutrho}',\n",
    "                                    pseudo_dir,\n",
    "                                    output_dir,\n",
    "                                    min_celldim,\n",
    "                                    ecutwfc,\n",
    "                                    ecutrho,\n",
    "                                    atom.get_atomic_mass(),\n",
    "                                    atom.get_pseudo_file())\n",
    "    p = Popen([pwx_exe], stdout=PIPE, stdin=PIPE, stderr=STDOUT)\n",
    "    stdout, _ = p.communicate(input=conf.encode())\n",
    "    output = stdout.decode()\n",
    "    output = parse_output(output)\n",
    "    return ecutwfc, ecutrho, output if output is not None else None"
   ]
  },
  {
   "cell_type": "code",
   "execution_count": 39,
   "metadata": {},
   "outputs": [],
   "source": [
    "with Pool(processes=12) as pool:\n",
    "        results = pool.map(calc_energy_with_cutoff, ecut_values)"
   ]
  },
  {
   "cell_type": "code",
   "execution_count": 40,
   "metadata": {},
   "outputs": [],
   "source": [
    "# Расчеты для некоторых значений параметров могли не сойтись\n",
    "results = list(filter(lambda r: r is not None, results))"
   ]
  },
  {
   "cell_type": "code",
   "execution_count": 52,
   "metadata": {},
   "outputs": [
    {
     "data": {
      "text/plain": [
       "(array([[-865.48233179, -865.41565789, -865.38762745],\n",
       "        [-882.84542789, -882.84250045, -882.83211001],\n",
       "        [-884.08476501, -884.0723022 , -884.06966217],\n",
       "        [-884.10475109, -884.10356329, -884.10370163]]),\n",
       " [(20, 60, -865.48233179),\n",
       "  (20, 80, -865.41565789),\n",
       "  (20, 100, -865.38762745),\n",
       "  (30, 90, -882.84542789),\n",
       "  (30, 120, -882.84250045),\n",
       "  (30, 150, -882.83211001),\n",
       "  (40, 120, -884.08476501),\n",
       "  (40, 160, -884.0723022),\n",
       "  (40, 200, -884.06966217),\n",
       "  (50, 150, -884.10475109),\n",
       "  (50, 200, -884.10356329),\n",
       "  (50, 250, -884.10370163)])"
      ]
     },
     "execution_count": 52,
     "metadata": {},
     "output_type": "execute_result"
    }
   ],
   "source": [
    "img_arr = [t[2] for t in results]\n",
    "img = np.array(img_arr).reshape((len(ecutwfc_values), len(ecutrho_coeff)))\n",
    "img, results"
   ]
  },
  {
   "cell_type": "code",
   "execution_count": 54,
   "metadata": {},
   "outputs": [
    {
     "name": "stdout",
     "output_type": "stream",
     "text": [
      "[[0.77858065 0.7777879  0.77745462]\n",
      " [0.98502673 0.98499192 0.98486838]\n",
      " [0.99976237 0.99961418 0.9995828 ]\n",
      " [1.         0.99998588 0.99998752]]\n"
     ]
    },
    {
     "data": {
      "image/png": "[encoded data removed]",
      "text/plain": [
       "<Figure size 432x288 with 1 Axes>"
      ]
     },
     "metadata": {
      "needs_background": "light"
     },
     "output_type": "display_data"
    }
   ],
   "source": [
    "img = np.abs(img)\n",
    "img /= np.max(img)\n",
    "plt.imshow(img)\n",
    "print(img)"
   ]
  },
  {
   "cell_type": "markdown",
   "metadata": {},
   "source": [
    "### 4. Рассчет энергии когезии"
   ]
  },
  {
   "cell_type": "code",
   "execution_count": 60,
   "metadata": {},
   "outputs": [],
   "source": [
    "def calc_vacuum_energy(celldim):\n",
    "    conf = pwx_vacuum_config .format(f'vacuum_{celldim}',\n",
    "                                    pseudo_dir,\n",
    "                                    output_dir,\n",
    "                                    2.5 * celldim,\n",
    "                                    ecutwfc,\n",
    "                                    ecutrho,\n",
    "                                    atom.get_atomic_mass(),\n",
    "                                    atom.get_pseudo_file())\n",
    "    p = Popen([pwx_exe], stdout=PIPE, stdin=PIPE, stderr=STDOUT)\n",
    "    stdout, _ = p.communicate(input=conf.encode())\n",
    "    output = stdout.decode()\n",
    "    return parse_output(output)\n",
    "\n",
    "def cohesive_energy(e_lattice, e_vacuum):\n",
    "    k = 13.6056980659 # eV / Ry\n",
    "    return k * (e_lattice - e_vacuum)"
   ]
  },
  {
   "cell_type": "code",
   "execution_count": 58,
   "metadata": {},
   "outputs": [],
   "source": [
    "vacuum_energy = calc_vacuum_energy(min_celldim)"
   ]
  },
  {
   "cell_type": "code",
   "execution_count": 61,
   "metadata": {},
   "outputs": [
    {
     "data": {
      "text/plain": [
       "-3.079515673062726"
      ]
     },
     "execution_count": 61,
     "metadata": {},
     "output_type": "execute_result"
    }
   ],
   "source": [
    "cohesive_energy(min_energy / 2, vacuum_energy)"
   ]
  },
  {
   "cell_type": "code",
   "execution_count": null,
   "metadata": {},
   "outputs": [],
   "source": []
  }
 ],
 "metadata": {
  "kernelspec": {
   "display_name": "Python 3",
   "language": "python",
   "name": "python3"
  },
  "language_info": {
   "codemirror_mode": {
    "name": "ipython",
    "version": 3
   },
   "file_extension": ".py",
   "mimetype": "text/x-python",
   "name": "python",
   "nbconvert_exporter": "python",
   "pygments_lexer": "ipython3",
   "version": "3.8.1"
  }
 },
 "nbformat": 4,
 "nbformat_minor": 2
}
