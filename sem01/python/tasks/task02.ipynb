{
 "cells": [
  {
   "cell_type": "code",
   "execution_count": 1,
   "metadata": {},
   "outputs": [],
   "source": [
    "import numpy as np"
   ]
  },
  {
   "cell_type": "markdown",
   "metadata": {},
   "source": [
    "### 1. Определим класс узлов бинарного дерева"
   ]
  },
  {
   "cell_type": "code",
   "execution_count": 2,
   "metadata": {},
   "outputs": [],
   "source": [
    "class BinTreeNode:\n",
    "    def __init__(self, value, left=None, right=None):\n",
    "        self.value = value\n",
    "        self.left = left\n",
    "        self.right = right\n",
    "        \n",
    "    @property\n",
    "    def value(self):\n",
    "        '''\n",
    "        value getter: возвращает значение узла\n",
    "        '''\n",
    "        \n",
    "        return self.__value\n",
    "    \n",
    "    @value.setter\n",
    "    def value(self, value):\n",
    "        '''\n",
    "        value setter: задает значение узла\n",
    "        '''\n",
    "        \n",
    "        self.__value = value\n",
    "        \n",
    "    @property\n",
    "    def left(self):\n",
    "        '''\n",
    "        getter left: возвращает ссылку на левое поддерево\n",
    "        '''\n",
    "        return self.__left\n",
    "    \n",
    "    @left.setter\n",
    "    def left(self, left):\n",
    "        '''\n",
    "        setter left: задает ссылку на левое поддерево\n",
    "        '''\n",
    "        self.__left = left\n",
    "    \n",
    "    @property\n",
    "    def right(self):\n",
    "        '''\n",
    "        getter right: возвращает ссылку на правое поддерово\n",
    "        '''\n",
    "        return self.__right\n",
    "    \n",
    "    @right.setter\n",
    "    def right(self, right):\n",
    "        '''\n",
    "        getter right: задет ссылку на правое поддерово\n",
    "        '''\n",
    "        self.__right = right"
   ]
  },
  {
   "cell_type": "markdown",
   "metadata": {},
   "source": [
    "### 2. Определим класс бинарного дерева поиска"
   ]
  },
  {
   "cell_type": "code",
   "execution_count": 3,
   "metadata": {},
   "outputs": [],
   "source": [
    "class BinTree:\n",
    "    '''\n",
    "    Реализация бинарного дерева поиска. Вставляемые элементы должны быть сравнимы.\n",
    "    '''\n",
    "    \n",
    "    def __init__(self):\n",
    "        self.root = None\n",
    "        \n",
    "    def __is_left_child(self, node, parent):\n",
    "        '''\n",
    "        Проверяет, является ли узел правым потомком.\n",
    "        '''\n",
    "        if node.value < parent.value:\n",
    "            return True\n",
    "        \n",
    "        return False\n",
    "    \n",
    "    def __min(self, node, parent):\n",
    "        '''\n",
    "        Рекурсивный поиск минимального элемента.\n",
    "        '''\n",
    "        if node.left is None:\n",
    "            return node, parent\n",
    "            \n",
    "        return __min(node.left, node)\n",
    "    \n",
    "    def __max(self, node, parent):\n",
    "        '''\n",
    "        Рекурсивный поиск максимального элемента.\n",
    "        '''\n",
    "        if node.right is None:\n",
    "            return node, parent\n",
    "        \n",
    "        return __max(node.right, node)\n",
    "    \n",
    "    def __iterate_tree(self, root):\n",
    "        '''\n",
    "        Генератор упорядоченных значений элементов дерева.\n",
    "        '''\n",
    "        if root == None:\n",
    "            return\n",
    "        \n",
    "        yield from self.__iterate_tree(root.left)\n",
    "        yield root.value\n",
    "        yield from self.__iterate_tree(root.right)\n",
    "    \n",
    "    def __search_value(self, root, parent, value):\n",
    "        '''\n",
    "        Рекурсивный поиск значения в дереве.\n",
    "        Возвращет узел с даным значением и его родителя\n",
    "        '''\n",
    "        \n",
    "        if root == None:\n",
    "            return None, parent\n",
    "        \n",
    "        if value == root.value:\n",
    "            return root, parent\n",
    "        \n",
    "        if value < root.value:\n",
    "            return self.__search_value(root.left, root, value)\n",
    "        \n",
    "        return self.__search_value(root.right, root, value)\n",
    "    \n",
    "    def __iter__(self):\n",
    "        '''\n",
    "        Конвертирует объект в итератор.\n",
    "        '''\n",
    "        return self.__iterate_tree(self.root)\n",
    "    \n",
    "    def __len__(self):\n",
    "        '''\n",
    "        Возвращает количество элементов в дереве.\n",
    "        '''\n",
    "        return sum(1 for _ in iter(self))\n",
    "    \n",
    "    def __add__(self, value):\n",
    "        '''\n",
    "        Перегруженная операция '+' для вставки элемента в дерево.\n",
    "        '''\n",
    "        self.insert(value)\n",
    "        \n",
    "    def __sub__(self, value):\n",
    "        '''\n",
    "        Перегруженная операция '-' для удаления элемента из дерева.\n",
    "        '''\n",
    "        self.delete(value)\n",
    "        \n",
    "    def max_item(self):\n",
    "        '''\n",
    "        Возвращает максимальный элемент дерева.\n",
    "        '''\n",
    "        \n",
    "        if self.root is None:\n",
    "            return None\n",
    "        \n",
    "        node, _ = __max(self.root)\n",
    "        return node\n",
    "    \n",
    "    def min_item(self):\n",
    "        '''\n",
    "        Возвращает минимальный элемент дерева.\n",
    "        '''\n",
    "        \n",
    "        if self.root is None:\n",
    "            return None\n",
    "        node, _ = __min(self.root)\n",
    "        return node\n",
    "    \n",
    "    def insert(self, value):\n",
    "        '''\n",
    "        Вставка элемента в дерево.\n",
    "        Использует рекурсивную функцию __search_value для поиска родителя\n",
    "        вставляемой вершины.\n",
    "        '''\n",
    "        \n",
    "        node = BinTreeNode(value)\n",
    "        \n",
    "        if self.root is None:\n",
    "            self.root = node\n",
    "            return\n",
    "        \n",
    "        exist_node, parent = self.__search_value(self.root, None, value)\n",
    "        if not (exist_node is None):\n",
    "            return\n",
    "        \n",
    "        if value < parent.value:\n",
    "            parent.left = node\n",
    "        else:\n",
    "            parent.right = node\n",
    "    \n",
    "    def delete(self, value):\n",
    "        '''\n",
    "        Удаление элемента из дерева.\n",
    "        Использует рекурсивную функцию __search_value для поиска родителя\n",
    "        удаляемой вершины.\n",
    "        '''\n",
    "        \n",
    "        if self.root is None:\n",
    "            return False\n",
    "        \n",
    "        node, parent = self.__search_value(self.root, None, value)\n",
    "        \n",
    "        if node is None:\n",
    "            return False\n",
    "        \n",
    "        # Узел - лист\n",
    "        if node.left is None and node.right is None:\n",
    "            if parent is None:\n",
    "                self.root = None\n",
    "                return True\n",
    "            \n",
    "            if self.__is_left_child(node, parent):\n",
    "                parent.left = None\n",
    "            else:\n",
    "                parent.right = None\n",
    "            \n",
    "            return True\n",
    "        \n",
    "        # Узел с одним дочерним узлом\n",
    "        if not (node.left is None) and node.right is None:\n",
    "            if parent is None:\n",
    "                self.root = node.left\n",
    "                return True\n",
    "            \n",
    "            parent.left = node.left\n",
    "            return True\n",
    "        elif node.left is None and not (node.right is None):\n",
    "            if parent is None:\n",
    "                self.root = node.right\n",
    "                return True\n",
    "            \n",
    "            parent.right = node.right\n",
    "            return True\n",
    "        \n",
    "        # Узел с двумя дочерними узлами\n",
    "        min_node, min_parent = self.__min(node.right, node)\n",
    "        if min_parent != node:\n",
    "            min_parent.left = None\n",
    "        \n",
    "        if parent is None:\n",
    "            self.root = min_node\n",
    "        elif self.__is_left_child(node, parent):\n",
    "            parent.left = min_node\n",
    "        else:\n",
    "            parent.right = min_node\n",
    "        \n",
    "        min_node.left = node.left\n",
    "            \n",
    "        return True\n",
    "            \n",
    "    \n",
    "    def search(self, value):\n",
    "        '''\n",
    "        Поиск узла с заданным значением.\n",
    "        '''\n",
    "        \n",
    "        node, _ = self.__search_value(self.root, None, value)\n",
    "        return node\n",
    "    \n",
    "    def contains(self, value):\n",
    "        '''\n",
    "        Проверка наличия элемента в дереве.\n",
    "        Возвращет будевские значения.\n",
    "        '''\n",
    "        \n",
    "        return self.search(value) != None\n",
    "    \n",
    "    def get(self, value, metric=lambda x, y: np.abs(x - y)):\n",
    "        '''\n",
    "        Возвращает ближайщее значение к данному по метрике.\n",
    "        Если значение есть в дереве, всегда возвращается нулевое значение метрики.\n",
    "        В случае отсутствия значения, возращается разница между значением и его\n",
    "        предполагаемым родительским узлом.\n",
    "        '''\n",
    "    \n",
    "        if self.root is None:\n",
    "            return None\n",
    "    \n",
    "        node, parent = self.__search_value(self.root, None, value)\n",
    "        \n",
    "        if not (node is None):\n",
    "            return value, 0\n",
    "        \n",
    "        return parent.value, metric(parent.value, value)\n",
    "        \n",
    "        "
   ]
  },
  {
   "cell_type": "markdown",
   "metadata": {},
   "source": [
    "### 3. Тестирование работы дерева на числовых значениях"
   ]
  },
  {
   "cell_type": "code",
   "execution_count": 4,
   "metadata": {},
   "outputs": [
    {
     "data": {
      "text/plain": [
       "5"
      ]
     },
     "execution_count": 4,
     "metadata": {},
     "output_type": "execute_result"
    }
   ],
   "source": [
    "t = BinTree()\n",
    "t.insert(10)\n",
    "t.insert(9)\n",
    "t.insert(11)\n",
    "t + 12\n",
    "t + 5\n",
    "len(t)"
   ]
  },
  {
   "cell_type": "code",
   "execution_count": 5,
   "metadata": {},
   "outputs": [
    {
     "data": {
      "text/plain": [
       "[5, 9, 10, 11, 12]"
      ]
     },
     "execution_count": 5,
     "metadata": {},
     "output_type": "execute_result"
    }
   ],
   "source": [
    "it = iter(t)\n",
    "list(it)"
   ]
  },
  {
   "cell_type": "code",
   "execution_count": 6,
   "metadata": {},
   "outputs": [
    {
     "data": {
      "text/plain": [
       "(12, 1)"
      ]
     },
     "execution_count": 6,
     "metadata": {},
     "output_type": "execute_result"
    }
   ],
   "source": [
    "t.get(13)"
   ]
  },
  {
   "cell_type": "code",
   "execution_count": 7,
   "metadata": {},
   "outputs": [
    {
     "data": {
      "text/plain": [
       "False"
      ]
     },
     "execution_count": 7,
     "metadata": {},
     "output_type": "execute_result"
    }
   ],
   "source": [
    "t.contains(20)"
   ]
  },
  {
   "cell_type": "code",
   "execution_count": 8,
   "metadata": {},
   "outputs": [
    {
     "data": {
      "text/plain": [
       "[5, 9, 11, 12]"
      ]
     },
     "execution_count": 8,
     "metadata": {},
     "output_type": "execute_result"
    }
   ],
   "source": [
    "t.delete(10)\n",
    "list(iter(t))"
   ]
  },
  {
   "cell_type": "code",
   "execution_count": 9,
   "metadata": {},
   "outputs": [
    {
     "data": {
      "text/plain": [
       "[9, 11, 12]"
      ]
     },
     "execution_count": 9,
     "metadata": {},
     "output_type": "execute_result"
    }
   ],
   "source": [
    "t - 5\n",
    "list(iter(t))"
   ]
  },
  {
   "cell_type": "code",
   "execution_count": 10,
   "metadata": {},
   "outputs": [
    {
     "data": {
      "text/plain": [
       "[9, 12]"
      ]
     },
     "execution_count": 10,
     "metadata": {},
     "output_type": "execute_result"
    }
   ],
   "source": [
    "t - 11\n",
    "list(iter(t))"
   ]
  },
  {
   "cell_type": "code",
   "execution_count": 11,
   "metadata": {},
   "outputs": [
    {
     "data": {
      "text/plain": [
       "1000"
      ]
     },
     "execution_count": 11,
     "metadata": {},
     "output_type": "execute_result"
    }
   ],
   "source": [
    "t = BinTree()\n",
    "for i in range(1000):\n",
    "    t + i\n",
    "len(t)"
   ]
  },
  {
   "cell_type": "markdown",
   "metadata": {},
   "source": [
    "### 4. Тестирование дерева на строках"
   ]
  },
  {
   "cell_type": "markdown",
   "metadata": {},
   "source": [
    "В качестве метрики будем использовать расстояние Левенштейна\n",
    "$$d(S_1, S_2) = D(M, N),$$\n",
    "где\n",
    "\n",
    "$$D(i, j) = \n",
    "\\begin{cases}\n",
    "    0, & i = 0, j = 0 \\\\\n",
    "    i * c_2, & j = 0, i > 0 \\\\\n",
    "    j * c_1, & i = 0, j > 0 \\\\\n",
    "    \\min(D(i - 1, j) + c_1, D(i, j - 1) + c_2, D(i - 1, j - 1) + c_3), & i > 0, j > 0 \\\\\n",
    " \\end{cases}$$\n",
    " \n",
    " $c_1$, $c_2$ и $c_3$ - стоимость вставки, удаления и замены одного символа\n",
    " соответственно."
   ]
  },
  {
   "cell_type": "code",
   "execution_count": 12,
   "metadata": {},
   "outputs": [],
   "source": [
    "import numpy as np\n",
    "\n",
    "def levenstein_dist(s1, s2, insert_cost=1, delete_cost=1, replace_cost=1):\n",
    "    m = len(s1)\n",
    "    n = len(s2)\n",
    "    d = np.zeros((m + 1, n + 1), dtype=np.int)\n",
    "    \n",
    "    for j in range(1, n + 1):\n",
    "        d[0][j] = d[0][j - 1] + insert_cost\n",
    "    \n",
    "    for i in range(1, m + 1):\n",
    "        d[i][0] = d[i - 1][0] + delete_cost\n",
    "    \n",
    "    for i in range(1, m + 1):\n",
    "        for j in range(1, n + 1):\n",
    "            if s1[i - 1] != s2[j - 1]:\n",
    "                d[i][j] = min(d[i - 1][j] + delete_cost,\n",
    "                              d[i][j - 1] + insert_cost,\n",
    "                              d[i - 1][j - 1] + replace_cost)\n",
    "            else:\n",
    "                d[i][j] = d[i - 1][j - 1]\n",
    "    \n",
    "    return d[m][n]"
   ]
  },
  {
   "cell_type": "markdown",
   "metadata": {},
   "source": [
    "Генератор строк возьмем из предыдущего ДЗ:"
   ]
  },
  {
   "cell_type": "code",
   "execution_count": 13,
   "metadata": {},
   "outputs": [],
   "source": [
    "import random\n",
    "import string\n",
    "\n",
    "def generate_random_str_list(min_len, max_len, count=1000, char_set=string.ascii_letters):\n",
    "    if min_len >= max_len:\n",
    "        raise ValueError(\"bad min/max values\")\n",
    "    \n",
    "    return [''.join(random.choice(char_set) for i in range(min_len, random.randint(min_len + 1, max_len))) \\\n",
    "            for i in range(count)]"
   ]
  },
  {
   "cell_type": "code",
   "execution_count": 14,
   "metadata": {},
   "outputs": [],
   "source": [
    "rand_strs = generate_random_str_list(8, 64, count=1000)\n",
    "test_rand_strs = generate_random_str_list(8, 64, count=100)"
   ]
  },
  {
   "cell_type": "code",
   "execution_count": 15,
   "metadata": {},
   "outputs": [
    {
     "data": {
      "text/plain": [
       "996"
      ]
     },
     "execution_count": 15,
     "metadata": {},
     "output_type": "execute_result"
    }
   ],
   "source": [
    "t = BinTree()\n",
    "for s in rand_strs:\n",
    "    t + s\n",
    "# Среди сгенерированных строк могут быть одинаковые.\n",
    "len(t)"
   ]
  },
  {
   "cell_type": "code",
   "execution_count": 16,
   "metadata": {},
   "outputs": [
    {
     "data": {
      "text/plain": [
       "('EcHCmdALxf', 0)"
      ]
     },
     "execution_count": 16,
     "metadata": {},
     "output_type": "execute_result"
    }
   ],
   "source": [
    "t.get(rand_strs[500], metric=levenstein_dist)"
   ]
  },
  {
   "cell_type": "code",
   "execution_count": 17,
   "metadata": {},
   "outputs": [
    {
     "data": {
      "text/plain": [
       "'jkofIKyFWZFUCqd'"
      ]
     },
     "execution_count": 17,
     "metadata": {},
     "output_type": "execute_result"
    }
   ],
   "source": [
    "test_rand_strs[50]"
   ]
  },
  {
   "cell_type": "code",
   "execution_count": 18,
   "metadata": {},
   "outputs": [
    {
     "data": {
      "text/plain": [
       "('jhxahSbtWm', 13)"
      ]
     },
     "execution_count": 18,
     "metadata": {},
     "output_type": "execute_result"
    }
   ],
   "source": [
    "t.get(test_rand_strs[50], metric=levenstein_dist)"
   ]
  },
  {
   "cell_type": "code",
   "execution_count": null,
   "metadata": {},
   "outputs": [],
   "source": []
  }
 ],
 "metadata": {
  "kernelspec": {
   "display_name": "Python 3",
   "language": "python",
   "name": "python3"
  },
  "language_info": {
   "codemirror_mode": {
    "name": "ipython",
    "version": 3
   },
   "file_extension": ".py",
   "mimetype": "text/x-python",
   "name": "python",
   "nbconvert_exporter": "python",
   "pygments_lexer": "ipython3",
   "version": "3.7.4"
  }
 },
 "nbformat": 4,
 "nbformat_minor": 2
}
