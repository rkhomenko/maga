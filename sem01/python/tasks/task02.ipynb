{
 "cells": [
  {
   "cell_type": "code",
   "execution_count": 4,
   "metadata": {},
   "outputs": [],
   "source": [
    "class BinTreeNode:\n",
    "    def __init__(self, value, left=None, right=None):\n",
    "        self.value = value\n",
    "        self.left = left\n",
    "        self.right = right\n",
    "        \n",
    "    @property\n",
    "    def value(self):\n",
    "        return self.__value\n",
    "    \n",
    "    @value.setter\n",
    "    def value(self, value):\n",
    "        self.__value = value\n",
    "        \n",
    "    @property\n",
    "    def left(self):\n",
    "        return self.__left\n",
    "    \n",
    "    @left.setter\n",
    "    def left(self, left):\n",
    "        self.__left = left\n",
    "    \n",
    "    @property\n",
    "    def right(self):\n",
    "        return self.__right\n",
    "    \n",
    "    @right.setter\n",
    "    def right(self, right):\n",
    "        self.__right = right"
   ]
  },
  {
   "cell_type": "code",
   "execution_count": 107,
   "metadata": {},
   "outputs": [],
   "source": [
    "class BinTree:\n",
    "    def __init__(self):\n",
    "        self.root = None\n",
    "    \n",
    "    def __iterate_tree(self, root):\n",
    "        if root == None:\n",
    "            return\n",
    "        \n",
    "        yield from self.__iterate_tree(root.left)\n",
    "        yield root.value\n",
    "        yield from self.__iterate_tree(root.right)\n",
    "    \n",
    "    def __search_value(self, root, parent, value):\n",
    "        if root == None:\n",
    "            return None, parent\n",
    "        \n",
    "        if value == root.value:\n",
    "            return root, parent\n",
    "        \n",
    "        if value < root.value:\n",
    "            return self.__search_value(root.left, root, value)\n",
    "        \n",
    "        return self.__search_value(root.right, root, value)\n",
    "    \n",
    "    def __iter__(self):\n",
    "        return self.__iterate_tree(self.root)\n",
    "    \n",
    "    def __len__(self):\n",
    "        return sum(1 for _ in iter(self))\n",
    "    \n",
    "    def __add__(self, value):\n",
    "        self.insert(value)\n",
    "    \n",
    "    def insert(self, value):\n",
    "        node = BinTreeNode(value)\n",
    "        \n",
    "        if self.root == None:\n",
    "            self.root = node\n",
    "            return\n",
    "        \n",
    "        _, parent = self.__search_value(self.root, None, value)\n",
    "        \n",
    "        if value < parent.value:\n",
    "            parent.left = node\n",
    "        else:\n",
    "            parent.right = node\n",
    "    \n",
    "    def search(self, value):\n",
    "        node, _ = self.__search_value(self.root, None, value)\n",
    "        return node\n",
    "    \n",
    "    def contains(self, value):\n",
    "        return self.search(value) != None"
   ]
  },
  {
   "cell_type": "code",
   "execution_count": 108,
   "metadata": {},
   "outputs": [
    {
     "data": {
      "text/plain": [
       "5"
      ]
     },
     "execution_count": 108,
     "metadata": {},
     "output_type": "execute_result"
    }
   ],
   "source": [
    "t = BinTree()\n",
    "t.insert(10)\n",
    "t.insert(9)\n",
    "t.insert(11)\n",
    "t + 12\n",
    "t + 5\n",
    "len(t)"
   ]
  },
  {
   "cell_type": "code",
   "execution_count": 109,
   "metadata": {},
   "outputs": [
    {
     "data": {
      "text/plain": [
       "[5, 9, 10, 11, 12]"
      ]
     },
     "execution_count": 109,
     "metadata": {},
     "output_type": "execute_result"
    }
   ],
   "source": [
    "it = iter(t)\n",
    "list(it)"
   ]
  },
  {
   "cell_type": "code",
   "execution_count": 110,
   "metadata": {},
   "outputs": [
    {
     "data": {
      "text/plain": [
       "False"
      ]
     },
     "execution_count": 110,
     "metadata": {},
     "output_type": "execute_result"
    }
   ],
   "source": [
    "t.contains(20)"
   ]
  },
  {
   "cell_type": "code",
   "execution_count": null,
   "metadata": {},
   "outputs": [],
   "source": []
  }
 ],
 "metadata": {
  "kernelspec": {
   "display_name": "Python 3",
   "language": "python",
   "name": "python3"
  },
  "language_info": {
   "codemirror_mode": {
    "name": "ipython",
    "version": 3
   },
   "file_extension": ".py",
   "mimetype": "text/x-python",
   "name": "python",
   "nbconvert_exporter": "python",
   "pygments_lexer": "ipython3",
   "version": "3.7.4"
  }
 },
 "nbformat": 4,
 "nbformat_minor": 2
}
