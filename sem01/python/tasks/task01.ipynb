{
 "cells": [
  {
   "cell_type": "markdown",
   "metadata": {},
   "source": [
    "### 1. Создайте список из 1000 случайных строк, состоящих из латинских букв."
   ]
  },
  {
   "cell_type": "code",
   "execution_count": 5,
   "metadata": {},
   "outputs": [],
   "source": [
    "import random\n",
    "import string"
   ]
  },
  {
   "cell_type": "code",
   "execution_count": 6,
   "metadata": {},
   "outputs": [],
   "source": [
    "def generate_random_str_list(min_len, max_len, count=1000, char_set=string.ascii_letters):\n",
    "    if min_len >= max_len:\n",
    "        raise ValueError(\"bad min/max values\")\n",
    "    \n",
    "    return [''.join(random.choice(char_set) for i in range(min_len, random.randint(min_len + 1, max_len))) \\\n",
    "            for i in range(count)]"
   ]
  },
  {
   "cell_type": "code",
   "execution_count": 7,
   "metadata": {},
   "outputs": [],
   "source": [
    "rand_strs = generate_random_str_list(1, 100)"
   ]
  },
  {
   "cell_type": "markdown",
   "metadata": {},
   "source": [
    "### 2. Каждая строка - случайной длиной от 3 до 8 символов."
   ]
  },
  {
   "cell_type": "code",
   "execution_count": 8,
   "metadata": {},
   "outputs": [],
   "source": [
    "rand_strs = generate_random_str_list(3, 8)"
   ]
  },
  {
   "cell_type": "markdown",
   "metadata": {},
   "source": [
    "### 3. Реализуйте бинарное дерево для строк\n",
    "Каждый узел дерева будет списком (кортежи не подойдут из-за неизменяемости).\n",
    "Первый элемент списка - значение узла, второй - левый узел (список или None),\n",
    "третий - правый узел (список или None)."
   ]
  },
  {
   "cell_type": "code",
   "execution_count": 10,
   "metadata": {},
   "outputs": [],
   "source": [
    "def tree_insert(root, s):\n",
    "    if len(root) == 0:\n",
    "        root.extend([s, None, None])\n",
    "        return\n",
    "\n",
    "    parent = None\n",
    "    node = root\n",
    "    \n",
    "    while node != None:\n",
    "        value, left, right = node[0], node[1], node[2]\n",
    "        parent = node\n",
    "        \n",
    "        if s < value:\n",
    "            node = left;\n",
    "        else:\n",
    "            node = right\n",
    "\n",
    "    value = parent[0]\n",
    "    new_node = [s, None, None]\n",
    "    if s < value:\n",
    "        parent[1] = new_node\n",
    "    else:\n",
    "        parent[2] = new_node"
   ]
  },
  {
   "cell_type": "markdown",
   "metadata": {},
   "source": [
    "Построение дерева будет работать для любых типов, допускающих сравнение. Тестирование на числовых данных:"
   ]
  },
  {
   "cell_type": "code",
   "execution_count": 11,
   "metadata": {},
   "outputs": [
    {
     "name": "stdout",
     "output_type": "stream",
     "text": [
      "[100, [50, [49, None, None], [51, None, None]], [150, None, None]]\n"
     ]
    }
   ],
   "source": [
    "# Result:\n",
    "#                           100\n",
    "#                          /   \\\n",
    "#                        50     150\n",
    "#                       /  \\\n",
    "#                     49    51\n",
    "\n",
    "root = []\n",
    "\n",
    "tree_insert(root, 100)\n",
    "tree_insert(root, 50)\n",
    "tree_insert(root, 49)\n",
    "tree_insert(root, 150)\n",
    "tree_insert(root, 51)\n",
    "\n",
    "print(root)"
   ]
  },
  {
   "cell_type": "code",
   "execution_count": 13,
   "metadata": {},
   "outputs": [],
   "source": [
    "root = []\n",
    "for s in rand_strs:\n",
    "    tree_insert(root, s)"
   ]
  },
  {
   "cell_type": "code",
   "execution_count": null,
   "metadata": {},
   "outputs": [],
   "source": []
  }
 ],
 "metadata": {
  "kernelspec": {
   "display_name": "Python 3",
   "language": "python",
   "name": "python3"
  },
  "language_info": {
   "codemirror_mode": {
    "name": "ipython",
    "version": 3
   },
   "file_extension": ".py",
   "mimetype": "text/x-python",
   "name": "python",
   "nbconvert_exporter": "python",
   "pygments_lexer": "ipython3",
   "version": "3.7.4"
  }
 },
 "nbformat": 4,
 "nbformat_minor": 2
}
