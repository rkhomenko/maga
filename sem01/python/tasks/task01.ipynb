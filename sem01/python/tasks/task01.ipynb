{
 "cells": [
  {
   "cell_type": "markdown",
   "metadata": {},
   "source": [
    "### 1. Создайте список из 1000 случайных строк, состоящих из латинских букв."
   ]
  },
  {
   "cell_type": "code",
   "execution_count": 1,
   "metadata": {},
   "outputs": [],
   "source": [
    "import random\n",
    "import string\n",
    "import numpy as np"
   ]
  },
  {
   "cell_type": "code",
   "execution_count": 2,
   "metadata": {},
   "outputs": [],
   "source": [
    "def generate_random_str_list(min_len, max_len, count=1000, char_set=string.ascii_letters):\n",
    "    if min_len >= max_len:\n",
    "        raise ValueError(\"bad min/max values\")\n",
    "    \n",
    "    return [''.join(random.choice(char_set) for i in range(min_len, random.randint(min_len + 1, max_len))) \\\n",
    "            for i in range(count)]"
   ]
  },
  {
   "cell_type": "code",
   "execution_count": 3,
   "metadata": {},
   "outputs": [],
   "source": [
    "rand_strs = generate_random_str_list(1, 100)"
   ]
  },
  {
   "cell_type": "markdown",
   "metadata": {},
   "source": [
    "### 2. Каждая строка - случайной длиной от 3 до 8 символов."
   ]
  },
  {
   "cell_type": "code",
   "execution_count": 4,
   "metadata": {},
   "outputs": [],
   "source": [
    "rand_strs = generate_random_str_list(3, 8)"
   ]
  },
  {
   "cell_type": "markdown",
   "metadata": {},
   "source": [
    "### 3. Реализуйте бинарное дерево для строк\n",
    "Каждый узел дерева будет списком (кортежи не подойдут из-за неизменяемости).\n",
    "Первый элемент списка - значение узла, второй - левый узел (список или None),\n",
    "третий - правый узел (список или None)."
   ]
  },
  {
   "cell_type": "code",
   "execution_count": 5,
   "metadata": {},
   "outputs": [],
   "source": [
    "def tree_insert(root, s):\n",
    "    if len(root) == 0:\n",
    "        root.extend([s, None, None])\n",
    "        return\n",
    "\n",
    "    parent = None\n",
    "    node = root\n",
    "    \n",
    "    while node != None:\n",
    "        value, left, right = node[0], node[1], node[2]\n",
    "        parent = node\n",
    "        \n",
    "        if s < value:\n",
    "            node = left;\n",
    "        else:\n",
    "            node = right\n",
    "\n",
    "    value = parent[0]\n",
    "    new_node = [s, None, None]\n",
    "    if s < value:\n",
    "        parent[1] = new_node\n",
    "    else:\n",
    "        parent[2] = new_node"
   ]
  },
  {
   "cell_type": "markdown",
   "metadata": {},
   "source": [
    "Построение дерева будет работать для любых типов, допускающих сравнение. Тестирование на числовых данных:"
   ]
  },
  {
   "cell_type": "code",
   "execution_count": 6,
   "metadata": {},
   "outputs": [
    {
     "name": "stdout",
     "output_type": "stream",
     "text": [
      "[100, [50, [49, None, None], [51, None, None]], [150, None, None]]\n"
     ]
    }
   ],
   "source": [
    "# Result:\n",
    "#                           100\n",
    "#                          /   \\\n",
    "#                        50     150\n",
    "#                       /  \\\n",
    "#                     49    51\n",
    "\n",
    "root = []\n",
    "\n",
    "tree_insert(root, 100)\n",
    "tree_insert(root, 50)\n",
    "tree_insert(root, 49)\n",
    "tree_insert(root, 150)\n",
    "tree_insert(root, 51)\n",
    "\n",
    "print(root)"
   ]
  },
  {
   "cell_type": "markdown",
   "metadata": {},
   "source": [
    "Вставка ранее сгенерированных строк:"
   ]
  },
  {
   "cell_type": "code",
   "execution_count": 7,
   "metadata": {},
   "outputs": [],
   "source": [
    "root = []\n",
    "for s in rand_strs:\n",
    "    tree_insert(root, s)"
   ]
  },
  {
   "cell_type": "markdown",
   "metadata": {},
   "source": [
    "### 4. Реализуйте поиск ближайшего слова для заданного."
   ]
  },
  {
   "cell_type": "markdown",
   "metadata": {},
   "source": [
    "В качестве метрики будем использовать расстояние Левенштейна\n",
    "$$d(S_1, S_2) = D(M, N),$$\n",
    "где\n",
    "\n",
    "$$D(i, j) = \n",
    "\\begin{cases}\n",
    "    0, & i = 0, j = 0 \\\\\n",
    "    i * c_2, & j = 0, i > 0 \\\\\n",
    "    j * c_1, & i = 0, j > 0 \\\\\n",
    "    \\min(D(i - 1, j) + c_1, D(i, j - 1) + c_2, D(i - 1, j - 1) + c_3), & i > 0, j > 0 \\\\\n",
    " \\end{cases}$$\n",
    " \n",
    " $c_1$, $c_2$ и $c_3$ - стоимость вставки, удаления и замены одного символа\n",
    " соответственно."
   ]
  },
  {
   "cell_type": "code",
   "execution_count": 62,
   "metadata": {},
   "outputs": [],
   "source": [
    "def levenstein_dist(s1, s2, insert_cost, delete_cost, replace_cost):\n",
    "    m = len(s1)\n",
    "    n = len(s2)\n",
    "    d = np.zeros((m + 1, n + 1), dtype=np.int)\n",
    "    \n",
    "    for j in range(1, n + 1):\n",
    "        d[0][j] = d[0][j - 1] + insert_cost\n",
    "    \n",
    "    for i in range(1, m + 1):\n",
    "        d[i][0] = d[i - 1][0] + delete_cost\n",
    "    \n",
    "    for i in range(1, m + 1):\n",
    "        for j in range(1, n + 1):\n",
    "            if s1[i - 1] != s2[j - 1]:\n",
    "                d[i][j] = min(d[i - 1][j] + delete_cost,\n",
    "                              d[i][j - 1] + insert_cost,\n",
    "                              d[i - 1][j - 1] + replace_cost)\n",
    "            else:\n",
    "                d[i][j] = d[i - 1][j - 1]\n",
    "    \n",
    "    return d[m][n]"
   ]
  },
  {
   "cell_type": "markdown",
   "metadata": {},
   "source": [
    "Стоимости вставки, удаления и замены сделаем одинаковыми."
   ]
  },
  {
   "cell_type": "code",
   "execution_count": 67,
   "metadata": {},
   "outputs": [
    {
     "data": {
      "text/plain": [
       "4"
      ]
     },
     "execution_count": 67,
     "metadata": {},
     "output_type": "execute_result"
    }
   ],
   "source": [
    "insert_cost = 1\n",
    "delete_cost = 1\n",
    "replace_cost = 1\n",
    "\n",
    "levenstein_dist(\"connect\", \"conehead\", insert_cost, delete_cost, replace_cost)"
   ]
  },
  {
   "cell_type": "code",
   "execution_count": 68,
   "metadata": {},
   "outputs": [
    {
     "name": "stdout",
     "output_type": "stream",
     "text": [
      "VGEtD\n",
      "0 ['VGEtD']\n",
      "3 ['yGnD', 'MmtD', 'VZYTD']\n",
      "4 ['GLw', 'YEY', 'DEdb']\n",
      "5 ['d', 'YCIke', 'foC']\n"
     ]
    }
   ],
   "source": [
    "s = rand_strs[random.randint(0, len(rand_strs))]\n",
    "ht = {}\n",
    "\n",
    "for item in rand_strs:\n",
    "    dist = levenstein_dist(s, item, insert_cost, delete_cost, replace_cost)\n",
    "    words = ht.get(dist)\n",
    "    \n",
    "    if words == None:\n",
    "        ht[dist] = [item]\n",
    "    else:\n",
    "        words.append(item)\n",
    "        ht[dist] = words\n",
    "\n",
    "dist_words_pairs = list(zip(ht.keys(), ht.values()))\n",
    "dist_words_pairs.sort()\n",
    "\n",
    "print(s)\n",
    "\n",
    "for dist, words in dist_words_pairs[:10]:\n",
    "    print(dist, words[:3])"
   ]
  },
  {
   "cell_type": "code",
   "execution_count": null,
   "metadata": {},
   "outputs": [],
   "source": []
  }
 ],
 "metadata": {
  "kernelspec": {
   "display_name": "Python 3",
   "language": "python",
   "name": "python3"
  },
  "language_info": {
   "codemirror_mode": {
    "name": "ipython",
    "version": 3
   },
   "file_extension": ".py",
   "mimetype": "text/x-python",
   "name": "python",
   "nbconvert_exporter": "python",
   "pygments_lexer": "ipython3",
   "version": "3.7.4"
  }
 },
 "nbformat": 4,
 "nbformat_minor": 2
}
