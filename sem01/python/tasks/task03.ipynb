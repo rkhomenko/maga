{
 "cells": [
  {
   "cell_type": "code",
   "execution_count": 1,
   "metadata": {},
   "outputs": [],
   "source": [
    "import math\n",
    "import numpy as np\n",
    "import sklearn\n",
    "import sklearn.model_selection\n",
    "import sklearn.datasets"
   ]
  },
  {
   "cell_type": "markdown",
   "metadata": {},
   "source": [
    "### 1. Определим функции для вычисления энтропии"
   ]
  },
  {
   "cell_type": "code",
   "execution_count": 2,
   "metadata": {},
   "outputs": [],
   "source": [
    "def entropy_func(c, n):\n",
    "    p = c * 1.0 / n\n",
    "    return -p * math.log(p, 2)\n",
    "\n",
    "def entropy_cal(c1, c2):\n",
    "    if c1== 0 or c2 == 0:\n",
    "        return 0\n",
    "    \n",
    "    return entropy_func(c1, c1+c2) + entropy_func(c2, c1+c2)\n",
    "\n",
    "def entropy_of_one_division(division): \n",
    "    s = 0\n",
    "    n = len(division)\n",
    "    classes = set(division)\n",
    "    for c in classes:\n",
    "        n_c = sum(division==c)\n",
    "        e = n_c*1.0/n * entropy_cal(sum(division==c), sum(division!=c))\n",
    "        s += e\n",
    "    return s, n\n",
    "\n",
    "def get_entropy(y_predict, y_real):\n",
    "    if len(y_predict) != len(y_real):\n",
    "        print('They have to be the same length')\n",
    "        return None\n",
    "    n = len(y_real)\n",
    "    s_true, n_true = entropy_of_one_division(y_real[y_predict])\n",
    "    s_false, n_false = entropy_of_one_division(y_real[~y_predict])\n",
    "    s = n_true*1.0/n * s_true + n_false*1.0/n * s_false\n",
    "    \n",
    "    return s"
   ]
  },
  {
   "cell_type": "markdown",
   "metadata": {},
   "source": [
    "### 2. Реализуем класс DecisionTree"
   ]
  },
  {
   "cell_type": "code",
   "execution_count": 3,
   "metadata": {},
   "outputs": [],
   "source": [
    "class DecisionTree(object):\n",
    "    def __init__(self, max_depth):\n",
    "        self.depth = 0\n",
    "        self.max_depth = max_depth\n",
    "    \n",
    "    def fit(self, x, y, par_node={}, depth=0):\n",
    "        if par_node is None: \n",
    "            return None\n",
    "        elif len(y) == 0:\n",
    "            return None\n",
    "        elif self.all_same(y):\n",
    "            return {'val':y[0]}\n",
    "        elif depth >= self.max_depth:\n",
    "            return None\n",
    "        else: \n",
    "            col, cutoff, entropy = self.find_best_split_of_all(x, y)\n",
    "            y_left = y[x[:, col] < cutoff]\n",
    "            y_right = y[x[:, col] >= cutoff]\n",
    "            par_node = {'col': iris.feature_names[col], 'index_col':col,\n",
    "                        'cutoff':cutoff,\n",
    "                       'val': np.round(np.mean(y))}\n",
    "            par_node['left'] = self.fit(x[x[:, col] < cutoff], y_left, {}, depth+1)\n",
    "            par_node['right'] = self.fit(x[x[:, col] >= cutoff], y_right, {}, depth+1)\n",
    "            self.depth += 1 \n",
    "            self.trees = par_node\n",
    "            return par_node\n",
    "    \n",
    "    def find_best_split_of_all(self, x, y):\n",
    "        col = None\n",
    "        min_entropy = 1\n",
    "        cutoff = None\n",
    "        for i, c in enumerate(x.T):\n",
    "            entropy, cur_cutoff = self.find_best_split(c, y)\n",
    "            if entropy == 0:\n",
    "                return i, cur_cutoff, entropy\n",
    "            elif entropy <= min_entropy:\n",
    "                min_entropy = entropy\n",
    "                col = i\n",
    "                cutoff = cur_cutoff\n",
    "        return col, cutoff, min_entropy\n",
    "    \n",
    "    def find_best_split(self, col, y):\n",
    "        min_entropy = 10\n",
    "        n = len(y)\n",
    "        for value in set(col):\n",
    "            y_predict = col < value\n",
    "            my_entropy = get_entropy(y_predict, y)\n",
    "            if my_entropy <= min_entropy:\n",
    "                min_entropy = my_entropy\n",
    "                cutoff = value\n",
    "        return min_entropy, cutoff\n",
    "    \n",
    "    def all_same(self, items):\n",
    "        return all(x == items[0] for x in items)\n",
    "                                           \n",
    "    def predict(self, x):\n",
    "        tree = self.trees\n",
    "        results = np.array([0]*len(x))\n",
    "        for i, c in enumerate(x):\n",
    "            results[i] = self._get_prediction(c)\n",
    "        return results\n",
    "    \n",
    "    def _get_prediction(self, row):\n",
    "        cur_layer = self.trees\n",
    "        while cur_layer.get('cutoff'):\n",
    "            if row[cur_layer['index_col']] < cur_layer['cutoff']:\n",
    "                cur_layer = cur_layer['left']\n",
    "            else:\n",
    "                cur_layer = cur_layer['right']\n",
    "        else:\n",
    "            return cur_layer.get('val')"
   ]
  },
  {
   "cell_type": "markdown",
   "metadata": {},
   "source": [
    "### 3. Подготовка данных для обучения и тестирования классификатора"
   ]
  },
  {
   "cell_type": "code",
   "execution_count": 4,
   "metadata": {},
   "outputs": [],
   "source": [
    "iris = sklearn.datasets.load_iris()\n",
    "\n",
    "x = iris.data\n",
    "y = iris.target\n",
    "\n",
    "X_train, X_test, y_train, y_test = \\\n",
    "    sklearn.model_selection.train_test_split(iris.data, iris.target,\n",
    "                                             test_size=0.4, random_state=0)"
   ]
  },
  {
   "cell_type": "markdown",
   "metadata": {},
   "source": [
    "### 4. Обучение и тестирование классификатора"
   ]
  },
  {
   "cell_type": "code",
   "execution_count": 5,
   "metadata": {},
   "outputs": [],
   "source": [
    "clf = DecisionTree(max_depth=7)\n",
    "m = clf.fit(X_train, y_train)"
   ]
  },
  {
   "cell_type": "code",
   "execution_count": 6,
   "metadata": {},
   "outputs": [
    {
     "data": {
      "text/plain": [
       "(57, 60)"
      ]
     },
     "execution_count": 6,
     "metadata": {},
     "output_type": "execute_result"
    }
   ],
   "source": [
    "sum(y_test == clf.predict(X_test)), X_test.shape[0]"
   ]
  },
  {
   "cell_type": "code",
   "execution_count": null,
   "metadata": {},
   "outputs": [],
   "source": []
  }
 ],
 "metadata": {
  "kernelspec": {
   "display_name": "Python 3",
   "language": "python",
   "name": "python3"
  },
  "language_info": {
   "codemirror_mode": {
    "name": "ipython",
    "version": 3
   },
   "file_extension": ".py",
   "mimetype": "text/x-python",
   "name": "python",
   "nbconvert_exporter": "python",
   "pygments_lexer": "ipython3",
   "version": "3.7.4"
  }
 },
 "nbformat": 4,
 "nbformat_minor": 2
}
