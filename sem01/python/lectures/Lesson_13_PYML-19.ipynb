{
 "cells": [
  {
   "cell_type": "markdown",
   "metadata": {},
   "source": [
    "<center>\n",
    "<h1>Факультет \"Прикладная математика\" МАИ</h1>\n",
    "<h2>Курс \"Основы Python для анализа данных\"</h2>\n",
    "<h2>Артамонов Игорь Михайлович</h2>\n",
    "</center>"
   ]
  },
  {
   "cell_type": "markdown",
   "metadata": {},
   "source": [
    "<center><h2>Занятие № 13. Обработка изображений.</h2></center>"
   ]
  },
  {
   "cell_type": "markdown",
   "metadata": {},
   "source": [
    "## Общение / вопросы по курсу\n",
    "\n",
    "Платформа для групповой работы Atlassian Confluence факультета \"Прикладная математика\"\n",
    "\n",
    "https://mai.moscow/display/PYTML"
   ]
  },
  {
   "cell_type": "markdown",
   "metadata": {},
   "source": [
    "* <b>Занятие № 13. Обработка изображений</b>"
   ]
  },
  {
   "cell_type": "markdown",
   "metadata": {},
   "source": [
    "## virtualenv + Jupyter notebook"
   ]
  },
  {
   "cell_type": "markdown",
   "metadata": {},
   "source": [
    "```\n",
    "<Ctrl> + <Alt> + T - новое окно терминала\n",
    "```"
   ]
  },
  {
   "cell_type": "markdown",
   "metadata": {},
   "source": [
    "```\n",
    "$ conda -V\n",
    "\n",
    "$ conda update conda\n",
    "\n",
    "$ conda search \"^python$\"\n",
    "\n",
    "$ conda create -n yourenvname python=x.x anaconda\n",
    "\n",
    "$ source activate yourenvname\n",
    "\n",
    "$ jupyter notebook\n",
    "\n",
    "$ conda install -n yourenvname [package]\n",
    "```"
   ]
  },
  {
   "cell_type": "markdown",
   "metadata": {},
   "source": [
    "### <font color=\"green\">ВОПРОС</a>\n",
    "Какие задачи машинного обучения для __изображений__ могут быть:\n",
    "* регрессией\n",
    "* классификацией"
   ]
  },
  {
   "cell_type": "markdown",
   "metadata": {},
   "source": [
    "##   Обработка изображений.</h2></center>"
   ]
  },
  {
   "cell_type": "markdown",
   "metadata": {},
   "source": [
    "#### О чем говорим\n",
    "* MLP - проблемы\n",
    "* Операция свертки\n",
    "* cv2, dlib, keras, \n",
    "* Область обработки (bounding box)\n",
    "* Сверточные нейронные сети\n",
    "* Детектирование лиц\n",
    "* Распозавание лиц\n",
    "* Сегментация"
   ]
  },
  {
   "cell_type": "markdown",
   "metadata": {},
   "source": [
    "## Back propagation\n",
    "\n",
    "https://towardsdatascience.com/understanding-backpropagation-algorithm-7bb3aa2f95fd"
   ]
  },
  {
   "cell_type": "markdown",
   "metadata": {},
   "source": [
    "### Проблемы MLP\n"
   ]
  },
  {
   "cell_type": "markdown",
   "metadata": {},
   "source": [
    "<img src=\"images12/1_fnU_3MGmFp0LBIzRPx42-w.png\">"
   ]
  },
  {
   "cell_type": "markdown",
   "metadata": {},
   "source": [
    "<img src=\"images13/tikz36.png\">"
   ]
  },
  {
   "cell_type": "markdown",
   "metadata": {},
   "source": [
    "* __много параметров__\n",
    "$$\n",
    "N = N_{вх} * N_{hidden 1} +  N_{hidden 1} * N_{hidden 2} + ...  N_{hidden N-1}* N_{hidden N} + N_{hidden N} * N_{вых}\n",
    "$$<br>\n",
    "Следствия:\n",
    "    - медленно\n",
    "    - легко переобучается\n",
    "<br><br>\n",
    "* __затухающие градиенты__\n",
    "    - градиент прогонятеся обратно\n",
    "    - много слоев - может остаться маленькая часть или даже обнулиться\n",
    " "
   ]
  },
  {
   "cell_type": "markdown",
   "metadata": {},
   "source": [
    "### Способы решения\n",
    "* нормализация (normalization / batch normalizaiton)\n",
    "* \"отсеивание\" (dropout)\n",
    "* \"черезслойные\" связи (residual networks)"
   ]
  },
  {
   "cell_type": "code",
   "execution_count": 1,
   "metadata": {},
   "outputs": [],
   "source": [
    "import numpy as np\n",
    "import pandas as pd\n",
    "import matplotlib.pyplot as plt\n",
    "import scipy as sc\n",
    "from numpy.random import randn\n",
    "import seaborn as sns\n",
    "from scipy import stats\n",
    "\n",
    "import matplotlib as mpl\n",
    "from matplotlib.patches import Ellipse\n",
    "%matplotlib inline\n",
    "%config InlineBackend.figure_format = 'svg'"
   ]
  },
  {
   "cell_type": "code",
   "execution_count": 2,
   "metadata": {},
   "outputs": [],
   "source": [
    "from sklearn.model_selection import KFold, train_test_split, GridSearchCV, cross_val_score\n",
    "\n",
    "from sklearn.metrics import accuracy_score \n",
    "\n",
    "from sklearn.tree import DecisionTreeClassifier\n",
    "from sklearn.neighbors import KNeighborsClassifier\n",
    "from sklearn.ensemble import RandomForestClassifier, GradientBoostingClassifier"
   ]
  },
  {
   "cell_type": "code",
   "execution_count": 3,
   "metadata": {},
   "outputs": [],
   "source": [
    "import os\n",
    "import os.path"
   ]
  },
  {
   "cell_type": "markdown",
   "metadata": {},
   "source": [
    "### Операция свертки"
   ]
  },
  {
   "cell_type": "markdown",
   "metadata": {},
   "source": [
    "<img src=\"images13/YDusp.png\">"
   ]
  },
  {
   "cell_type": "markdown",
   "metadata": {},
   "source": [
    "### <font color=\"green\">ВОПРОС</font>\n",
    "* какой может быть цель данного ядра?\n",
    "* чем его надо дополнить для этой операции по второму измерению?"
   ]
  },
  {
   "cell_type": "markdown",
   "metadata": {},
   "source": [
    "Матрицы свертки:\n",
    "* identity (копирование)\n",
    "$$\n",
    "  \\begin{bmatrix}\n",
    "    0 & 0 & 0 \\\\\n",
    "    0 & 1 & 0 \\\\\n",
    "    0 & 0 & 0\n",
    "  \\end{bmatrix}\n",
    "$$\n",
    "* детектирование границ\n",
    "$$\n",
    "  \\begin{bmatrix}\n",
    "    0 & 1 & 0 \\\\\n",
    "    1 & -4 & 1 \\\\\n",
    "    0 & 1 & 0\n",
    "  \\end{bmatrix}\n",
    "$$\n",
    "* повышение резкости\n",
    "$$\n",
    "\\begin{bmatrix}\n",
    "    0 & -1 & 0 \\\\\n",
    "    -1 & 5 & -1 \\\\\n",
    "    0 & -1 & 0\n",
    "  \\end{bmatrix}\n",
    "$$\n",
    "* размытие (нормализация)\n",
    "$$ 1/9 * \n",
    "\\begin{bmatrix}\n",
    "    1 & 1 & 1 \\\\\n",
    "    1 & 1 & 1 \\\\\n",
    "    1 & 1 & 1\n",
    "  \\end{bmatrix}\n",
    "$$\n",
    "* размытие (фильтр Гаусса)\n",
    "$$ 1/273 * \n",
    "\\begin{bmatrix}\n",
    "    1 & 4 & 7 & 4 & 1 \\\\\n",
    "    4 & 16 & 26 & 16 & 4 \\\\\n",
    "    7 & 26 & 41 & 26 & 7 \\\\\n",
    "    4 & 16 & 26 & 16 & 4 \\\\\n",
    "    1 & 4 & 7 & 4 & 1 \n",
    "  \\end{bmatrix}\n",
    "$$"
   ]
  },
  {
   "cell_type": "markdown",
   "metadata": {},
   "source": [
    "### <font color=\"red\">ЗАДАНИЕ</a>\n",
    "* примените все эти фильтры  с испольованием _scipy.signal.convolve2d_ к изображению _images13/bdavidson-09.jpg_\n"
   ]
  },
  {
   "cell_type": "code",
   "execution_count": 4,
   "metadata": {},
   "outputs": [
    {
     "name": "stdout",
     "output_type": "stream",
     "text": [
      "Requirement already satisfied: scikit-image in /home/rk/source/repos/maga/sem01/python/venv/lib/python3.8/site-packages (0.16.2)\n",
      "Requirement already satisfied: PyWavelets>=0.4.0 in /home/rk/source/repos/maga/sem01/python/venv/lib/python3.8/site-packages (from scikit-image) (1.1.1)\n",
      "Requirement already satisfied: imageio>=2.3.0 in /home/rk/source/repos/maga/sem01/python/venv/lib/python3.8/site-packages (from scikit-image) (2.6.1)\n",
      "Requirement already satisfied: scipy>=0.19.0 in /home/rk/source/repos/maga/sem01/python/venv/lib/python3.8/site-packages (from scikit-image) (1.3.2)\n",
      "Requirement already satisfied: matplotlib!=3.0.0,>=2.0.0 in /home/rk/source/repos/maga/sem01/python/venv/lib/python3.8/site-packages (from scikit-image) (3.1.1)\n",
      "Requirement already satisfied: pillow>=4.3.0 in /home/rk/source/repos/maga/sem01/python/venv/lib/python3.8/site-packages (from scikit-image) (6.2.1)\n",
      "Requirement already satisfied: networkx>=2.0 in /home/rk/source/repos/maga/sem01/python/venv/lib/python3.8/site-packages (from scikit-image) (2.4)\n",
      "Requirement already satisfied: numpy>=1.13.3 in /home/rk/source/repos/maga/sem01/python/venv/lib/python3.8/site-packages (from PyWavelets>=0.4.0->scikit-image) (1.17.4)\n",
      "Requirement already satisfied: cycler>=0.10 in /home/rk/source/repos/maga/sem01/python/venv/lib/python3.8/site-packages (from matplotlib!=3.0.0,>=2.0.0->scikit-image) (0.10.0)\n",
      "Requirement already satisfied: kiwisolver>=1.0.1 in /home/rk/source/repos/maga/sem01/python/venv/lib/python3.8/site-packages (from matplotlib!=3.0.0,>=2.0.0->scikit-image) (1.1.0)\n",
      "Requirement already satisfied: pyparsing!=2.0.4,!=2.1.2,!=2.1.6,>=2.0.1 in /home/rk/source/repos/maga/sem01/python/venv/lib/python3.8/site-packages (from matplotlib!=3.0.0,>=2.0.0->scikit-image) (2.4.5)\n",
      "Requirement already satisfied: python-dateutil>=2.1 in /home/rk/source/repos/maga/sem01/python/venv/lib/python3.8/site-packages (from matplotlib!=3.0.0,>=2.0.0->scikit-image) (2.8.1)\n",
      "Requirement already satisfied: decorator>=4.3.0 in /home/rk/source/repos/maga/sem01/python/venv/lib/python3.8/site-packages (from networkx>=2.0->scikit-image) (4.4.1)\n",
      "Requirement already satisfied: six in /home/rk/source/repos/maga/sem01/python/venv/lib/python3.8/site-packages (from cycler>=0.10->matplotlib!=3.0.0,>=2.0.0->scikit-image) (1.13.0)\n",
      "Requirement already satisfied: setuptools in /home/rk/source/repos/maga/sem01/python/venv/lib/python3.8/site-packages (from kiwisolver>=1.0.1->matplotlib!=3.0.0,>=2.0.0->scikit-image) (41.2.0)\n",
      "\u001b[33mWARNING: You are using pip version 19.2.3, however version 19.3.1 is available.\n",
      "You should consider upgrading via the 'pip install --upgrade pip' command.\u001b[0m\n"
     ]
    },
    {
     "data": {
      "image/svg+xml": [
       "<?xml version=\"1.0\" encoding=\"utf-8\" standalone=\"no\"?>\n",
       "<!DOCTYPE svg PUBLIC \"-//W3C//DTD SVG 1.1//EN\"\n",
       "  \"http://www.w3.org/Graphics/SVG/1.1/DTD/svg11.dtd\">\n",
       "<!-- Created with matplotlib (https://matplotlib.org/) -->\n",
       "<svg height=\"252.181274pt\" version=\"1.1\" viewBox=\"0 0 367.05571 252.181274\" width=\"367.05571pt\" xmlns=\"http://www.w3.org/2000/svg\" xmlns:xlink=\"http://www.w3.org/1999/xlink\">\n",
       " <defs>\n",
       "  <style type=\"text/css\">\n",
       "*{stroke-linecap:butt;stroke-linejoin:round;}\n",
       "  </style>\n",
       " </defs>\n",
       " <g id=\"figure_1\">\n",
       "  <g id=\"patch_1\">\n",
       "   <path d=\"M 0 252.181274 \n",
       "L 367.05571 252.181274 \n",
       "L 367.05571 0 \n",
       "L 0 0 \n",
       "z\n",
       "\" style=\"fill:none;\"/>\n",
       "  </g>\n",
       "  <g id=\"axes_1\">\n",
       "   <g id=\"patch_2\">\n",
       "    <path d=\"M 33.2875 228.303149 \n",
       "L 359.85571 228.303149 \n",
       "L 359.85571 10.863149 \n",
       "L 33.2875 10.863149 \n",
       "z\n",
       "\" style=\"fill:#ffffff;\"/>\n",
       "   </g>\n",
       "   <g clip-path=\"url(#p543eb94d95)\">\n",
       "    <image height=\"218\" id=\"image00ce5037e6\" transform=\"scale(1 -1)translate(0 -218)\" width=\"327\" x=\"33\" xlink:href=\"data:image/png;base64,\n",
       "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\" y=\"-10.181274\"/>\n",
       "   </g>\n",
       "   <g id=\"matplotlib.axis_1\">\n",
       "    <g id=\"xtick_1\">\n",
       "     <g id=\"line2d_1\">\n",
       "      <defs>\n",
       "       <path d=\"M 0 0 \n",
       "L 0 3.5 \n",
       "\" id=\"m89b16c6bb0\" style=\"stroke:#000000;stroke-width:0.8;\"/>\n",
       "      </defs>\n",
       "      <g>\n",
       "       <use style=\"stroke:#000000;stroke-width:0.8;\" x=\"33.42357\" xlink:href=\"#m89b16c6bb0\" y=\"228.303149\"/>\n",
       "      </g>\n",
       "     </g>\n",
       "     <g id=\"text_1\">\n",
       "      <!-- 0 -->\n",
       "      <defs>\n",
       "       <path d=\"M 31.78125 66.40625 \n",
       "Q 24.171875 66.40625 20.328125 58.90625 \n",
       "Q 16.5 51.421875 16.5 36.375 \n",
       "Q 16.5 21.390625 20.328125 13.890625 \n",
       "Q 24.171875 6.390625 31.78125 6.390625 \n",
       "Q 39.453125 6.390625 43.28125 13.890625 \n",
       "Q 47.125 21.390625 47.125 36.375 \n",
       "Q 47.125 51.421875 43.28125 58.90625 \n",
       "Q 39.453125 66.40625 31.78125 66.40625 \n",
       "z\n",
       "M 31.78125 74.21875 \n",
       "Q 44.046875 74.21875 50.515625 64.515625 \n",
       "Q 56.984375 54.828125 56.984375 36.375 \n",
       "Q 56.984375 17.96875 50.515625 8.265625 \n",
       "Q 44.046875 -1.421875 31.78125 -1.421875 \n",
       "Q 19.53125 -1.421875 13.0625 8.265625 \n",
       "Q 6.59375 17.96875 6.59375 36.375 \n",
       "Q 6.59375 54.828125 13.0625 64.515625 \n",
       "Q 19.53125 74.21875 31.78125 74.21875 \n",
       "z\n",
       "\" id=\"DejaVuSans-48\"/>\n",
       "      </defs>\n",
       "      <g transform=\"translate(30.24232 242.901586)scale(0.1 -0.1)\">\n",
       "       <use xlink:href=\"#DejaVuSans-48\"/>\n",
       "      </g>\n",
       "     </g>\n",
       "    </g>\n",
       "    <g id=\"xtick_2\">\n",
       "     <g id=\"line2d_2\">\n",
       "      <g>\n",
       "       <use style=\"stroke:#000000;stroke-width:0.8;\" x=\"87.851605\" xlink:href=\"#m89b16c6bb0\" y=\"228.303149\"/>\n",
       "      </g>\n",
       "     </g>\n",
       "     <g id=\"text_2\">\n",
       "      <!-- 200 -->\n",
       "      <defs>\n",
       "       <path d=\"M 19.1875 8.296875 \n",
       "L 53.609375 8.296875 \n",
       "L 53.609375 0 \n",
       "L 7.328125 0 \n",
       "L 7.328125 8.296875 \n",
       "Q 12.9375 14.109375 22.625 23.890625 \n",
       "Q 32.328125 33.6875 34.8125 36.53125 \n",
       "Q 39.546875 41.84375 41.421875 45.53125 \n",
       "Q 43.3125 49.21875 43.3125 52.78125 \n",
       "Q 43.3125 58.59375 39.234375 62.25 \n",
       "Q 35.15625 65.921875 28.609375 65.921875 \n",
       "Q 23.96875 65.921875 18.8125 64.3125 \n",
       "Q 13.671875 62.703125 7.8125 59.421875 \n",
       "L 7.8125 69.390625 \n",
       "Q 13.765625 71.78125 18.9375 73 \n",
       "Q 24.125 74.21875 28.421875 74.21875 \n",
       "Q 39.75 74.21875 46.484375 68.546875 \n",
       "Q 53.21875 62.890625 53.21875 53.421875 \n",
       "Q 53.21875 48.921875 51.53125 44.890625 \n",
       "Q 49.859375 40.875 45.40625 35.40625 \n",
       "Q 44.1875 33.984375 37.640625 27.21875 \n",
       "Q 31.109375 20.453125 19.1875 8.296875 \n",
       "z\n",
       "\" id=\"DejaVuSans-50\"/>\n",
       "      </defs>\n",
       "      <g transform=\"translate(78.307855 242.901586)scale(0.1 -0.1)\">\n",
       "       <use xlink:href=\"#DejaVuSans-50\"/>\n",
       "       <use x=\"63.623047\" xlink:href=\"#DejaVuSans-48\"/>\n",
       "       <use x=\"127.246094\" xlink:href=\"#DejaVuSans-48\"/>\n",
       "      </g>\n",
       "     </g>\n",
       "    </g>\n",
       "    <g id=\"xtick_3\">\n",
       "     <g id=\"line2d_3\">\n",
       "      <g>\n",
       "       <use style=\"stroke:#000000;stroke-width:0.8;\" x=\"142.27964\" xlink:href=\"#m89b16c6bb0\" y=\"228.303149\"/>\n",
       "      </g>\n",
       "     </g>\n",
       "     <g id=\"text_3\">\n",
       "      <!-- 400 -->\n",
       "      <defs>\n",
       "       <path d=\"M 37.796875 64.3125 \n",
       "L 12.890625 25.390625 \n",
       "L 37.796875 25.390625 \n",
       "z\n",
       "M 35.203125 72.90625 \n",
       "L 47.609375 72.90625 \n",
       "L 47.609375 25.390625 \n",
       "L 58.015625 25.390625 \n",
       "L 58.015625 17.1875 \n",
       "L 47.609375 17.1875 \n",
       "L 47.609375 0 \n",
       "L 37.796875 0 \n",
       "L 37.796875 17.1875 \n",
       "L 4.890625 17.1875 \n",
       "L 4.890625 26.703125 \n",
       "z\n",
       "\" id=\"DejaVuSans-52\"/>\n",
       "      </defs>\n",
       "      <g transform=\"translate(132.73589 242.901586)scale(0.1 -0.1)\">\n",
       "       <use xlink:href=\"#DejaVuSans-52\"/>\n",
       "       <use x=\"63.623047\" xlink:href=\"#DejaVuSans-48\"/>\n",
       "       <use x=\"127.246094\" xlink:href=\"#DejaVuSans-48\"/>\n",
       "      </g>\n",
       "     </g>\n",
       "    </g>\n",
       "    <g id=\"xtick_4\">\n",
       "     <g id=\"line2d_4\">\n",
       "      <g>\n",
       "       <use style=\"stroke:#000000;stroke-width:0.8;\" x=\"196.707675\" xlink:href=\"#m89b16c6bb0\" y=\"228.303149\"/>\n",
       "      </g>\n",
       "     </g>\n",
       "     <g id=\"text_4\">\n",
       "      <!-- 600 -->\n",
       "      <defs>\n",
       "       <path d=\"M 33.015625 40.375 \n",
       "Q 26.375 40.375 22.484375 35.828125 \n",
       "Q 18.609375 31.296875 18.609375 23.390625 \n",
       "Q 18.609375 15.53125 22.484375 10.953125 \n",
       "Q 26.375 6.390625 33.015625 6.390625 \n",
       "Q 39.65625 6.390625 43.53125 10.953125 \n",
       "Q 47.40625 15.53125 47.40625 23.390625 \n",
       "Q 47.40625 31.296875 43.53125 35.828125 \n",
       "Q 39.65625 40.375 33.015625 40.375 \n",
       "z\n",
       "M 52.59375 71.296875 \n",
       "L 52.59375 62.3125 \n",
       "Q 48.875 64.0625 45.09375 64.984375 \n",
       "Q 41.3125 65.921875 37.59375 65.921875 \n",
       "Q 27.828125 65.921875 22.671875 59.328125 \n",
       "Q 17.53125 52.734375 16.796875 39.40625 \n",
       "Q 19.671875 43.65625 24.015625 45.921875 \n",
       "Q 28.375 48.1875 33.59375 48.1875 \n",
       "Q 44.578125 48.1875 50.953125 41.515625 \n",
       "Q 57.328125 34.859375 57.328125 23.390625 \n",
       "Q 57.328125 12.15625 50.6875 5.359375 \n",
       "Q 44.046875 -1.421875 33.015625 -1.421875 \n",
       "Q 20.359375 -1.421875 13.671875 8.265625 \n",
       "Q 6.984375 17.96875 6.984375 36.375 \n",
       "Q 6.984375 53.65625 15.1875 63.9375 \n",
       "Q 23.390625 74.21875 37.203125 74.21875 \n",
       "Q 40.921875 74.21875 44.703125 73.484375 \n",
       "Q 48.484375 72.75 52.59375 71.296875 \n",
       "z\n",
       "\" id=\"DejaVuSans-54\"/>\n",
       "      </defs>\n",
       "      <g transform=\"translate(187.163925 242.901586)scale(0.1 -0.1)\">\n",
       "       <use xlink:href=\"#DejaVuSans-54\"/>\n",
       "       <use x=\"63.623047\" xlink:href=\"#DejaVuSans-48\"/>\n",
       "       <use x=\"127.246094\" xlink:href=\"#DejaVuSans-48\"/>\n",
       "      </g>\n",
       "     </g>\n",
       "    </g>\n",
       "    <g id=\"xtick_5\">\n",
       "     <g id=\"line2d_5\">\n",
       "      <g>\n",
       "       <use style=\"stroke:#000000;stroke-width:0.8;\" x=\"251.13571\" xlink:href=\"#m89b16c6bb0\" y=\"228.303149\"/>\n",
       "      </g>\n",
       "     </g>\n",
       "     <g id=\"text_5\">\n",
       "      <!-- 800 -->\n",
       "      <defs>\n",
       "       <path d=\"M 31.78125 34.625 \n",
       "Q 24.75 34.625 20.71875 30.859375 \n",
       "Q 16.703125 27.09375 16.703125 20.515625 \n",
       "Q 16.703125 13.921875 20.71875 10.15625 \n",
       "Q 24.75 6.390625 31.78125 6.390625 \n",
       "Q 38.8125 6.390625 42.859375 10.171875 \n",
       "Q 46.921875 13.96875 46.921875 20.515625 \n",
       "Q 46.921875 27.09375 42.890625 30.859375 \n",
       "Q 38.875 34.625 31.78125 34.625 \n",
       "z\n",
       "M 21.921875 38.8125 \n",
       "Q 15.578125 40.375 12.03125 44.71875 \n",
       "Q 8.5 49.078125 8.5 55.328125 \n",
       "Q 8.5 64.0625 14.71875 69.140625 \n",
       "Q 20.953125 74.21875 31.78125 74.21875 \n",
       "Q 42.671875 74.21875 48.875 69.140625 \n",
       "Q 55.078125 64.0625 55.078125 55.328125 \n",
       "Q 55.078125 49.078125 51.53125 44.71875 \n",
       "Q 48 40.375 41.703125 38.8125 \n",
       "Q 48.828125 37.15625 52.796875 32.3125 \n",
       "Q 56.78125 27.484375 56.78125 20.515625 \n",
       "Q 56.78125 9.90625 50.3125 4.234375 \n",
       "Q 43.84375 -1.421875 31.78125 -1.421875 \n",
       "Q 19.734375 -1.421875 13.25 4.234375 \n",
       "Q 6.78125 9.90625 6.78125 20.515625 \n",
       "Q 6.78125 27.484375 10.78125 32.3125 \n",
       "Q 14.796875 37.15625 21.921875 38.8125 \n",
       "z\n",
       "M 18.3125 54.390625 \n",
       "Q 18.3125 48.734375 21.84375 45.5625 \n",
       "Q 25.390625 42.390625 31.78125 42.390625 \n",
       "Q 38.140625 42.390625 41.71875 45.5625 \n",
       "Q 45.3125 48.734375 45.3125 54.390625 \n",
       "Q 45.3125 60.0625 41.71875 63.234375 \n",
       "Q 38.140625 66.40625 31.78125 66.40625 \n",
       "Q 25.390625 66.40625 21.84375 63.234375 \n",
       "Q 18.3125 60.0625 18.3125 54.390625 \n",
       "z\n",
       "\" id=\"DejaVuSans-56\"/>\n",
       "      </defs>\n",
       "      <g transform=\"translate(241.59196 242.901586)scale(0.1 -0.1)\">\n",
       "       <use xlink:href=\"#DejaVuSans-56\"/>\n",
       "       <use x=\"63.623047\" xlink:href=\"#DejaVuSans-48\"/>\n",
       "       <use x=\"127.246094\" xlink:href=\"#DejaVuSans-48\"/>\n",
       "      </g>\n",
       "     </g>\n",
       "    </g>\n",
       "    <g id=\"xtick_6\">\n",
       "     <g id=\"line2d_6\">\n",
       "      <g>\n",
       "       <use style=\"stroke:#000000;stroke-width:0.8;\" x=\"305.563745\" xlink:href=\"#m89b16c6bb0\" y=\"228.303149\"/>\n",
       "      </g>\n",
       "     </g>\n",
       "     <g id=\"text_6\">\n",
       "      <!-- 1000 -->\n",
       "      <defs>\n",
       "       <path d=\"M 12.40625 8.296875 \n",
       "L 28.515625 8.296875 \n",
       "L 28.515625 63.921875 \n",
       "L 10.984375 60.40625 \n",
       "L 10.984375 69.390625 \n",
       "L 28.421875 72.90625 \n",
       "L 38.28125 72.90625 \n",
       "L 38.28125 8.296875 \n",
       "L 54.390625 8.296875 \n",
       "L 54.390625 0 \n",
       "L 12.40625 0 \n",
       "z\n",
       "\" id=\"DejaVuSans-49\"/>\n",
       "      </defs>\n",
       "      <g transform=\"translate(292.838745 242.901586)scale(0.1 -0.1)\">\n",
       "       <use xlink:href=\"#DejaVuSans-49\"/>\n",
       "       <use x=\"63.623047\" xlink:href=\"#DejaVuSans-48\"/>\n",
       "       <use x=\"127.246094\" xlink:href=\"#DejaVuSans-48\"/>\n",
       "       <use x=\"190.869141\" xlink:href=\"#DejaVuSans-48\"/>\n",
       "      </g>\n",
       "     </g>\n",
       "    </g>\n",
       "   </g>\n",
       "   <g id=\"matplotlib.axis_2\">\n",
       "    <g id=\"ytick_1\">\n",
       "     <g id=\"line2d_7\">\n",
       "      <defs>\n",
       "       <path d=\"M 0 0 \n",
       "L -3.5 0 \n",
       "\" id=\"m8469ebc36e\" style=\"stroke:#000000;stroke-width:0.8;\"/>\n",
       "      </defs>\n",
       "      <g>\n",
       "       <use style=\"stroke:#000000;stroke-width:0.8;\" x=\"33.2875\" xlink:href=\"#m8469ebc36e\" y=\"10.999219\"/>\n",
       "      </g>\n",
       "     </g>\n",
       "     <g id=\"text_7\">\n",
       "      <!-- 0 -->\n",
       "      <g transform=\"translate(19.925 14.798437)scale(0.1 -0.1)\">\n",
       "       <use xlink:href=\"#DejaVuSans-48\"/>\n",
       "      </g>\n",
       "     </g>\n",
       "    </g>\n",
       "    <g id=\"ytick_2\">\n",
       "     <g id=\"line2d_8\">\n",
       "      <g>\n",
       "       <use style=\"stroke:#000000;stroke-width:0.8;\" x=\"33.2875\" xlink:href=\"#m8469ebc36e\" y=\"38.213236\"/>\n",
       "      </g>\n",
       "     </g>\n",
       "     <g id=\"text_8\">\n",
       "      <!-- 100 -->\n",
       "      <g transform=\"translate(7.2 42.012455)scale(0.1 -0.1)\">\n",
       "       <use xlink:href=\"#DejaVuSans-49\"/>\n",
       "       <use x=\"63.623047\" xlink:href=\"#DejaVuSans-48\"/>\n",
       "       <use x=\"127.246094\" xlink:href=\"#DejaVuSans-48\"/>\n",
       "      </g>\n",
       "     </g>\n",
       "    </g>\n",
       "    <g id=\"ytick_3\">\n",
       "     <g id=\"line2d_9\">\n",
       "      <g>\n",
       "       <use style=\"stroke:#000000;stroke-width:0.8;\" x=\"33.2875\" xlink:href=\"#m8469ebc36e\" y=\"65.427254\"/>\n",
       "      </g>\n",
       "     </g>\n",
       "     <g id=\"text_9\">\n",
       "      <!-- 200 -->\n",
       "      <g transform=\"translate(7.2 69.226473)scale(0.1 -0.1)\">\n",
       "       <use xlink:href=\"#DejaVuSans-50\"/>\n",
       "       <use x=\"63.623047\" xlink:href=\"#DejaVuSans-48\"/>\n",
       "       <use x=\"127.246094\" xlink:href=\"#DejaVuSans-48\"/>\n",
       "      </g>\n",
       "     </g>\n",
       "    </g>\n",
       "    <g id=\"ytick_4\">\n",
       "     <g id=\"line2d_10\">\n",
       "      <g>\n",
       "       <use style=\"stroke:#000000;stroke-width:0.8;\" x=\"33.2875\" xlink:href=\"#m8469ebc36e\" y=\"92.641271\"/>\n",
       "      </g>\n",
       "     </g>\n",
       "     <g id=\"text_10\">\n",
       "      <!-- 300 -->\n",
       "      <defs>\n",
       "       <path d=\"M 40.578125 39.3125 \n",
       "Q 47.65625 37.796875 51.625 33 \n",
       "Q 55.609375 28.21875 55.609375 21.1875 \n",
       "Q 55.609375 10.40625 48.1875 4.484375 \n",
       "Q 40.765625 -1.421875 27.09375 -1.421875 \n",
       "Q 22.515625 -1.421875 17.65625 -0.515625 \n",
       "Q 12.796875 0.390625 7.625 2.203125 \n",
       "L 7.625 11.71875 \n",
       "Q 11.71875 9.328125 16.59375 8.109375 \n",
       "Q 21.484375 6.890625 26.8125 6.890625 \n",
       "Q 36.078125 6.890625 40.9375 10.546875 \n",
       "Q 45.796875 14.203125 45.796875 21.1875 \n",
       "Q 45.796875 27.640625 41.28125 31.265625 \n",
       "Q 36.765625 34.90625 28.71875 34.90625 \n",
       "L 20.21875 34.90625 \n",
       "L 20.21875 43.015625 \n",
       "L 29.109375 43.015625 \n",
       "Q 36.375 43.015625 40.234375 45.921875 \n",
       "Q 44.09375 48.828125 44.09375 54.296875 \n",
       "Q 44.09375 59.90625 40.109375 62.90625 \n",
       "Q 36.140625 65.921875 28.71875 65.921875 \n",
       "Q 24.65625 65.921875 20.015625 65.03125 \n",
       "Q 15.375 64.15625 9.8125 62.3125 \n",
       "L 9.8125 71.09375 \n",
       "Q 15.4375 72.65625 20.34375 73.4375 \n",
       "Q 25.25 74.21875 29.59375 74.21875 \n",
       "Q 40.828125 74.21875 47.359375 69.109375 \n",
       "Q 53.90625 64.015625 53.90625 55.328125 \n",
       "Q 53.90625 49.265625 50.4375 45.09375 \n",
       "Q 46.96875 40.921875 40.578125 39.3125 \n",
       "z\n",
       "\" id=\"DejaVuSans-51\"/>\n",
       "      </defs>\n",
       "      <g transform=\"translate(7.2 96.44049)scale(0.1 -0.1)\">\n",
       "       <use xlink:href=\"#DejaVuSans-51\"/>\n",
       "       <use x=\"63.623047\" xlink:href=\"#DejaVuSans-48\"/>\n",
       "       <use x=\"127.246094\" xlink:href=\"#DejaVuSans-48\"/>\n",
       "      </g>\n",
       "     </g>\n",
       "    </g>\n",
       "    <g id=\"ytick_5\">\n",
       "     <g id=\"line2d_11\">\n",
       "      <g>\n",
       "       <use style=\"stroke:#000000;stroke-width:0.8;\" x=\"33.2875\" xlink:href=\"#m8469ebc36e\" y=\"119.855289\"/>\n",
       "      </g>\n",
       "     </g>\n",
       "     <g id=\"text_11\">\n",
       "      <!-- 400 -->\n",
       "      <g transform=\"translate(7.2 123.654508)scale(0.1 -0.1)\">\n",
       "       <use xlink:href=\"#DejaVuSans-52\"/>\n",
       "       <use x=\"63.623047\" xlink:href=\"#DejaVuSans-48\"/>\n",
       "       <use x=\"127.246094\" xlink:href=\"#DejaVuSans-48\"/>\n",
       "      </g>\n",
       "     </g>\n",
       "    </g>\n",
       "    <g id=\"ytick_6\">\n",
       "     <g id=\"line2d_12\">\n",
       "      <g>\n",
       "       <use style=\"stroke:#000000;stroke-width:0.8;\" x=\"33.2875\" xlink:href=\"#m8469ebc36e\" y=\"147.069306\"/>\n",
       "      </g>\n",
       "     </g>\n",
       "     <g id=\"text_12\">\n",
       "      <!-- 500 -->\n",
       "      <defs>\n",
       "       <path d=\"M 10.796875 72.90625 \n",
       "L 49.515625 72.90625 \n",
       "L 49.515625 64.59375 \n",
       "L 19.828125 64.59375 \n",
       "L 19.828125 46.734375 \n",
       "Q 21.96875 47.46875 24.109375 47.828125 \n",
       "Q 26.265625 48.1875 28.421875 48.1875 \n",
       "Q 40.625 48.1875 47.75 41.5 \n",
       "Q 54.890625 34.8125 54.890625 23.390625 \n",
       "Q 54.890625 11.625 47.5625 5.09375 \n",
       "Q 40.234375 -1.421875 26.90625 -1.421875 \n",
       "Q 22.3125 -1.421875 17.546875 -0.640625 \n",
       "Q 12.796875 0.140625 7.71875 1.703125 \n",
       "L 7.71875 11.625 \n",
       "Q 12.109375 9.234375 16.796875 8.0625 \n",
       "Q 21.484375 6.890625 26.703125 6.890625 \n",
       "Q 35.15625 6.890625 40.078125 11.328125 \n",
       "Q 45.015625 15.765625 45.015625 23.390625 \n",
       "Q 45.015625 31 40.078125 35.4375 \n",
       "Q 35.15625 39.890625 26.703125 39.890625 \n",
       "Q 22.75 39.890625 18.8125 39.015625 \n",
       "Q 14.890625 38.140625 10.796875 36.28125 \n",
       "z\n",
       "\" id=\"DejaVuSans-53\"/>\n",
       "      </defs>\n",
       "      <g transform=\"translate(7.2 150.868525)scale(0.1 -0.1)\">\n",
       "       <use xlink:href=\"#DejaVuSans-53\"/>\n",
       "       <use x=\"63.623047\" xlink:href=\"#DejaVuSans-48\"/>\n",
       "       <use x=\"127.246094\" xlink:href=\"#DejaVuSans-48\"/>\n",
       "      </g>\n",
       "     </g>\n",
       "    </g>\n",
       "    <g id=\"ytick_7\">\n",
       "     <g id=\"line2d_13\">\n",
       "      <g>\n",
       "       <use style=\"stroke:#000000;stroke-width:0.8;\" x=\"33.2875\" xlink:href=\"#m8469ebc36e\" y=\"174.283324\"/>\n",
       "      </g>\n",
       "     </g>\n",
       "     <g id=\"text_13\">\n",
       "      <!-- 600 -->\n",
       "      <g transform=\"translate(7.2 178.082543)scale(0.1 -0.1)\">\n",
       "       <use xlink:href=\"#DejaVuSans-54\"/>\n",
       "       <use x=\"63.623047\" xlink:href=\"#DejaVuSans-48\"/>\n",
       "       <use x=\"127.246094\" xlink:href=\"#DejaVuSans-48\"/>\n",
       "      </g>\n",
       "     </g>\n",
       "    </g>\n",
       "    <g id=\"ytick_8\">\n",
       "     <g id=\"line2d_14\">\n",
       "      <g>\n",
       "       <use style=\"stroke:#000000;stroke-width:0.8;\" x=\"33.2875\" xlink:href=\"#m8469ebc36e\" y=\"201.497341\"/>\n",
       "      </g>\n",
       "     </g>\n",
       "     <g id=\"text_14\">\n",
       "      <!-- 700 -->\n",
       "      <defs>\n",
       "       <path d=\"M 8.203125 72.90625 \n",
       "L 55.078125 72.90625 \n",
       "L 55.078125 68.703125 \n",
       "L 28.609375 0 \n",
       "L 18.3125 0 \n",
       "L 43.21875 64.59375 \n",
       "L 8.203125 64.59375 \n",
       "z\n",
       "\" id=\"DejaVuSans-55\"/>\n",
       "      </defs>\n",
       "      <g transform=\"translate(7.2 205.29656)scale(0.1 -0.1)\">\n",
       "       <use xlink:href=\"#DejaVuSans-55\"/>\n",
       "       <use x=\"63.623047\" xlink:href=\"#DejaVuSans-48\"/>\n",
       "       <use x=\"127.246094\" xlink:href=\"#DejaVuSans-48\"/>\n",
       "      </g>\n",
       "     </g>\n",
       "    </g>\n",
       "   </g>\n",
       "   <g id=\"patch_3\">\n",
       "    <path d=\"M 33.2875 228.303149 \n",
       "L 33.2875 10.863149 \n",
       "\" style=\"fill:none;stroke:#000000;stroke-linecap:square;stroke-linejoin:miter;stroke-width:0.8;\"/>\n",
       "   </g>\n",
       "   <g id=\"patch_4\">\n",
       "    <path d=\"M 359.85571 228.303149 \n",
       "L 359.85571 10.863149 \n",
       "\" style=\"fill:none;stroke:#000000;stroke-linecap:square;stroke-linejoin:miter;stroke-width:0.8;\"/>\n",
       "   </g>\n",
       "   <g id=\"patch_5\">\n",
       "    <path d=\"M 33.2875 228.303149 \n",
       "L 359.85571 228.303149 \n",
       "\" style=\"fill:none;stroke:#000000;stroke-linecap:square;stroke-linejoin:miter;stroke-width:0.8;\"/>\n",
       "   </g>\n",
       "   <g id=\"patch_6\">\n",
       "    <path d=\"M 33.2875 10.863149 \n",
       "L 359.85571 10.863149 \n",
       "\" style=\"fill:none;stroke:#000000;stroke-linecap:square;stroke-linejoin:miter;stroke-width:0.8;\"/>\n",
       "   </g>\n",
       "  </g>\n",
       " </g>\n",
       " <defs>\n",
       "  <clipPath id=\"p543eb94d95\">\n",
       "   <rect height=\"217.44\" width=\"326.56821\" x=\"33.2875\" y=\"10.863149\"/>\n",
       "  </clipPath>\n",
       " </defs>\n",
       "</svg>\n"
      ],
      "text/plain": [
       "<Figure size 432x288 with 1 Axes>"
      ]
     },
     "metadata": {
      "needs_background": "light"
     },
     "output_type": "display_data"
    }
   ],
   "source": [
    "from scipy.signal import convolve2d\n",
    "import matplotlib.pyplot as plt\n",
    "import matplotlib.image as mpimg\n",
    "import numpy as np\n",
    "\n",
    "img = mpimg.imread('images13/bdavidson-09.jpg')\n",
    "plt.imshow(img)\n",
    "\n",
    "blur = np.array([[0, -1, 0], [-1, 5, -1], [0, -1, 0]])\n",
    "\n",
    "blured_img = np.empty(img.shape)\n",
    "\n",
    "for i in range(3):\n",
    "    blured_img[:, :, i] = convolve2d(img[:,:,0], blur)[:img.shape[0], :img.shape[1]]\n",
    "\n",
    "plt.imshow(blured_img.astype(np.uint8))\n",
    "\n",
    "!pip install scikit-image"
   ]
  },
  {
   "cell_type": "markdown",
   "metadata": {},
   "source": [
    "### Детектирование лиц"
   ]
  },
  {
   "cell_type": "markdown",
   "metadata": {},
   "source": [
    "### <font color=\"blue\">ЗАДАНИЕ</font>"
   ]
  },
  {
   "cell_type": "markdown",
   "metadata": {},
   "source": [
    "* Найдите лица на 4 случайных фотограциях из каталога _data13/lfw/_\n",
    "* Сравните результаты _вывода_ изображений, если пользоваться функциями cv2.imread и skimage.io.imread\n",
    "* Объясните, что произошло\n",
    "* Определите коодинаты рамок вокруг лиц с помощью  _cv2.CascadeClassifier_\n",
    "* Отрисуйте рамки вокруг лиц с помощью _cv2.rectangle_\n",
    "* Выведите полученные изображения в виде матрицы 4 х 4\n",
    "<br><br>\n",
    "- Файлы для настройки классификатора загрузите из https://github.com/opencv/opencv/tree/master/data/haarcascades\n"
   ]
  },
  {
   "cell_type": "code",
   "execution_count": 5,
   "metadata": {},
   "outputs": [],
   "source": [
    "# CentOS\n",
    "#sudo yum install libXext libSM libXrender\n",
    "\n",
    "# Ubuntu \n",
    "# apt-get install -y libsm6 libxext6 libxrender-dev\n",
    "\n",
    "#!pip install opencv-python"
   ]
  },
  {
   "cell_type": "code",
   "execution_count": 6,
   "metadata": {},
   "outputs": [],
   "source": [
    "import skimage.io\n",
    "import cv2\n",
    "\n",
    "# часть кода уже есть\n",
    "\n",
    "imagePath = \"data13/lfw/James_Hoffa/James_Hoffa_0001.jpg\"\n",
    "cascPath = \"CascadeClassifier.xml\"\n",
    "\n",
    "# Извлеките 4 произвольных лица из каталога data13/lfw/\n",
    "image = cv2.imread(imagePath)\n",
    "\n",
    "# Детектор на основе каскадов Хаара\n",
    "detector = cv2.CascadeClassifier(cascPath)\n",
    "gray = cv2.cvtColor(image, cv2.COLOR_BGR2GRAY)\n",
    "\n",
    "# Определим координаты лиц\n",
    "faces = detector.detectMultiScale(\n",
    "    gray,\n",
    "    scaleFactor=1.1,\n",
    "    minNeighbors=5,\n",
    "    minSize=(30, 30),\n",
    "    flags = cv2.CASCADE_SCALE_IMAGE\n",
    ")\n",
    "\n",
    "# Рисуем прямоугольник вокруг лиц\n",
    "for (x, y, w, h) in faces:\n",
    "    cv2.rectangle(image, (x, y), (x+w, y+h), (0, 255, 0), 2)\n",
    "    \n",
    "# Выведите результат в виде матрицы изображений 2 х 2\n"
   ]
  },
  {
   "cell_type": "markdown",
   "metadata": {},
   "source": [
    "## Сверточные нейросети"
   ]
  },
  {
   "cell_type": "markdown",
   "metadata": {},
   "source": [
    "* Классификация\n",
    "* Детекция\n",
    "* Сегментация"
   ]
  },
  {
   "cell_type": "markdown",
   "metadata": {},
   "source": [
    "<img src=\"images13/fpls-08-02235-g003.jpg\">"
   ]
  },
  {
   "cell_type": "markdown",
   "metadata": {},
   "source": [
    "Из чего состоит\n",
    "* сверточные слои - извлекают _шаблоны_\n",
    "* слои субдискретизации (poolinhg layer)\n",
    "* полносвязные слои (1-2) на выходе модели"
   ]
  },
  {
   "cell_type": "markdown",
   "metadata": {},
   "source": [
    "<img src=\"images13/MaxpoolSample2.png\">"
   ]
  },
  {
   "cell_type": "markdown",
   "metadata": {},
   "source": [
    "### Пример нейросети "
   ]
  },
  {
   "cell_type": "markdown",
   "metadata": {},
   "source": [
    "### AlexNet (2012)"
   ]
  },
  {
   "cell_type": "markdown",
   "metadata": {},
   "source": [
    "<img src=\"images13/vgg-01.jpeg\">"
   ]
  },
  {
   "cell_type": "markdown",
   "metadata": {},
   "source": [
    "### VGG (2014)"
   ]
  },
  {
   "cell_type": "markdown",
   "metadata": {},
   "source": [
    "<img src=\"images13/vgg-02.png\">"
   ]
  },
  {
   "cell_type": "markdown",
   "metadata": {},
   "source": [
    "<img src=\"images13/vgg-16.png\">"
   ]
  },
  {
   "cell_type": "markdown",
   "metadata": {},
   "source": [
    "### ResNet  (2015)"
   ]
  },
  {
   "cell_type": "markdown",
   "metadata": {},
   "source": [
    "<img src=\"images13/resnet-1.png\">"
   ]
  },
  {
   "cell_type": "markdown",
   "metadata": {},
   "source": [
    "<img src=\"images13/resnet-2.png\">"
   ]
  },
  {
   "cell_type": "code",
   "execution_count": 7,
   "metadata": {},
   "outputs": [
    {
     "ename": "ModuleNotFoundError",
     "evalue": "No module named 'keras'",
     "output_type": "error",
     "traceback": [
      "\u001b[0;31m---------------------------------------------------------------------------\u001b[0m",
      "\u001b[0;31mModuleNotFoundError\u001b[0m                       Traceback (most recent call last)",
      "\u001b[0;32m<ipython-input-7-6db6807643f9>\u001b[0m in \u001b[0;36m<module>\u001b[0;34m\u001b[0m\n\u001b[0;32m----> 1\u001b[0;31m \u001b[0;32mfrom\u001b[0m \u001b[0mkeras\u001b[0m\u001b[0;34m.\u001b[0m\u001b[0mmodels\u001b[0m \u001b[0;32mimport\u001b[0m \u001b[0mSequential\u001b[0m\u001b[0;34m\u001b[0m\u001b[0;34m\u001b[0m\u001b[0m\n\u001b[0m\u001b[1;32m      2\u001b[0m \u001b[0;32mfrom\u001b[0m \u001b[0mkeras\u001b[0m\u001b[0;34m.\u001b[0m\u001b[0mlayers\u001b[0m\u001b[0;34m.\u001b[0m\u001b[0mcore\u001b[0m \u001b[0;32mimport\u001b[0m \u001b[0mDense\u001b[0m\u001b[0;34m,\u001b[0m \u001b[0mDropout\u001b[0m\u001b[0;34m,\u001b[0m \u001b[0mActivation\u001b[0m\u001b[0;34m,\u001b[0m \u001b[0mFlatten\u001b[0m\u001b[0;34m\u001b[0m\u001b[0;34m\u001b[0m\u001b[0m\n\u001b[1;32m      3\u001b[0m \u001b[0;32mfrom\u001b[0m \u001b[0mkeras\u001b[0m\u001b[0;34m.\u001b[0m\u001b[0mlayers\u001b[0m\u001b[0;34m.\u001b[0m\u001b[0mconvolutional\u001b[0m \u001b[0;32mimport\u001b[0m \u001b[0mConvolution2D\u001b[0m\u001b[0;34m,\u001b[0m \u001b[0mConv2D\u001b[0m\u001b[0;34m,\u001b[0m \u001b[0mMaxPooling2D\u001b[0m\u001b[0;34m\u001b[0m\u001b[0;34m\u001b[0m\u001b[0m\n\u001b[1;32m      4\u001b[0m \u001b[0;32mfrom\u001b[0m \u001b[0mkeras\u001b[0m\u001b[0;34m.\u001b[0m\u001b[0moptimizers\u001b[0m \u001b[0;32mimport\u001b[0m \u001b[0mSGD\u001b[0m\u001b[0;34m\u001b[0m\u001b[0;34m\u001b[0m\u001b[0m\n\u001b[1;32m      5\u001b[0m \u001b[0;32mfrom\u001b[0m \u001b[0mkeras\u001b[0m\u001b[0;34m.\u001b[0m\u001b[0mutils\u001b[0m \u001b[0;32mimport\u001b[0m \u001b[0mnp_utils\u001b[0m\u001b[0;34m\u001b[0m\u001b[0;34m\u001b[0m\u001b[0m\n",
      "\u001b[0;31mModuleNotFoundError\u001b[0m: No module named 'keras'"
     ]
    }
   ],
   "source": [
    "from keras.models import Sequential\n",
    "from keras.layers.core import Dense, Dropout, Activation, Flatten\n",
    "from keras.layers.convolutional import Convolution2D, Conv2D, MaxPooling2D\n",
    "from keras.optimizers import SGD\n",
    "from keras.utils import np_utils\n"
   ]
  },
  {
   "cell_type": "markdown",
   "metadata": {},
   "source": [
    "<img src=\"images13/keras-workflow.jpg\">"
   ]
  },
  {
   "cell_type": "markdown",
   "metadata": {},
   "source": [
    "## <font color=\"red\">ЗАДАНИЕ</font>"
   ]
  },
  {
   "cell_type": "markdown",
   "metadata": {},
   "source": [
    "Загрузите данные лиц, целевой вектор - имя каталога"
   ]
  },
  {
   "cell_type": "code",
   "execution_count": null,
   "metadata": {},
   "outputs": [],
   "source": [
    "# Ваш код\n"
   ]
  },
  {
   "cell_type": "markdown",
   "metadata": {},
   "source": [
    "#### Препроцессинг:"
   ]
  },
  {
   "cell_type": "markdown",
   "metadata": {},
   "source": [
    "* Определите координаты лиц\n",
    "* Преобразуйте все лица в вещественный массив в виде $(N, 128, 128, 3)$, где N - количество изображений"
   ]
  },
  {
   "cell_type": "markdown",
   "metadata": {},
   "source": [
    "Воспользуйтесь логистической регрессией "
   ]
  },
  {
   "cell_type": "code",
   "execution_count": null,
   "metadata": {},
   "outputs": [],
   "source": [
    "# Ваш код\n"
   ]
  },
  {
   "cell_type": "markdown",
   "metadata": {},
   "source": [
    "Оцените точность (accuracy)"
   ]
  },
  {
   "cell_type": "code",
   "execution_count": null,
   "metadata": {},
   "outputs": [],
   "source": [
    "# Ваш код\n"
   ]
  },
  {
   "cell_type": "markdown",
   "metadata": {},
   "source": [
    "Обучите сетку на основе MLP"
   ]
  },
  {
   "cell_type": "code",
   "execution_count": null,
   "metadata": {},
   "outputs": [],
   "source": []
  },
  {
   "cell_type": "code",
   "execution_count": null,
   "metadata": {},
   "outputs": [],
   "source": [
    "# Ваш код\n",
    "\n",
    "# измените разрешение на нужное\n",
    "input_shape = (128, 128,3)\n",
    "input_dim = input_shape[0] * input_shape[1] * input_shape[2]\n",
    "\n",
    "# количество выходных классов\n",
    "nb_classes = 10\n",
    "\n",
    "## Ниже - прототип модели! Переделывайте под себя, бейте его и т.д.\n",
    "# MLP\n",
    "model = Sequential()\n",
    "model.add(Dense(512, input_dim=input_dim))\n",
    "model.add(Activation('relu'))\n",
    "model.add(Dropout(0.15))\n",
    "model.add(Dense(512))\n",
    "model.add(Activation('relu'))\n",
    "model.add(Dropout(0.15))\n",
    "model.add(Dense(nb_classes))\n",
    "model.add(Activation('softmax'))\n",
    "\n",
    "# we'll use categorical xent for the loss, and RMSprop as the optimizer\n",
    "model.compile(loss='categorical_crossentropy', optimizer='rmsprop')\n",
    "model.summary()"
   ]
  },
  {
   "cell_type": "code",
   "execution_count": null,
   "metadata": {},
   "outputs": [],
   "source": [
    "print(\"Training...\")\n",
    "model.fit(X_train, y_train, nb_epoch=10, batch_size=16, validation_split=0.1, show_accuracy=True, verbose=2)\n",
    "\n",
    "print(\"Generating test predictions...\")\n",
    "preds = model.predict_classes(X_test, verbose=0)\n",
    "\n",
    "def write_preds(preds, fname):\n",
    "    pd.DataFrame({\"ImageId\": list(range(1,len(preds)+1)), \"Label\": preds}).to_csv(fname, index=False, header=True)\n",
    "\n",
    "write_preds(preds, \"keras-mlp.csv\")"
   ]
  },
  {
   "cell_type": "markdown",
   "metadata": {},
   "source": [
    "Оцените точность (accuracy)"
   ]
  },
  {
   "cell_type": "code",
   "execution_count": null,
   "metadata": {},
   "outputs": [],
   "source": [
    "# Ваш код\n"
   ]
  },
  {
   "cell_type": "markdown",
   "metadata": {},
   "source": [
    "Обучите сетку на основе VGG"
   ]
  },
  {
   "cell_type": "code",
   "execution_count": null,
   "metadata": {},
   "outputs": [],
   "source": [
    "# Ваш код\n",
    "\n",
    "## Ниже - прототип модели! Переделывайте под себя, бейте его и т.д.\n",
    "\n",
    "input_shape = (128, 128,3)\n",
    "\n",
    "model = Sequential()\n",
    "# input: 100x100 images with 3 channels -> (3, 100, 100) tensors.\n",
    "# this applies 32 convolution filters of size 3x3 each.\n",
    "\n",
    "model.add(Conv2D(32, kernel_size=(3, 3), activation='relu', input_shape=input_shape))\n",
    "model.add(Conv2D(32, kernel_size=(3, 3), activation='relu', input_shape=input_shape))\n",
    "model.add(MaxPooling2D(pool_size=(2, 2)))\n",
    "model.add(Dropout(0.25))\n",
    "\n",
    "model.add(Conv2D(64, kernel_size=(3, 3), activation='relu', input_shape=input_shape))\n",
    "model.add(Conv2D(64, kernel_size=(3, 3), activation='relu', input_shape=input_shape))\n",
    "model.add(MaxPooling2D(pool_size=(2, 2)))\n",
    "model.add(Dropout(0.25))\n",
    "\n",
    "model.add(Flatten())\n",
    "model.add(Dense(256))\n",
    "model.add(Activation('relu'))\n",
    "model.add(Dropout(0.5))\n",
    "\n",
    "model.add(Dense(10))\n",
    "model.add(Activation('softmax'))\n",
    "\n",
    "#sgd = SGD(lr=0.1, decay=1e-6, momentum=0.9, nesterov=True)\n",
    "#model.compile(loss='categorical_crossentropy', optimizer=sgd)\n",
    "\n",
    "model.compile(loss=keras.losses.categorical_crossentropy,\n",
    "              optimizer=keras.optimizers.Adadelta(),\n",
    "              metrics=['accuracy'])\n",
    "\n",
    "model.summary()"
   ]
  },
  {
   "cell_type": "markdown",
   "metadata": {},
   "source": [
    "Оцените точность (accuracy)"
   ]
  },
  {
   "cell_type": "code",
   "execution_count": null,
   "metadata": {},
   "outputs": [],
   "source": [
    "# Ваш код\n",
    "\n",
    "# Измените для себя!\n",
    "model.fit(x_train, y_train,\n",
    "          batch_size=batch_size,\n",
    "          epochs=epochs,\n",
    "          verbose=1,\n",
    "          validation_data=(x_test, y_test))\n",
    "score = model.evaluate(x_test, y_test, verbose=0)\n",
    "print('Test loss:', score[0])\n",
    "print('Test accuracy:', score[1])"
   ]
  },
  {
   "cell_type": "markdown",
   "metadata": {},
   "source": [
    "## Нейронные сети"
   ]
  },
  {
   "cell_type": "markdown",
   "metadata": {},
   "source": [
    "В качестве домашнего задания:\n",
    "* попробуйте реализовать то же самое с CFAR10"
   ]
  },
  {
   "cell_type": "code",
   "execution_count": null,
   "metadata": {},
   "outputs": [],
   "source": [
    "# Ваш код\n"
   ]
  },
  {
   "cell_type": "markdown",
   "metadata": {},
   "source": [
    "https://github.com/Prakashvanapalli/TensorFlow/blob/master/Blogposts/Backpropogation_with_Images.ipynb"
   ]
  },
  {
   "cell_type": "markdown",
   "metadata": {},
   "source": [
    "## Экзаменационные вопросы:"
   ]
  },
  {
   "cell_type": "markdown",
   "metadata": {},
   "source": [
    "* Проблемы MLP\n",
    "* Свертка и ядра свертки\n",
    "* Сверточные сети\n",
    "* Стандартный алогритм обучения на основе сверточной сети по изображениям"
   ]
  }
 ],
 "metadata": {
  "kernelspec": {
   "display_name": "Python 3",
   "language": "python",
   "name": "python3"
  },
  "language_info": {
   "codemirror_mode": {
    "name": "ipython",
    "version": 3
   },
   "file_extension": ".py",
   "mimetype": "text/x-python",
   "name": "python",
   "nbconvert_exporter": "python",
   "pygments_lexer": "ipython3",
   "version": "3.8.0"
  }
 },
 "nbformat": 4,
 "nbformat_minor": 2
}
