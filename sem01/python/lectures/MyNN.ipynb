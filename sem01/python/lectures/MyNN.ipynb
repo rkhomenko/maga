{
 "cells": [
  {
   "cell_type": "code",
   "execution_count": 5,
   "metadata": {},
   "outputs": [],
   "source": [
    "import numpy as np\n",
    "import pandas as pd\n",
    "import matplotlib.pyplot as plt\n",
    "\n",
    "%matplotlib inline"
   ]
  },
  {
   "cell_type": "markdown",
   "metadata": {},
   "source": [
    "## <font color=\"green\">Нейронная сеть</font>"
   ]
  },
  {
   "cell_type": "markdown",
   "metadata": {},
   "source": [
    "В этом блокноне Вы должны полностью реализовать свой вариант нейронной сети, пользуясь __только__\n",
    "функциями __numpy__ и базового __python__. \n",
    "\n",
    "Естественно, при отладке и проверке можно ипользоватю любые другие пакеты (pandas, matplotlib, sklearn и т.д.)\n",
    "\n",
    "В качестве итогового результата Вы должны получить сравнение результата работы Вашей сети со стандартными\n",
    "вариантами сети из пакета sklearn на MINST и \"малом\" ImageNet"
   ]
  },
  {
   "cell_type": "markdown",
   "metadata": {},
   "source": [
    "### <font color=\"red\">ВАЖНО!</font> \n",
    "При реализации функций потерь и функций активации:\n",
    "* Все функции должны работать с векторыми аргументами\n",
    "* Можно использовать только простые функции из numpy(exp, sin и т.д.)\n",
    "* Использовать уже реализованные в numpy функции активации и потерь __не допускается__<br><br>\n",
    "В качестве __обязательного__ алгоритма оптимизации должен быть реализован стохастический градиентные спуск (SGD). Реализация его вариантов (инерция, Нестеров и т.д) будет плюсом."
   ]
  },
  {
   "cell_type": "code",
   "execution_count": 7,
   "metadata": {},
   "outputs": [],
   "source": [
    "# Функции активаци\n",
    "\n",
    "def sigmoid(z):\n",
    "    return 1 / (1 - np.exp(-z))\n",
    "\n",
    "def tanh(z):\n",
    "    return np.tanh(z)\n",
    "\n",
    "def relu(z):\n",
    "    res = z[z < 0] = 0\n",
    "    return res"
   ]
  },
  {
   "cell_type": "code",
   "execution_count": 3,
   "metadata": {},
   "outputs": [],
   "source": [
    "# Функции потерь\n",
    "\n",
    "def loss_cross_ent(h, y):\n",
    "    pass\n",
    "\n",
    "def loss_mse(h, y):\n",
    "    pass\n",
    "\n",
    "def loss_hinge(h, y):\n",
    "    pass\n"
   ]
  },
  {
   "cell_type": "code",
   "execution_count": 4,
   "metadata": {},
   "outputs": [],
   "source": [
    "# Функции производных\n",
    "\n",
    "def sigmoid_deriv(z):\n",
    "    pass\n",
    "\n",
    "def tanh_deriv(z):\n",
    "    pass\n",
    "\n",
    "def relu_deriv(z):\n",
    "    pass"
   ]
  },
  {
   "cell_type": "code",
   "execution_count": 5,
   "metadata": {},
   "outputs": [],
   "source": [
    "# Класс, опредеающий один слой сети\n",
    "class Layer():\n",
    "    def __init__(n, activation=loss_cross_ent):\n",
    "        \"\"\"\n",
    "        n - количество нейронов в слое\n",
    "        activation - функция активации нейронов (по-умолчанию - кросс-энтропия)\n",
    "        \"\"\"\n",
    "        pass"
   ]
  },
  {
   "cell_type": "code",
   "execution_count": 6,
   "metadata": {},
   "outputs": [],
   "source": [
    "# Класс, определяющий нейросеть в целом\n",
    "class NeuralNet():\n",
    "    def __init__(n_input, n_output, nn_type='softmax'):\n",
    "        \"\"\"\n",
    "        n_input - количество входных нейронов\n",
    "        n_output - количество выходных нейронов\n",
    "        nn_type - тип выходнох нейронов. Возможны два варианта:\n",
    "            linear - для задачи регрессии\n",
    "            softmax (по умолчанию) - для задачи классификации\n",
    "        \"\"\"\n",
    "\n",
    "        pass\n",
    "\n",
    "    def __feedforward(self, X):\n",
    "        \"\"\"\n",
    "        реализация прямого прохода по сети\n",
    "        \"\"\"\n",
    "\n",
    "        pass\n",
    "        \n",
    "    def __backprop(self, X, Y):\n",
    "        \"\"\"\n",
    "        реализация обратного прохода по сети\n",
    "        \"\"\"\n",
    "        pass\n",
    "        \n",
    "    \n",
    "    def add_layer(layer):\n",
    "        \"\"\"\n",
    "        добавляет слой к сети\n",
    "        слои добавляются последовательно, от входа к выходу\n",
    "        \"\"\"\n",
    "        \n",
    "        pass\n",
    "\n",
    "    def info():\n",
    "        \"\"\"\n",
    "        выводит краткое описание всех слоев сети (включая входной и выходной)\n",
    "        с указанием количества и типов нейронов в слое\n",
    "        \"\"\"\n",
    "\n",
    "        pass\n",
    "\n",
    "    def fit(X, y, n_epoch=100):\n",
    "        \"\"\"\n",
    "        обучение нейронной сети\n",
    "        X - входная переменная, массив [m , n_input]\n",
    "        y - целевая переменная, массив [m , n_output]\n",
    "        \"\"\"\n",
    "\n",
    "        pass\n",
    "\n",
    "    def predict(X):\n",
    "        \"\"\"\n",
    "        X - входная переменная, массив [m , n_input]\n",
    "        Возвращает массив [m , n_output]\n",
    "        \"\"\"\n",
    "        \n",
    "        pass"
   ]
  },
  {
   "cell_type": "markdown",
   "metadata": {},
   "source": [
    "## Проверка работы сети"
   ]
  },
  {
   "cell_type": "markdown",
   "metadata": {},
   "source": [
    "Проверка работы c sklearn должна быть выполнена полностью, а именно:\n",
    "* выполнена кросс-валидация \n",
    "* выполнена проверка с помощью стандартной логистической регрессии с числом нейронов $(N_{input} + N_{output}) * log_2 {N_{records}}$, где $N_{input}$ - число входных переменных, $N_{output}$ - количество выходных переменных, $N_{records}$ - количество записей в выборке\n",
    "\n",
    "* проверены несколько параметров сети и выбраны лучшие\n",
    "\n",
    "Для запуска Вашей версии ледует использовать лучшие параметры, найденные на реализации с sklearn."
   ]
  },
  {
   "cell_type": "markdown",
   "metadata": {},
   "source": [
    "### MNIST"
   ]
  },
  {
   "cell_type": "code",
   "execution_count": 7,
   "metadata": {},
   "outputs": [
    {
     "name": "stdout",
     "output_type": "stream",
     "text": [
      "(1797, 64)\n"
     ]
    }
   ],
   "source": [
    "from sklearn.datasets import load_digits\n",
    "\n",
    "digits = load_digits()\n",
    "print(digits.data.shape)"
   ]
  },
  {
   "cell_type": "code",
   "execution_count": 8,
   "metadata": {},
   "outputs": [
    {
     "data": {
      "text/plain": [
       "<Figure size 432x288 with 0 Axes>"
      ]
     },
     "metadata": {},
     "output_type": "display_data"
    },
    {
     "data": {
      "image/png": "[encoded data removed]",
      "text/plain": [
       "<Figure size 288x288 with 1 Axes>"
      ]
     },
     "metadata": {
      "needs_background": "light"
     },
     "output_type": "display_data"
    }
   ],
   "source": [
    "plt.gray() \n",
    "plt.matshow(digits.images[0]) \n",
    "plt.show() "
   ]
  },
  {
   "cell_type": "code",
   "execution_count": 9,
   "metadata": {},
   "outputs": [],
   "source": [
    "### Код с применением стандартной sklearn\n"
   ]
  },
  {
   "cell_type": "code",
   "execution_count": 10,
   "metadata": {},
   "outputs": [],
   "source": [
    "### Код с применением Вашей реализации\n"
   ]
  },
  {
   "cell_type": "markdown",
   "metadata": {},
   "source": [
    "### CIFAR-10"
   ]
  },
  {
   "cell_type": "code",
   "execution_count": 11,
   "metadata": {},
   "outputs": [],
   "source": [
    "# https://www.cs.toronto.edu/~kriz/cifar.html\n",
    "\n",
    "# Вам нужен файл:\n",
    "# https://www.cs.toronto.edu/~kriz/cifar-10-python.tar.gz"
   ]
  },
  {
   "cell_type": "code",
   "execution_count": 12,
   "metadata": {},
   "outputs": [],
   "source": [
    "def unpickle(file):\n",
    "    import pickle\n",
    "    with open(file, 'rb') as fo:\n",
    "        dict = pickle.load(fo, encoding='bytes')\n",
    "    return dict"
   ]
  },
  {
   "cell_type": "markdown",
   "metadata": {},
   "source": [
    "Loaded in this way, each of the batch files contains a dictionary with the following elements:<br><br>\n",
    "* __data__ -- a 10000x3072 numpy array of uint8s. Each row of the array stores a 32x32 colour image. The first 1024 entries contain the red channel values, the next 1024 the green, and the final 1024 the blue. The image is stored in row-major order, so that the first 32 entries of the array are the red channel values of the first row of the image.<br><br>\n",
    "* __labels__ -- a list of 10000 numbers in the range 0-9. The number at index i indicates the label of the ith image in the array data."
   ]
  },
  {
   "cell_type": "code",
   "execution_count": 13,
   "metadata": {},
   "outputs": [],
   "source": [
    "### Код с применением стандартной sklearn\n"
   ]
  },
  {
   "cell_type": "code",
   "execution_count": 14,
   "metadata": {},
   "outputs": [],
   "source": [
    "### Код с применением Вашей реализации\n"
   ]
  },
  {
   "cell_type": "code",
   "execution_count": null,
   "metadata": {},
   "outputs": [],
   "source": []
  }
 ],
 "metadata": {
  "kernelspec": {
   "display_name": "Python 3",
   "language": "python",
   "name": "python3"
  },
  "language_info": {
   "codemirror_mode": {
    "name": "ipython",
    "version": 3
   },
   "file_extension": ".py",
   "mimetype": "text/x-python",
   "name": "python",
   "nbconvert_exporter": "python",
   "pygments_lexer": "ipython3",
   "version": "3.8.0"
  }
 },
 "nbformat": 4,
 "nbformat_minor": 2
}
