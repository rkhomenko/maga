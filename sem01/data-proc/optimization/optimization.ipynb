{
 "cells": [
  {
   "cell_type": "markdown",
   "metadata": {
    "pycharm": {
     "name": "#%% md\n"
    }
   },
   "source": [
    "### Тестирование реализации RBF сети"
   ]
  },
  {
   "cell_type": "code",
   "execution_count": null,
   "metadata": {
    "pycharm": {
     "is_executing": false,
     "name": "#%%\n"
    }
   },
   "outputs": [],
   "source": [
    "import numpy as np\n",
    "import rbf\n",
    "import matplotlib.pyplot as plt"
   ]
  },
  {
   "cell_type": "markdown",
   "metadata": {
    "collapsed": true,
    "pycharm": {
     "name": "#%% md\n"
    }
   },
   "source": [
    "#### 1. Тестирование на радиальной базисной функции"
   ]
  },
  {
   "cell_type": "code",
   "execution_count": null,
   "metadata": {
    "pycharm": {
     "is_executing": false,
     "name": "#%% \n"
    }
   },
   "outputs": [],
   "source": [
    "def gaussian_helper(x, mu, disp_det, dips_inv):\n",
    "    c = 1 / np.sqrt(disp_det) / np.sqrt(2 * np.pi) ** x.shape[0]\n",
    "    return c * np.exp( - 1 / 2 * (x - mu).T * dips_inv * (x - mu))\n",
    "\n",
    "def gaussian(X, mu, disp):\n",
    "    disp_det =  disp if np.isscalar(disp) else np.linalg.det(disp)\n",
    "    disp_inv = 1 / disp if np.isscalar(disp) else np.linalg.inv(disp)\n",
    "    \n",
    "    if len(X.shape) == 1:\n",
    "        return gaussian_helper(X, mu, disp_det, disp_inv)\n",
    "    \n",
    "    return np.apply_along_axis(\n",
    "        lambda x: gaussian_helper(x, mu, disp_det, disp_inv), arr=X, axis=1)"
   ]
  },
  {
   "cell_type": "code",
   "execution_count": null,
   "metadata": {
    "pycharm": {
     "is_executing": false,
     "name": "#%%\n"
    }
   },
   "outputs": [],
   "source": [
    "X = np.linspace(0, 10, 100).reshape((100, 1))\n",
    "y1 = gaussian(X, 7, 0.5)\n",
    "y2 = gaussian(X, 5, 1)\n",
    "y = y1 + y2"
   ]
  },
  {
   "cell_type": "code",
   "execution_count": null,
   "metadata": {
    "pycharm": {
     "is_executing": false,
     "name": "#%%\n"
    }
   },
   "outputs": [],
   "source": [
    "plt.scatter(X, y)"
   ]
  },
  {
   "cell_type": "markdown",
   "metadata": {
    "pycharm": {
     "is_executing": false,
     "name": "#%% md\n"
    }
   },
   "source": [
    "Обучим RBF сеть на сгенерированных данных"
   ]
  },
  {
   "cell_type": "code",
   "execution_count": null,
   "metadata": {
    "pycharm": {
     "is_executing": false,
     "name": "#%%\n"
    }
   },
   "outputs": [],
   "source": [
    "net = rbf.RBFNet(rbf_num=2)\n",
    "net.train(X, y)\n",
    "w, e, b = net.get_params()\n",
    "print('w:', w)\n",
    "print('e:', e)\n",
    "print('b:', b)"
   ]
  },
  {
   "cell_type": "code",
   "execution_count": null,
   "metadata": {
    "pycharm": {
     "is_executing": false,
     "name": "#%%\n"
    }
   },
   "outputs": [],
   "source": [
    "print('J(theta): ', rbf.RBFNet.J(X, y, net.get_theta(), net.get_rbf_num()))\n",
    "plt.plot(X, y)\n",
    "plt.scatter(X, net.fit(X))"
   ]
  },
  {
   "cell_type": "code",
   "execution_count": null,
   "metadata": {
    "pycharm": {
     "is_executing": false,
     "name": "#%%\n"
    }
   },
   "outputs": [],
   "source": [
    "rbfs = rbf.RBFNet.h_split(X, net.get_theta(), net.get_rbf_num())"
   ]
  },
  {
   "cell_type": "code",
   "execution_count": null,
   "metadata": {
    "pycharm": {
     "is_executing": false,
     "name": "#%%\n"
    }
   },
   "outputs": [],
   "source": [
    "for i in range(net.get_rbf_num()):\n",
    "    plt.plot(X, rbfs[:, i], label=f'rbf{i}')\n",
    "plt.legend()"
   ]
  },
  {
   "cell_type": "code",
   "execution_count": null,
   "metadata": {
    "pycharm": {
     "is_executing": false,
     "name": "#%%\n"
    }
   },
   "outputs": [],
   "source": [
    "rbf.RBFNet.J_der(X, y, net.get_theta(), net.get_rbf_num())\n",
    "\n"
   ]
  }
 ],
 "metadata": {
  "kernelspec": {
   "display_name": "Python 3",
   "language": "python",
   "name": "python3"
  },
  "language_info": {
   "codemirror_mode": {
    "name": "ipython",
    "version": 3
   },
   "file_extension": ".py",
   "mimetype": "text/x-python",
   "name": "python",
   "nbconvert_exporter": "python",
   "pygments_lexer": "ipython3",
   "version": "3.7.4"
  },
  "pycharm": {
   "stem_cell": {
    "cell_type": "raw",
    "metadata": {
     "collapsed": false
    },
    "source": []
   }
  }
 },
 "nbformat": 4,
 "nbformat_minor": 1
}
