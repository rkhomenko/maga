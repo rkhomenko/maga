{
 "cells": [
  {
   "cell_type": "markdown",
   "source": [
    "### Тестирование реализации RBF сети"
   ],
   "metadata": {
    "collapsed": false,
    "pycharm": {
     "name": "#%% md\n"
    }
   }
  },
  {
   "cell_type": "code",
   "execution_count": 41,
   "outputs": [],
   "source": [
    "import numpy as np\n",
    "import rbf\n",
    "import matplotlib.pyplot as plt"
   ],
   "metadata": {
    "collapsed": false,
    "pycharm": {
     "name": "#%%\n",
     "is_executing": false
    }
   }
  },
  {
   "cell_type": "markdown",
   "metadata": {
    "collapsed": true,
    "pycharm": {
     "name": "#%% md\n"
    }
   },
   "source": [
    "#### 1. Тестирование радиальной базисной функции"
   ]
  },
  {
   "cell_type": "code",
   "source": [
    "def gaussian_helper(x, mu, disp_det, dips_inv):\n",
    "    c = 1 / np.sqrt(disp_det) / np.sqrt(2 * np.pi) ** x.shape[0]\n",
    "    return c * np.exp( - 1 / 2 * (x - mu).T * dips_inv * (x - mu))\n",
    "\n",
    "def gaussian(X, mu, disp):\n",
    "    disp_det =  disp if np.isscalar(disp) else np.linalg.det(disp)\n",
    "    disp_inv = 1 / disp if np.isscalar(disp) else np.linalg.inv(disp)\n",
    "    \n",
    "    if len(X.shape) == 1:\n",
    "        return gaussian_helper(X, mu, disp_det, disp_inv)\n",
    "    \n",
    "    return np.apply_along_axis(\n",
    "        lambda x: gaussian_helper(x, mu, disp_det, disp_inv), arr=X, axis=1)"
   ],
   "metadata": {
    "collapsed": false,
    "pycharm": {
     "name": "#%% \n",
     "is_executing": false
    }
   },
   "execution_count": 42,
   "outputs": []
  },
  {
   "cell_type": "code",
   "execution_count": 43,
   "outputs": [],
   "source": [
    "X = np.linspace(0, 10, 100).reshape((100, 1))\n",
    "y = gaussian(X, 5, 1)"
   ],
   "metadata": {
    "collapsed": false,
    "pycharm": {
     "name": "#%%\n",
     "is_executing": false
    }
   }
  },
  {
   "cell_type": "code",
   "execution_count": 44,
   "outputs": [],
   "source": [
    "plt.scatter(X, y)"
   ],
   "metadata": {
    "collapsed": false,
    "pycharm": {
     "name": "#%%\n",
     "is_executing": false
    }
   }
  },
  {
   "cell_type": "markdown",
   "source": [
    "Обучим RBF сеть на сгенерированных данных"
   ],
   "metadata": {
    "collapsed": false,
    "pycharm": {
     "name": "#%% md\n",
     "is_executing": false
    }
   }
  },
  {
   "cell_type": "code",
   "execution_count": 45,
   "outputs": [],
   "source": [
    "net = rbf.RBFNet(rbf_num=1)\n",
    "net.train(X, y)\n",
    "w, e, b = net.get_params()\n",
    "print('w:', w)\n",
    "print('e:', e)\n",
    "print('b:', b)"
   ],
   "metadata": {
    "collapsed": false,
    "pycharm": {
     "name": "#%%\n",
     "is_executing": false
    }
   }
  },
  {
   "cell_type": "code",
   "execution_count": 46,
   "outputs": [],
   "source": [
    "print('J(theta): ', rbf.RBFNet.J(X, y, net.get_theta(), net.get_rbf_num()))\n",
    "plt.plot(X, y)\n",
    "plt.scatter(X, net.fit(X))"
   ],
   "metadata": {
    "collapsed": false,
    "pycharm": {
     "name": "#%%\n",
     "is_executing": false
    }
   }
  },
  {
   "cell_type": "code",
   "execution_count": 47,
   "outputs": [],
   "source": [
    "rbfs = rbf.RBFNet.h_split(X, net.get_theta(), net.get_rbf_num())"
   ],
   "metadata": {
    "collapsed": false,
    "pycharm": {
     "name": "#%%\n",
     "is_executing": false
    }
   }
  },
  {
   "cell_type": "code",
   "execution_count": 48,
   "outputs": [],
   "source": [
    "for i in range(net.get_rbf_num()):\n",
    "    plt.plot(X, rbfs[:, i], label=f'rbf{i}')\n",
    "plt.legend()"
   ],
   "metadata": {
    "collapsed": false,
    "pycharm": {
     "name": "#%%\n",
     "is_executing": false
    }
   }
  },
  {
   "cell_type": "code",
   "execution_count": 48,
   "outputs": [],
   "source": [
    "\n"
   ],
   "metadata": {
    "collapsed": false,
    "pycharm": {
     "name": "#%%\n",
     "is_executing": false
    }
   }
  }
 ],
 "metadata": {
  "kernelspec": {
   "display_name": "Python 3",
   "language": "python",
   "name": "python3"
  },
  "language_info": {
   "codemirror_mode": {
    "name": "ipython",
    "version": 2
   },
   "file_extension": ".py",
   "mimetype": "text/x-python",
   "name": "python",
   "nbconvert_exporter": "python",
   "pygments_lexer": "ipython2",
   "version": "2.7.6"
  },
  "pycharm": {
   "stem_cell": {
    "cell_type": "raw",
    "source": [],
    "metadata": {
     "collapsed": false
    }
   }
  }
 },
 "nbformat": 4,
 "nbformat_minor": 0
}