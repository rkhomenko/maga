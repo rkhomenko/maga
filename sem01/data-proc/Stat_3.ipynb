{
 "cells": [
  {
   "cell_type": "markdown",
   "metadata": {},
   "source": [
    "# Непараметрические критерии"
   ]
  },
  {
   "cell_type": "code",
   "execution_count": 5,
   "metadata": {
    "scrolled": true
   },
   "outputs": [],
   "source": [
    "import numpy as np\n",
    "import scipy.stats as st\n",
    "import matplotlib as mpl\n",
    "import matplotlib.pyplot as plt\n",
    "\n",
    "default_dpi = mpl.rcParamsDefault['figure.dpi']\n",
    "factor = 1\n",
    "mpl.rcParams['figure.dpi'] = default_dpi * factor\n"
   ]
  },
  {
   "cell_type": "markdown",
   "metadata": {},
   "source": [
    "### Двувыборочный критерий Колмогорова-Смирнова (тест на однородность).\n",
    "Статистика критерия задается следуюим образом: $$D_{n,\\;m}=\\sup _{x}|F_{1,\\;n}-F_{2,\\;m}|$$.\n",
    "Теорема Смирнова.\n",
    "Пусть $ F_{1,\\;n}(x),\\;F_{2,\\;m}(x)$  — эмпирические функции распределения, построенные по независимым выборкам объёмом  n и m случайной величины $\\xi$. Тогда, если $ F(x)\\in C^{1}(\\mathbb {X} )$, то $$ \\forall t>0\\colon \\lim _{n,\\;m\\to \\infty }P\\left({\\sqrt {\\frac {nm}{n+m}}}D_{n,\\;m}\\leqslant t\\right)=K(t)=\\sum _{j=-\\infty }^{+\\infty }(-1)^{j}e^{-2j^{2}t^{2}}$$ \n",
    "Если статистика $ {\\sqrt {\\frac {nm}{n+m}}}D_{n,\\;m}$  превышает квантиль распределения Колмогорова $ K_{\\alpha }$  для заданного уровня значимости $ \\alpha $ , то нулевая гипотеза $ H_{0}$  (об однородности выборок) отвергается. Иначе гипотеза принимается на уровне $\\alpha $"
   ]
  },
  {
   "cell_type": "code",
   "execution_count": 3,
   "metadata": {},
   "outputs": [
    {
     "name": "stdout",
     "output_type": "stream",
     "text": [
      "KstestResult(statistic=0.10647231515700262, pvalue=0.5363207547818561)\n",
      "----------------------------------------\n",
      "KstestResult(statistic=0.5489661455887558, pvalue=4.345756136862633e-16)\n",
      "----------------------------------------\n",
      "KstestResult(statistic=0.5489661455887558, pvalue=2.1728780684313165e-16)\n",
      "----------------------------------------\n",
      "KstestResult(statistic=0.15042449319062878, pvalue=0.07484783880883378)\n",
      "----------------------------------------\n",
      "KstestResult(statistic=0.10647231515700262, pvalue=0.5363207547818561)\n",
      "----------------------------------------\n"
     ]
    }
   ],
   "source": [
    "#Одновыборочный\n",
    "X = np.random.randn(55)\n",
    "\n",
    "print(st.kstest(X, 'norm'))\n",
    "print('-'*40)\n",
    "\n",
    "X = 2.0+X*4.0;\n",
    "\n",
    "print(st.kstest(X, 'norm'))\n",
    "print('-'*40)\n",
    "\n",
    "print(st.kstest(X, 'norm', alternative = 'less'))\n",
    "print('-'*40)\n",
    "\n",
    "print(st.kstest(X, 'norm', alternative = 'greater'))\n",
    "print('-'*40)\n",
    "\n",
    "print(st.kstest(X, 'norm', args=(2.0, 4.0)))\n",
    "print('-'*40)"
   ]
  },
  {
   "cell_type": "code",
   "execution_count": 4,
   "metadata": {},
   "outputs": [
    {
     "name": "stdout",
     "output_type": "stream",
     "text": [
      "Ks_2sampResult(statistic=0.22333333333333333, pvalue=0.0009447138597600269)\n",
      "----------------------------------------\n",
      "Ks_2sampResult(statistic=0.35333333333333333, pvalue=8.298664644357245e-09)\n"
     ]
    }
   ],
   "source": [
    "#Двувыборочный\n",
    "Y = np.random.randn(200);\n",
    "X = np.random.randn(120);\n",
    "\n",
    "print(st.ks_2samp(X, Y))\n",
    "print('-'*40)\n",
    "\n",
    "X = 2.0*X\n",
    "print(st.ks_2samp(X, Y))\n"
   ]
  },
  {
   "cell_type": "markdown",
   "metadata": {},
   "source": [
    "## Ранговые критерии\n",
    "### Различия между независимыми выборками\n",
    "#### Критерий Мани-Уитни (U-test)\n",
    "\n",
    "Заданы две выборки $X_n, Y_m$\n",
    "\n",
    "1. обе выборки независимые;\n",
    "2. выборки взяты из неизвестных непрерывных распределений F(x) и G(y).\n",
    "\n",
    "Нулевая гипотеза: $$H_0:\\; \\mathbb{P} \\{ x<y \\} = 1/2$$\n",
    "Построить общий вариационный ряд объединённой выборки $x^{(1)} \\leq \\cdots \\leq x^{(m+n)}$ и найти ранги $r(x_i),\\; r(y_i)$ всех элементов обеих выборок в общем вариационном ряду.\n",
    "Вычислить суммарные ранги обеих выборок и статистику Манна-Уитни  $U$:\n",
    "$$R_x = \\sum_{i=1}^m r(x_i);\\;\\;\\;\\; U_x = mn + \\frac12m(m+1) - R_x;$$\n",
    "$$R_y = \\sum_{i=1}^n r(y_i);\\;\\;\\;\\; U_y = mn + \\frac12n(n+1) - R_y;$$\n",
    "$$U = \\min\\left\\{U_x,U_y\\right\\}$.$$\n",
    "\n",
    "Менее рациональный способ вычисления статистик Манна-Уитни $U_x,\\: U_y$:\n",
    "$$U_x = \\sum_{i=1}^m \\sum_{j=1}^n \\left[ x_i < y_j\\right];$$\n",
    "$$U_y = \\sum_{i=1}^m \\sum_{j=1}^n \\left[ x_i > y_j\\right].$$\n",
    "**Критерий (при уровне значимости $\\alpha$):**\n",
    "\n",
    "Критическая область асимптотического критерия Манна-Уитни.\n",
    "\n",
    "против альтернативы $H_1:\\; \\mathbb{P} \\{ x<y \\} \\neq 1/2$\n",
    "$$U \\notin \\left[ U_{\\alpha/2},\\, U_{1-\\alpha/2} \\right]$$\n",
    "\n",
    "$H_1:\\; \\mathbb{P} \\{ x<y \\} > 1/2$\n",
    "$$U_x > U_{1-\\alpha} $$\n",
    "$H_1:\\; \\mathbb{P} \\{ x<y \\} < 1/2$\n",
    "$$U_y > U_{1-\\alpha}$$\n",
    "где $ U_{\\alpha}$  есть $\\alpha$-квантиль табличного распределения Уилкоксона-Манна-Уитни с параметрами $m,\\,n$.\n",
    "\n",
    "Критические значения критерия Манна-Уитни можно найти, например, в справочнике: Кобзарь А. И. Прикладная математическая статистика. — М.: Физматлит, 2006. — 816 с. [455] \n",
    "В Python они затабулированы, для n>20 действует нормальная аппроксимация."
   ]
  },
  {
   "cell_type": "code",
   "execution_count": 39,
   "metadata": {
    "scrolled": true
   },
   "outputs": [
    {
     "name": "stdout",
     "output_type": "stream",
     "text": [
      "[1 0 0 0 0 0 1 1 1 1 1 0]\n",
      "[9.5 3.5 3.5 3.5 3.5 3.5 9.5 9.5 9.5 9.5 9.5 3.5]\n",
      "27.0 51.0\n",
      "\n",
      "Проверка U_x+U_y = n*m\n",
      " 36.0 = 36\n",
      "\n",
      " 30.0 6.0 6.0\n",
      "MannwhitneyuResult(statistic=6.0, pvalue=0.017047146596295252)\n",
      "MannwhitneyuResult(statistic=36.0, pvalue=0.15374472830934066)\n"
     ]
    }
   ],
   "source": [
    "#st.mannwhitneyu T H H H H H T T T T T H\n",
    "x = np.array([1, 0, 0, 0, 0, 0]);\n",
    "y = np.array([1, 1, 1, 1, 1, 0]);\n",
    "z = np.hstack((x, y));\n",
    "\n",
    "m = len(x);\n",
    "n = len(y);\n",
    "\n",
    "R = st.rankdata(z, method='average')\n",
    "\n",
    "print(z)\n",
    "print(R)\n",
    "\n",
    "R_x = 0;\n",
    "R_y = 0;\n",
    "\n",
    "for i in range(m):\n",
    "    R_x = R_x+R[i]\n",
    "    R_y = R_y+R[m+i]\n",
    "\n",
    "print(R_x, R_y)\n",
    "\n",
    "\n",
    "U_x = (m*n) + ((m*(m+1))/2.0) - R_x;\n",
    "U_y = (m*n) + ((n*(n+1))/2.0) - R_y;\n",
    "print('\\nПроверка U_x+U_y = n*m\\n', U_x+U_y, '=',n*m)\n",
    "\n",
    "U = min(U_x, U_y);\n",
    "\n",
    "print('\\n', U_x, U_y, U)\n",
    "\n",
    "print(st.mannwhitneyu(x, y))\n",
    "\n",
    "x = np.random.randn(10)\n",
    "y = np.random.randn(10)\n",
    "\n",
    "print(st.mannwhitneyu(x, y))"
   ]
  },
  {
   "cell_type": "markdown",
   "metadata": {},
   "source": [
    "### Критерий Краскера-Уоллиса\n",
    "Проверяется нулевая гипотеза $ H_{0}\\colon F_{1}(x)=\\ldots =F_{k}(x)$  при альтернативе $ H_{1}\\colon F_{1}(x)=F_{2}(x-\\Delta _{1})=\\ldots =F_{k}(x-\\Delta _{k-1})$ "
   ]
  },
  {
   "cell_type": "code",
   "execution_count": 34,
   "metadata": {},
   "outputs": [
    {
     "data": {
      "text/plain": [
       "KruskalResult(statistic=2.888749252188063, pvalue=0.4090978033459266)"
      ]
     },
     "execution_count": 34,
     "metadata": {},
     "output_type": "execute_result"
    }
   ],
   "source": [
    "x_1 = np.random.randn(1000)\n",
    "x_2 = np.random.randn(1000)\n",
    "x_3 = np.random.randn(1000)\n",
    "x_4 = np.random.randn(1000)\n",
    "\n",
    "st.kruskal(x_1, x_2, x_3, x_4)"
   ]
  },
  {
   "cell_type": "markdown",
   "metadata": {},
   "source": [
    "## Различия между зависимыми выборками\n",
    "### Критерий Уилкоксона (Критерий знаковых рангов)\n",
    "Данные приходят парами\n",
    "\n",
    "Гипотеза $H_0$: медиана разностей в парах равна 0\n",
    "\n",
    "Альтернативная - $H_1$: медиана разностей в парах не равна 0\n",
    "\n",
    "Пусть N — размер выборки (число пар). Обозначим $x_{1,i}$ — элементы 1 выборки и $x_{2,i}$ — элементы 2 выборки.\n",
    "\n",
    "1. Для $i = 1, ..., N$, вычислить $|x_{2,i} - x_{1,i}|$ и $sign(x_{2,i} - x_{1,i})$\n",
    "\n",
    "2. Исключить пары, где $|x_{2,i} - x_{1,i}| = 0.$ Пусть $N_r$ — размер полученной выборки после удаления таких пар\n",
    "\n",
    "3. Упорядочить оставшиеся $N_r$ пар в порядке возрастания модуля разности, $|x_{2,i} - x_{1,i}|$.\n",
    "\n",
    "4. Построить ранги всех пар, $R_i$ обозначает ранг i-й пары.\n",
    "\n",
    "5. Вычислить статистику W $$W = |\\sum_{i=1}^{N_r} [sign(x_{2,i} - x_{1,i}) \\cdot R_i]|$$, модуль суммы знаковых рангов."
   ]
  },
  {
   "cell_type": "code",
   "execution_count": 7,
   "metadata": {},
   "outputs": [
    {
     "data": {
      "text/plain": [
       "WilcoxonResult(statistic=25.0, pvalue=0.7988593499960496)"
      ]
     },
     "execution_count": 7,
     "metadata": {},
     "output_type": "execute_result"
    }
   ],
   "source": [
    "t_1 = np.random.randn(10)\n",
    "t_2 = np.random.randn(10)\n",
    "#t_2 = t_1\n",
    "\n",
    "st.wilcoxon(t_1,t_2)"
   ]
  },
  {
   "cell_type": "markdown",
   "metadata": {},
   "source": [
    "## Коэффициент корреляции Спирмена\n",
    "\n",
    "Заданы две выборки $x = (x_1,\\ldots,x_n),\\;\\; y = (y_1,\\ldots,y_n).$\n",
    "\n",
    "\n",
    "Коэффициент корреляции Спирмена вычисляется по формуле: $$\\rho=1-\\frac{6}{n(n-1)(n+1)}\\sum_{i=1}^n(R_i-S_i)^2,$$где R_i - ранг наблюдения $x_i$ в ряду $x$, $S_i$ - ранг наблюдения $y_i$ в ряду $y$.\n",
    "Коэффициент $\\rho$ принимает значения из отрезка $[-1;\\;1]$. Равенство $\\rho=1$ указывает на строгую прямую линейную зависимость, $\\rho=-1$ на обратную."
   ]
  },
  {
   "cell_type": "code",
   "execution_count": 8,
   "metadata": {
    "scrolled": true
   },
   "outputs": [
    {
     "name": "stdout",
     "output_type": "stream",
     "text": [
      "[-2.19069187 -0.82690458  0.11799125  0.0904978   0.51305641 -0.12623631\n",
      "  1.09730175 -1.09351581  1.01545109 -0.38440373]\n",
      "[ 1  3  7  6  8  5 10  2  9  4]\n",
      "\n",
      " ----------------------------------------\n",
      "[ 1.04871512  0.16299679  0.32505061  0.2250553  -0.55028039 -1.34474704\n",
      "  0.05831274  0.22751181  1.28088581 -0.76987477]\n",
      "[ 9  5  8  6  3  1  4  7 10  2]\n",
      "-0.06666666666666665\n",
      "SpearmanrResult(correlation=-0.06666666666666665, pvalue=0.8548130882487426)\n"
     ]
    }
   ],
   "source": [
    "print(t_1)\n",
    "R = st.rankdata(t_1, method='min')\n",
    "print(R)\n",
    "\n",
    "print('\\n', '-'*40)\n",
    "\n",
    "print(t_2)\n",
    "S = st.rankdata(t_2, method='min')\n",
    "print(S)\n",
    "\n",
    "d = 0.0;\n",
    "for i in range(len(t_1)):\n",
    "    d = d + (R[i]-S[i])**2\n",
    "\n",
    "n = float(len(t_1))\n",
    "\n",
    "my_sp = 1.0 - ((6.0*d)/(n*(n-1.0)*(n+1.0)))\n",
    "print(my_sp)\n",
    "\n",
    "print(st.spearmanr(t_1, t_2))"
   ]
  },
  {
   "cell_type": "markdown",
   "metadata": {},
   "source": [
    "**Если есть связные ранги**"
   ]
  },
  {
   "cell_type": "code",
   "execution_count": null,
   "metadata": {},
   "outputs": [],
   "source": []
  },
  {
   "cell_type": "markdown",
   "metadata": {},
   "source": [
    "## Bootstrap"
   ]
  },
  {
   "cell_type": "code",
   "execution_count": 20,
   "metadata": {},
   "outputs": [
    {
     "name": "stdout",
     "output_type": "stream",
     "text": [
      "Shapiro =  (0.9993586540222168, 0.9111216068267822) \n",
      "\n"
     ]
    },
    {
     "data": {
      "image/png": "[encoded data removed]",
      "text/plain": [
       "<Figure size 432x288 with 1 Axes>"
      ]
     },
     "metadata": {},
     "output_type": "display_data"
    }
   ],
   "source": [
    "X = np.random.randn(1500);\n",
    "X = 2.0 + 4.0*X\n",
    "plt.hist(X, bins = 10);\n",
    "print('Shapiro = ',st.shapiro(X), '\\n');"
   ]
  },
  {
   "cell_type": "code",
   "execution_count": 8,
   "metadata": {},
   "outputs": [
    {
     "name": "stdout",
     "output_type": "stream",
     "text": [
      "0\n",
      "5000\n",
      "0.06799230861527282\n",
      "Shapiro =  (0.9994366765022278, 0.13360759615898132) \n",
      "\n",
      "bootstrap:  1.9957891641469394 \n",
      " [1.745480973259978, 2.2597743982709346]\n",
      "\n",
      "\n",
      "theoretical:  2.0129964001602865 \n",
      " [1.649132079749694, 2.376860720570879]\n"
     ]
    },
    {
     "data": {
      "image/png": "[encoded data removed]",
      "text/plain": [
       "<Figure size 600x400 with 1 Axes>"
      ]
     },
     "metadata": {
      "needs_background": "light"
     },
     "output_type": "display_data"
    }
   ],
   "source": [
    "#print(X);\n",
    "from sklearn.utils import resample\n",
    "\n",
    "boot = []\n",
    "\n",
    "print(len(boot))\n",
    "\n",
    "\n",
    "for i in range(5000):\n",
    "    imit = resample(X, replace = True);\n",
    "    boot.append(np.std(imit))\n",
    "    \n",
    "print(len(boot))\n",
    "\n",
    "plt.hist(boot, bins = 100);\n",
    "print (st.skew(boot))\n",
    "print('Shapiro = ',st.shapiro(boot), '\\n');\n",
    "\n",
    "alpha = 0.05\n",
    "#boot = np.sort(boot);\n",
    "print('bootstrap: ', np.percentile(boot,50), '\\n', [np.percentile(boot,(alpha/2)*100.0), np.percentile(boot,100-(alpha/2)*100)])\n",
    "\n",
    "\n",
    "S = np.std(X);\n",
    "delta = (st.t.ppf(1.0-(alpha/2.0), len(X)-1)*S)/np.sqrt(float(len(X)))\n",
    "\n",
    "#print('\\n', np.percentile(boot,100-(alpha/2)*100)-np.percentile(boot,(alpha/2)*100.0))\n",
    "#print(2*delta)\n",
    "\n",
    "print('\\n\\ntheoretical: ', np.std(X), '\\n', [np.std(X)-delta, delta+np.std(X)])\n"
   ]
  },
  {
   "cell_type": "code",
   "execution_count": null,
   "metadata": {},
   "outputs": [],
   "source": []
  },
  {
   "cell_type": "code",
   "execution_count": null,
   "metadata": {},
   "outputs": [],
   "source": []
  },
  {
   "cell_type": "code",
   "execution_count": null,
   "metadata": {},
   "outputs": [],
   "source": []
  }
 ],
 "metadata": {
  "kernelspec": {
   "display_name": "Python 3",
   "language": "python",
   "name": "python3"
  },
  "language_info": {
   "codemirror_mode": {
    "name": "ipython",
    "version": 3
   },
   "file_extension": ".py",
   "mimetype": "text/x-python",
   "name": "python",
   "nbconvert_exporter": "python",
   "pygments_lexer": "ipython3",
   "version": "3.8.0"
  }
 },
 "nbformat": 4,
 "nbformat_minor": 2
}
