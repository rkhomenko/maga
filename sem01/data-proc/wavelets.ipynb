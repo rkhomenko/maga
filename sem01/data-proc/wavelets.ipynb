{
 "cells": [
  {
   "cell_type": "code",
   "execution_count": 1,
   "metadata": {},
   "outputs": [],
   "source": [
    "import numpy as np\n",
    "import matplotlib.pyplot as plt"
   ]
  },
  {
   "cell_type": "markdown",
   "metadata": {},
   "source": [
    "### 1. Преобразование Хаара"
   ]
  },
  {
   "cell_type": "markdown",
   "metadata": {},
   "source": [
    "#### 1.1 Прямое преобразование Хаара"
   ]
  },
  {
   "cell_type": "markdown",
   "metadata": {},
   "source": [
    "Пусть имеется некоторый входной сигнал $s$. Преобразование Хаара перого уровня определяется как\n",
    "$$\n",
    "    s \\mapsto^{H_1} (a^1 | d^1),\n",
    "$$\n",
    "где\n",
    "$$\n",
    "    a^1_n = \\frac{s_{2n - 1} + s_{2n}}{\\sqrt{2}},\\ n=1,\\ldots,N/2\n",
    "$$\n",
    "$$\n",
    "    d^1_n = \\frac{s_{2n - 1} - s_{2n}}{\\sqrt{2}}, \\ n=1,\\ldots,N/2.\n",
    "$$"
   ]
  },
  {
   "cell_type": "markdown",
   "metadata": {},
   "source": [
    "#### Пример 1.1\n",
    "Применим преобразование Хаара к последовательности $s = (4, 6, 10, 12, 8, 6, 5, 5)$."
   ]
  },
  {
   "cell_type": "code",
   "execution_count": 2,
   "metadata": {},
   "outputs": [],
   "source": [
    "s = np.array([4, 6, 10, 12, 8, 6, 5, 5])\n",
    "a = (s[::2] + s[1::2]) / np.sqrt(2)\n",
    "d = (s[::2] - s[1::2]) / np.sqrt(2)"
   ]
  },
  {
   "cell_type": "code",
   "execution_count": 3,
   "metadata": {},
   "outputs": [
    {
     "name": "stdout",
     "output_type": "stream",
     "text": [
      "[ 7.07106781 15.55634919  9.89949494  7.07106781]\n",
      "[-1.41421356 -1.41421356  1.41421356  0.        ]\n"
     ]
    }
   ],
   "source": [
    "print(a)\n",
    "print(d)"
   ]
  },
  {
   "cell_type": "markdown",
   "metadata": {},
   "source": [
    "#### 1.2 Обратное преобразование Хаара"
   ]
  },
  {
   "cell_type": "markdown",
   "metadata": {},
   "source": [
    "Обратное преобразование первого уровня определяется как\n",
    "$$\n",
    "    (a^1 | d^1) \\mapsto^{H_1^{-1}} s,\n",
    "$$\n",
    "где\n",
    "$$\n",
    "    s = (\\frac{a^1_1 + d^1_1}{\\sqrt{2}}, \\frac{a^1_1 - d^1_1}{\\sqrt{2}}, \\\n",
    "         \\ldots, \\\n",
    "         \\frac{a^1_{N/2} + d^1_{N/2}}{\\sqrt{2}}, \\\n",
    "         \\frac{a^1_{N/2} - d^1_{N/2}}{\\sqrt{2}})\n",
    "$$"
   ]
  },
  {
   "cell_type": "markdown",
   "metadata": {},
   "source": [
    "#### Пример 1.2\n",
    "Пременим обратное преобразование к вычисленным в примере 1.1 $(a^1 | d^1)$."
   ]
  },
  {
   "cell_type": "code",
   "execution_count": 4,
   "metadata": {},
   "outputs": [],
   "source": [
    "s = np.zeros(s.shape)\n",
    "s[::2] = (a + d) / np.sqrt(2)\n",
    "s[1::2] = (a - d) / np.sqrt(2)"
   ]
  },
  {
   "cell_type": "code",
   "execution_count": 5,
   "metadata": {},
   "outputs": [
    {
     "name": "stdout",
     "output_type": "stream",
     "text": [
      "[ 4.  6. 10. 12.  8.  6.  5.  5.]\n"
     ]
    }
   ],
   "source": [
    "print(s)"
   ]
  },
  {
   "cell_type": "markdown",
   "metadata": {},
   "source": [
    "#### 1.3 Многоуровневое преобразование Хаара"
   ]
  },
  {
   "cell_type": "markdown",
   "metadata": {},
   "source": [
    "Преобразование Хаара уровня $m$ сигнала $s$ определяется как\n",
    "$$\n",
    "    s \\mapsto^{H_m} (a^m | d^m | d^{m -1} | \\ldots | d^1),\n",
    "$$\n",
    "где $a^1$ и $d^1$ определяются по уже известным формулам,\n",
    "а остальные коэффициенты вычисляются по формулам\n",
    "$$\n",
    "    a^{k} = \\frac{a^{k - 1}_{2n - 1} + a^{k - 1}_{2n}}{\\sqrt{2}},\n",
    "       \\ n=1,\\ldots,\\dim{a^{k - 1}}/2\n",
    "$$\n",
    "$$\n",
    "    d^{k} = \\frac{a^{k - 1}_{2n - 1} - a^{k - 1}_{2n}}{\\sqrt{2}},\n",
    "       \\ n=1,\\ldots,\\dim{a^{k - 1}}/2\n",
    "$$"
   ]
  },
  {
   "cell_type": "markdown",
   "metadata": {},
   "source": [
    "#### Пример 1.3\n",
    "Многоуровневое преобразование Хаара для сигнала из примера 1.1."
   ]
  },
  {
   "cell_type": "code",
   "execution_count": 6,
   "metadata": {},
   "outputs": [],
   "source": [
    "def haar_tranform(s, level=1):\n",
    "    result = []\n",
    "    count = 0\n",
    "    a_prev = s\n",
    "    for l in range(level):\n",
    "        a = (a_prev[::2] + a_prev[1::2]) / np.sqrt(2)\n",
    "        d = (a_prev[::2] - a_prev[1::2]) / np.sqrt(2)\n",
    "        a_prev = a\n",
    "        result.append(d)\n",
    "        \n",
    "        count += d.shape[0]\n",
    "    result.append(a)\n",
    "    result.reverse()\n",
    "    \n",
    "    count += a.shape[0]\n",
    "    \n",
    "    return count, result"
   ]
  },
  {
   "cell_type": "code",
   "execution_count": 7,
   "metadata": {},
   "outputs": [
    {
     "data": {
      "text/plain": [
       "(8,\n",
       " [array([ 7.07106781, 15.55634919,  9.89949494,  7.07106781]),\n",
       "  array([-1.41421356, -1.41421356,  1.41421356,  0.        ])])"
      ]
     },
     "execution_count": 7,
     "metadata": {},
     "output_type": "execute_result"
    }
   ],
   "source": [
    "n, c1 = haar_tranform(s, level=1)\n",
    "n, c1"
   ]
  },
  {
   "cell_type": "code",
   "execution_count": 8,
   "metadata": {},
   "outputs": [
    {
     "data": {
      "text/plain": [
       "(8,\n",
       " [array([16., 12.]),\n",
       "  array([-6.,  2.]),\n",
       "  array([-1.41421356, -1.41421356,  1.41421356,  0.        ])])"
      ]
     },
     "execution_count": 8,
     "metadata": {},
     "output_type": "execute_result"
    }
   ],
   "source": [
    "n, c2 = haar_tranform(s, level=2)\n",
    "n, c2"
   ]
  },
  {
   "cell_type": "code",
   "execution_count": 9,
   "metadata": {},
   "outputs": [
    {
     "data": {
      "text/plain": [
       "(8,\n",
       " [array([19.79898987]),\n",
       "  array([2.82842712]),\n",
       "  array([-6.,  2.]),\n",
       "  array([-1.41421356, -1.41421356,  1.41421356,  0.        ])])"
      ]
     },
     "execution_count": 9,
     "metadata": {},
     "output_type": "execute_result"
    }
   ],
   "source": [
    "n, c3 = haar_tranform(s, level=3)\n",
    "n, c3"
   ]
  },
  {
   "cell_type": "code",
   "execution_count": 58,
   "metadata": {},
   "outputs": [],
   "source": [
    "def haar_reverse_transform(c, level=2):\n",
    "    assert(len(c) >= 2)\n",
    "    \n",
    "    a_prev = c[0]\n",
    "    for i in range(1, level):\n",
    "        s = np.zeros(2 * a_prev.shape[0])\n",
    "        s[::2] = (a_prev + c[i]) / np.sqrt(2)\n",
    "        s[1::2] = (a_prev - c[i]) / np.sqrt(2)\n",
    "        \n",
    "        a_prev = s\n",
    "    return s"
   ]
  },
  {
   "cell_type": "code",
   "execution_count": 11,
   "metadata": {},
   "outputs": [
    {
     "data": {
      "text/plain": [
       "array([ 4.,  6., 10., 12.,  8.,  6.,  5.,  5.])"
      ]
     },
     "execution_count": 11,
     "metadata": {},
     "output_type": "execute_result"
    }
   ],
   "source": [
    "haar_reverse_transform(c1)"
   ]
  },
  {
   "cell_type": "code",
   "execution_count": 12,
   "metadata": {},
   "outputs": [
    {
     "data": {
      "text/plain": [
       "array([ 4.,  6., 10., 12.,  8.,  6.,  5.,  5.])"
      ]
     },
     "execution_count": 12,
     "metadata": {},
     "output_type": "execute_result"
    }
   ],
   "source": [
    "haar_reverse_transform(c2)"
   ]
  },
  {
   "cell_type": "code",
   "execution_count": 13,
   "metadata": {},
   "outputs": [
    {
     "data": {
      "text/plain": [
       "array([ 4.,  6., 10., 12.,  8.,  6.,  5.,  5.])"
      ]
     },
     "execution_count": 13,
     "metadata": {},
     "output_type": "execute_result"
    }
   ],
   "source": [
    "haar_reverse_transform(c3)"
   ]
  },
  {
   "cell_type": "code",
   "execution_count": 14,
   "metadata": {},
   "outputs": [],
   "source": [
    "s = np.random.randint(10, size=128)"
   ]
  },
  {
   "cell_type": "markdown",
   "metadata": {},
   "source": [
    "#### 1.4 Преобразование Хаара и сохренение энергии"
   ]
  },
  {
   "cell_type": "markdown",
   "metadata": {},
   "source": [
    "Пусть дан сигнл $s$. Энергией сигнала называется величина\n",
    "$$\n",
    "    E_s = \\sum_{i = 1}^N s_i^2.\n",
    "$$\n",
    "Возьмем сигнал из примера 1.1 и вычислим его энергию:"
   ]
  },
  {
   "cell_type": "code",
   "execution_count": 15,
   "metadata": {},
   "outputs": [
    {
     "name": "stdout",
     "output_type": "stream",
     "text": [
      "446\n"
     ]
    }
   ],
   "source": [
    "s = np.array([4, 6, 10, 12, 8, 6, 5, 5])\n",
    "e = np.sum(s ** 2)\n",
    "print(e)"
   ]
  },
  {
   "cell_type": "markdown",
   "metadata": {},
   "source": [
    "Теперь применим преобразование Хаара первого уровня и посчитаем энергию\n",
    "$a^1$ и $d^1$:"
   ]
  },
  {
   "cell_type": "code",
   "execution_count": 16,
   "metadata": {},
   "outputs": [
    {
     "data": {
      "text/plain": [
       "445.99999999999994"
      ]
     },
     "execution_count": 16,
     "metadata": {},
     "output_type": "execute_result"
    }
   ],
   "source": [
    "num, c = haar_tranform(s)\n",
    "e1 = np.sum(c[0] ** 2)\n",
    "e2 = np.sum(c[1] ** 2)\n",
    "e1 + e2"
   ]
  },
  {
   "cell_type": "markdown",
   "metadata": {},
   "source": [
    "**Сохранение энергии**: преобразование Хаара первого уровня полностью сохраняет всю энергию сигнала.\n",
    "\n",
    "При этом интересно следующее:"
   ]
  },
  {
   "cell_type": "code",
   "execution_count": 17,
   "metadata": {},
   "outputs": [
    {
     "data": {
      "text/plain": [
       "0.9865470852017936"
      ]
     },
     "execution_count": 17,
     "metadata": {},
     "output_type": "execute_result"
    }
   ],
   "source": [
    "e1 / e"
   ]
  },
  {
   "cell_type": "code",
   "execution_count": 18,
   "metadata": {},
   "outputs": [
    {
     "data": {
      "text/plain": [
       "0.013452914798206273"
      ]
     },
     "execution_count": 18,
     "metadata": {},
     "output_type": "execute_result"
    }
   ],
   "source": [
    "e2 / e"
   ]
  },
  {
   "cell_type": "markdown",
   "metadata": {},
   "source": [
    "Почти 98.7\\% всей энергии сигнала сосредоточено в $a^1$!\n",
    "Данное свойство называется **уплотнением энергии**.\n",
    "\n",
    "Теперь проделаем аналогичные вычисления для преобразования уровня три:"
   ]
  },
  {
   "cell_type": "code",
   "execution_count": 19,
   "metadata": {},
   "outputs": [
    {
     "data": {
      "text/plain": [
       "array([392.,   8.,  40.,   6.])"
      ]
     },
     "execution_count": 19,
     "metadata": {},
     "output_type": "execute_result"
    }
   ],
   "source": [
    "num, c = haar_tranform(s, level=3)\n",
    "e = np.zeros(4)\n",
    "for i in range(e.shape[0]):\n",
    "    e[i] = np.sum(c[i] ** 2)\n",
    "e"
   ]
  },
  {
   "cell_type": "code",
   "execution_count": 20,
   "metadata": {},
   "outputs": [
    {
     "data": {
      "text/plain": [
       "array([0.87892377, 0.01793722, 0.0896861 , 0.01345291])"
      ]
     },
     "execution_count": 20,
     "metadata": {},
     "output_type": "execute_result"
    }
   ],
   "source": [
    "e / np.sum(s ** 2)"
   ]
  },
  {
   "cell_type": "markdown",
   "metadata": {},
   "source": [
    "Теперь в $a^3$ содержится только 88\\% энергии исходного сигнала.\n",
    "Это хорошо согласуется с соотношением неопределенностей Гейзенберга:\n",
    "$$\n",
    "    \\Delta E \\Delta t \\ge \\frac{\\hbar}{2}\n",
    "$$\n",
    "*Чем больше мы хотим локализовать энергию по $t$, тем больше становится\n",
    "ошибка ее измерения $\\Delta E$*"
   ]
  },
  {
   "cell_type": "markdown",
   "metadata": {},
   "source": [
    "### 2. Вейвлеты Хаара"
   ]
  },
  {
   "cell_type": "markdown",
   "metadata": {},
   "source": [
    "Вейвлеты Хаара первого уровня определяются как\n",
    "$$\n",
    "W_1^1 = (\\frac{1}{\\sqrt{2}}, -\\frac{1}{\\sqrt{2}}, 0, 0, \\ldots, 0)\n",
    "$$\n",
    "$$\n",
    "W_2^1 = (0, 0, \\frac{1}{\\sqrt{2}}, -\\frac{1}{\\sqrt{2}}, 0, 0, \\ldots, 0)\n",
    "$$\n",
    "$$ \\vdots $$\n",
    "$$\n",
    "W_{N/2}^1 = (0, 0, \\ldots, 0, \\frac{1}{\\sqrt{2}}, -\\frac{1}{\\sqrt{2}})\n",
    "$$\n",
    "\n",
    "*Свойства:* энергия каждого вейвлета равна 1, а среднее занчение равно 0.\n",
    "\n",
    "\n",
    "Вернемся к преобразованию Хаара. Вектор $d^1$ может быть представлен как\n",
    "$$\n",
    "    d^1 = (s \\cdot W_1^1, s \\cdot W_2^1, \\ldots, s \\cdot W_{N/2}^1)\n",
    "$$\n",
    "\n",
    "Для описания $a^1$ необходимо ввести маштабирующие векторы\n",
    "$$\n",
    "V_1^1 = (\\frac{1}{\\sqrt{2}}, \\frac{1}{\\sqrt{2}}, 0, 0, \\ldots, 0)\n",
    "$$\n",
    "$$\n",
    "V_2^1 = (0, 0, \\frac{1}{\\sqrt{2}}, \\frac{1}{\\sqrt{2}}, 0, 0, \\ldots, 0)\n",
    "$$\n",
    "$$ \\vdots $$\n",
    "$$\n",
    "V_{N/2}^1 = (0, 0, \\ldots, 0, \\frac{1}{\\sqrt{2}}, \\frac{1}{\\sqrt{2}})\n",
    "$$\n",
    "Их энегрия также равна 1, но среднее равно $1/ \\sqrt{2}$.\n",
    "\n",
    "\n",
    "$$\n",
    "    a^1 = (s \\cdot V_1^1, s \\cdot V_2^1, \\ldots, s \\cdot V_{N/2}^1)\n",
    "$$"
   ]
  },
  {
   "cell_type": "markdown",
   "metadata": {},
   "source": [
    "### 3. Multiresolution analysis"
   ]
  },
  {
   "cell_type": "markdown",
   "metadata": {},
   "source": [
    "Определим элементарные сигналы как\n",
    "$$\n",
    "    V_1^0 = (1, 0, 0, \\ldots, 0)\n",
    "$$\n",
    "$$\n",
    "    V_2^0 = (0, 1, 0, \\ldots, 0)\n",
    "$$\n",
    "$$\n",
    "    V_N^0 = (0, 0, \\ldots, 0, 1)\n",
    "$$\n",
    "\n",
    "Тогда сигнал $s$ может быть представлен в виде\n",
    "$$\n",
    "    s = s_1 V_1^0 + s_2 V_2^0 + \\ldots + f_N V_N^0\n",
    "$$\n",
    "Иначе говоря, мы получили разложение сигнала $s$ по базису.\n",
    "\n",
    "С помощью преобразования Хаара можно представить сигнал $s$\n",
    "в виде суммы\n",
    "$$\n",
    "    s = A^1 + D^1,\n",
    "$$\n",
    "где\n",
    "$$\n",
    "    A^1 = \\frac{1}{\\sqrt{2}}(a_1, a_1, a_2, a_2, \\ldots, a_{N/2}, a_{N/2})\n",
    "$$\n",
    "$$\n",
    "    D^1 = \\frac{1}{\\sqrt{2}}(d_1, -d_1, d_2, -d_2, \\ldots, d_{N/2}, -d_{N/2})\n",
    "$$\n",
    "\n",
    "$A^1$ - первый усредняющий сигнал, $D^1$ - первый уточняющий сиганал."
   ]
  },
  {
   "cell_type": "markdown",
   "metadata": {},
   "source": [
    "Данные сигналы тоже можно разложить:\n",
    "$$\n",
    "    A^1 = a_1 V_1^1 + a_2 V_2^1 + \\ldots + a_{N/2}V_{N/2}^1\n",
    "$$\n",
    "$$\n",
    "    D^1 = d_1 W_1^1 + d_2 W_2^1 + \\ldots + d_{N/2} W_{N/2}^1\n",
    "$$\n",
    "\n",
    "В случае преобразования Хаара уровня 2 получаем\n",
    "$$\n",
    "    s = A^2 + D^2 + D^1,\n",
    "$$\n",
    "где\n",
    "$$\n",
    "    A^1 = A^2 + D^2\n",
    "$$\n",
    "\n",
    "В общем случае получаем\n",
    "$$\n",
    "    s = A^k + D^k + \\ldots + D^2 + D^1\n",
    "$$\n",
    "\n",
    "$$\n",
    "    A^n = \\sum_{j = n + 1}^k D^j + A^k\n",
    "$$"
   ]
  },
  {
   "cell_type": "markdown",
   "metadata": {},
   "source": [
    "### 4. Сжатие данных"
   ]
  },
  {
   "cell_type": "code",
   "execution_count": 45,
   "metadata": {},
   "outputs": [
    {
     "data": {
      "text/plain": [
       "4096"
      ]
     },
     "execution_count": 45,
     "metadata": {},
     "output_type": "execute_result"
    }
   ],
   "source": [
    "t = np.linspace(0, 2 * np.pi, 4096)\n",
    "s = np.sin(t)\n",
    "num, c = haar_tranform(s)\n",
    "num"
   ]
  },
  {
   "cell_type": "code",
   "execution_count": 46,
   "metadata": {},
   "outputs": [
    {
     "data": {
      "text/plain": [
       "[<matplotlib.lines.Line2D at 0x7ff25d2fdac0>]"
      ]
     },
     "execution_count": 46,
     "metadata": {},
     "output_type": "execute_result"
    },
    {
     "data": {
      "image/png": "[encoded data removed]",
      "text/plain": [
       "<Figure size 432x288 with 1 Axes>"
      ]
     },
     "metadata": {
      "needs_background": "light"
     },
     "output_type": "display_data"
    }
   ],
   "source": [
    "plt.plot(s)"
   ]
  },
  {
   "cell_type": "code",
   "execution_count": 47,
   "metadata": {},
   "outputs": [
    {
     "data": {
      "text/plain": [
       "2048"
      ]
     },
     "execution_count": 47,
     "metadata": {},
     "output_type": "execute_result"
    }
   ],
   "source": [
    "num, c = haar_tranform(c[0], level=6)\n",
    "num"
   ]
  },
  {
   "cell_type": "code",
   "execution_count": 48,
   "metadata": {},
   "outputs": [],
   "source": [
    "ss = haar_reverse_transform(c)\n",
    "ss = 1 / np.sqrt(2) * np.repeat(ss, 2)"
   ]
  },
  {
   "cell_type": "code",
   "execution_count": 49,
   "metadata": {},
   "outputs": [
    {
     "data": {
      "text/plain": [
       "[<matplotlib.lines.Line2D at 0x7ff25d195b80>]"
      ]
     },
     "execution_count": 49,
     "metadata": {},
     "output_type": "execute_result"
    },
    {
     "data": {
      "image/png": "[encoded data removed]",
      "text/plain": [
       "<Figure size 432x288 with 1 Axes>"
      ]
     },
     "metadata": {
      "needs_background": "light"
     },
     "output_type": "display_data"
    }
   ],
   "source": [
    "plt.plot(ss)"
   ]
  },
  {
   "cell_type": "code",
   "execution_count": 50,
   "metadata": {},
   "outputs": [
    {
     "data": {
      "text/plain": [
       "2.943525946961736e-07"
      ]
     },
     "execution_count": 50,
     "metadata": {},
     "output_type": "execute_result"
    }
   ],
   "source": [
    "np.mean((s - ss) ** 2)"
   ]
  },
  {
   "cell_type": "markdown",
   "metadata": {},
   "source": [
    "Реализуем функции для упрощения сжатия:"
   ]
  },
  {
   "cell_type": "code",
   "execution_count": 51,
   "metadata": {},
   "outputs": [],
   "source": [
    "def haar_compression(s, level=1, comp_level=1):\n",
    "    assert int(np.log2(s.shape[0])) >= level + comp_level\n",
    "    \n",
    "    for i in range(comp_level):\n",
    "        num, c = haar_tranform(s, level=1)\n",
    "        s = c[0]\n",
    "    \n",
    "    return haar_tranform(s, level)"
   ]
  },
  {
   "cell_type": "code",
   "execution_count": 52,
   "metadata": {},
   "outputs": [],
   "source": [
    "def haar_decompression(c, comp_level=1):\n",
    "    s = haar_reverse_transform(c)\n",
    "    \n",
    "    for i in range(comp_level):\n",
    "        s = 1 / np.sqrt(2) * np.repeat(s, 2)\n",
    "    \n",
    "    return s"
   ]
  },
  {
   "cell_type": "code",
   "execution_count": 53,
   "metadata": {},
   "outputs": [],
   "source": [
    "def mse(y, yy):\n",
    "    return np.mean((y - yy) ** 2)"
   ]
  },
  {
   "cell_type": "code",
   "execution_count": 54,
   "metadata": {},
   "outputs": [
    {
     "data": {
      "text/plain": [
       "1024"
      ]
     },
     "execution_count": 54,
     "metadata": {},
     "output_type": "execute_result"
    }
   ],
   "source": [
    "num, c = haar_compression(s, level=5, comp_level=2)\n",
    "num"
   ]
  },
  {
   "cell_type": "code",
   "execution_count": 31,
   "metadata": {},
   "outputs": [],
   "source": [
    "ss = haar_decompression(c, comp_level=2)"
   ]
  },
  {
   "cell_type": "code",
   "execution_count": 32,
   "metadata": {},
   "outputs": [
    {
     "data": {
      "text/plain": [
       "[<matplotlib.lines.Line2D at 0x7ff25d3436a0>]"
      ]
     },
     "execution_count": 32,
     "metadata": {},
     "output_type": "execute_result"
    },
    {
     "data": {
      "image/png": "[encoded data removed]",
      "text/plain": [
       "<Figure size 432x288 with 1 Axes>"
      ]
     },
     "metadata": {
      "needs_background": "light"
     },
     "output_type": "display_data"
    }
   ],
   "source": [
    "plt.plot(ss)"
   ]
  },
  {
   "cell_type": "code",
   "execution_count": 33,
   "metadata": {},
   "outputs": [
    {
     "data": {
      "text/plain": [
       "0.00153998201196504"
      ]
     },
     "execution_count": 33,
     "metadata": {},
     "output_type": "execute_result"
    }
   ],
   "source": [
    "mse(s, ss)"
   ]
  },
  {
   "cell_type": "markdown",
   "metadata": {},
   "source": [
    "### 5. Удаление шума"
   ]
  },
  {
   "cell_type": "code",
   "execution_count": 55,
   "metadata": {},
   "outputs": [],
   "source": [
    "t = np.linspace(0, 6 * np.pi, 4096)\n",
    "s = np.sin(t)\n",
    "sn = s + 0.4 * np.random.randn(t.shape[0])"
   ]
  },
  {
   "cell_type": "code",
   "execution_count": 56,
   "metadata": {},
   "outputs": [
    {
     "data": {
      "text/plain": [
       "[<matplotlib.lines.Line2D at 0x7ff25d170fd0>]"
      ]
     },
     "execution_count": 56,
     "metadata": {},
     "output_type": "execute_result"
    },
    {
     "data": {
      "image/png": "[encoded data removed]",
      "text/plain": [
       "<Figure size 432x288 with 1 Axes>"
      ]
     },
     "metadata": {
      "needs_background": "light"
     },
     "output_type": "display_data"
    }
   ],
   "source": [
    "plt.scatter(t, sn)\n",
    "plt.plot(t, s, 'r')"
   ]
  },
  {
   "cell_type": "code",
   "execution_count": 73,
   "metadata": {},
   "outputs": [],
   "source": [
    "num, c = haar_tranform(sn, level=7)"
   ]
  },
  {
   "cell_type": "code",
   "execution_count": 74,
   "metadata": {},
   "outputs": [],
   "source": [
    "cc = np.concatenate(c)"
   ]
  },
  {
   "cell_type": "code",
   "execution_count": 75,
   "metadata": {},
   "outputs": [
    {
     "data": {
      "text/plain": [
       "<matplotlib.collections.PathCollection at 0x7ff25b9b96d0>"
      ]
     },
     "execution_count": 75,
     "metadata": {},
     "output_type": "execute_result"
    },
    {
     "data": {
      "image/png": "[encoded data removed]",
      "text/plain": [
       "<Figure size 432x288 with 1 Axes>"
      ]
     },
     "metadata": {
      "needs_background": "light"
     },
     "output_type": "display_data"
    }
   ],
   "source": [
    "plt.scatter(t, cc)"
   ]
  },
  {
   "cell_type": "code",
   "execution_count": 68,
   "metadata": {},
   "outputs": [],
   "source": [
    "def haar_denoising(c, threshold):\n",
    "    for i in range(len(c)):\n",
    "        c[i][np.abs(c[i]) < threshold] = 0\n",
    "    return c"
   ]
  },
  {
   "cell_type": "code",
   "execution_count": 59,
   "metadata": {},
   "outputs": [],
   "source": [
    "#c = haar_denoising(c, 1.0)"
   ]
  },
  {
   "cell_type": "code",
   "execution_count": 76,
   "metadata": {},
   "outputs": [],
   "source": [
    "ss = haar_reverse_transform(c, level=2)"
   ]
  },
  {
   "cell_type": "code",
   "execution_count": 77,
   "metadata": {},
   "outputs": [
    {
     "data": {
      "text/plain": [
       "<matplotlib.collections.PathCollection at 0x7ff25b8bebb0>"
      ]
     },
     "execution_count": 77,
     "metadata": {},
     "output_type": "execute_result"
    },
    {
     "data": {
      "image/png": "[encoded data removed]",
      "text/plain": [
       "<Figure size 432x288 with 1 Axes>"
      ]
     },
     "metadata": {
      "needs_background": "light"
     },
     "output_type": "display_data"
    }
   ],
   "source": [
    "plt.scatter(np.arange(ss.shape[0]), ss)\n",
    "#plt.plot(t, s, 'r')"
   ]
  },
  {
   "cell_type": "code",
   "execution_count": 43,
   "metadata": {},
   "outputs": [
    {
     "data": {
      "text/plain": [
       "0.15532233652550886"
      ]
     },
     "execution_count": 43,
     "metadata": {},
     "output_type": "execute_result"
    }
   ],
   "source": [
    "mse(s, sn)"
   ]
  },
  {
   "cell_type": "code",
   "execution_count": 44,
   "metadata": {},
   "outputs": [
    {
     "data": {
      "text/plain": [
       "0.03894354087046739"
      ]
     },
     "execution_count": 44,
     "metadata": {},
     "output_type": "execute_result"
    }
   ],
   "source": [
    "mse(s, ss)"
   ]
  },
  {
   "cell_type": "code",
   "execution_count": null,
   "metadata": {},
   "outputs": [],
   "source": []
  }
 ],
 "metadata": {
  "kernelspec": {
   "display_name": "Python 3",
   "language": "python",
   "name": "python3"
  },
  "language_info": {
   "codemirror_mode": {
    "name": "ipython",
    "version": 3
   },
   "file_extension": ".py",
   "mimetype": "text/x-python",
   "name": "python",
   "nbconvert_exporter": "python",
   "pygments_lexer": "ipython3",
   "version": "3.8.0"
  }
 },
 "nbformat": 4,
 "nbformat_minor": 2
}
