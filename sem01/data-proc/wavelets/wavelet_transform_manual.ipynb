{
 "cells": [
  {
   "cell_type": "code",
   "execution_count": 1,
   "metadata": {},
   "outputs": [],
   "source": [
    "import numpy as np\n",
    "import scipy.integrate as integrate\n",
    "import matplotlib.pyplot as plt"
   ]
  },
  {
   "cell_type": "markdown",
   "metadata": {},
   "source": [
    "Пусть имеется сигнал $\\{s_j\\}_{j=0}^{N-1}$ и материнский вейлет\n",
    "$\\psi \\in L_2(R)$. Тогда вейвлет-преобразование имеет вид:\n",
    "$$\n",
    "W_s(a, b) = \\frac{1}{\\sqrt{a}} \\sum_{j = 0}^{N - 1}\n",
    "    s_j \\int_{j}^{j + 1} \\psi(\\frac{t - b}{a})dt\n",
    "$$\n",
    "$$\n",
    "a = 1, \\dots, N,\\ b = 0, \\dots, N - 1\n",
    "$$"
   ]
  },
  {
   "cell_type": "code",
   "execution_count": 6,
   "metadata": {},
   "outputs": [],
   "source": [
    "def haar(x):\n",
    "    if 0 <= x < 0.5:\n",
    "        return 1\n",
    "    elif 0.5 <= x < 1:\n",
    "        return -1\n",
    "    return 0"
   ]
  },
  {
   "cell_type": "code",
   "execution_count": 10,
   "metadata": {},
   "outputs": [
    {
     "data": {
      "text/plain": [
       "(0.0, 1.1102230246251565e-14)"
      ]
     },
     "execution_count": 10,
     "metadata": {},
     "output_type": "execute_result"
    }
   ],
   "source": [
    "integrate.quad(haar, 0, 1)"
   ]
  },
  {
   "cell_type": "code",
   "execution_count": 29,
   "metadata": {},
   "outputs": [],
   "source": [
    "def wt(y, x, wlt):\n",
    "    n = y.shape[0]\n",
    "    w = np.zeros((n, n))\n",
    "    for a in range(1, n + 1):\n",
    "        for b in range(n ):\n",
    "            res = 0\n",
    "            for j in range(n - 1):\n",
    "                itg, err = integrate.quad(lambda t, a=a, b=b: wlt((t - b) / a), x[j], x[j + 1])\n",
    "                res += y[j] * itg\n",
    "            res /= np.sqrt(a)\n",
    "            \n",
    "            w[a - 1, b] = res\n",
    "    return w\n",
    "    "
   ]
  },
  {
   "cell_type": "code",
   "execution_count": 30,
   "metadata": {},
   "outputs": [
    {
     "name": "stderr",
     "output_type": "stream",
     "text": [
      "/home/rk/source/repos/maga/sem01/data-proc/wavelets/venv/lib/python3.7/site-packages/ipykernel_launcher.py:8: IntegrationWarning: The maximum number of subdivisions (50) has been achieved.\n",
      "  If increasing the limit yields no improvement it is advised to analyze \n",
      "  the integrand in order to determine the difficulties.  If the position of a \n",
      "  local difficulty can be determined (singularity, discontinuity) one will \n",
      "  probably gain from splitting up the interval and calling the integrator \n",
      "  on the subranges.  Perhaps a special-purpose integrator should be used.\n",
      "  \n"
     ]
    },
    {
     "data": {
      "text/plain": [
       "array([[ 0.00000000e+00,  0.00000000e+00,  0.00000000e+00],\n",
       "       [ 0.00000000e+00,  0.00000000e+00, -7.43343042e-17],\n",
       "       [ 0.00000000e+00, -6.06937052e-17, -8.07163268e-17]])"
      ]
     },
     "execution_count": 30,
     "metadata": {},
     "output_type": "execute_result"
    }
   ],
   "source": [
    "x = np.linspace(0, 2 * np.pi, 3)\n",
    "y = np.sin(x)\n",
    "\n",
    "wt(y, x, haar)"
   ]
  },
  {
   "cell_type": "code",
   "execution_count": null,
   "metadata": {},
   "outputs": [],
   "source": []
  }
 ],
 "metadata": {
  "kernelspec": {
   "display_name": "Python 3",
   "language": "python",
   "name": "python3"
  },
  "language_info": {
   "codemirror_mode": {
    "name": "ipython",
    "version": 3
   },
   "file_extension": ".py",
   "mimetype": "text/x-python",
   "name": "python",
   "nbconvert_exporter": "python",
   "pygments_lexer": "ipython3",
   "version": "3.7.4"
  }
 },
 "nbformat": 4,
 "nbformat_minor": 2
}
