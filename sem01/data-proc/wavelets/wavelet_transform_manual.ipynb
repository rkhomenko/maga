{
 "cells": [
  {
   "cell_type": "code",
   "execution_count": null,
   "metadata": {},
   "outputs": [],
   "source": [
    "import numpy as np\n",
    "import scipy.integrate as integrate\n",
    "import matplotlib.pyplot as plt"
   ]
  },
  {
   "cell_type": "markdown",
   "metadata": {},
   "source": [
    "Пусть имеется сигнал $\\{s_j\\}_{j=0}^{N-1}$ и материнский вейлет\n",
    "$\\psi \\in L_2(R)$. Тогда вейвлет-преобразование имеет вид:\n",
    "$$\n",
    "W_s(a, b) = \\frac{1}{\\sqrt{a}} \\sum_{j = 0}^{N - 1}\n",
    "    s_j \\int_{j}^{j + 1} \\psi(\\frac{t - b}{a})dt\n",
    "$$\n",
    "$$\n",
    "a = 1, \\dots, N,\\ b = 0, \\dots, N - 1\n",
    "$$"
   ]
  },
  {
   "cell_type": "code",
   "execution_count": null,
   "metadata": {},
   "outputs": [],
   "source": [
    "def hat(t):\n",
    "    return 2.0 / np.sqrt(3) * np.pi ** (-0.25) * (1 - t ** 2) * np.exp(-t ** 2 / 2)\n",
    "\n",
    "def haar(t):\n",
    "    if 0 <= t < 0.5:\n",
    "        return 1\n",
    "    if 0.5 <= t < 1:\n",
    "        return -1\n",
    "    return 0\n",
    "\n",
    "haar_v = np.vectorize(haar)\n",
    "\n",
    "def psi(t, j, k, f=hat):\n",
    "    return 2 ** (j / 2) * f(2 ** j * t - k)"
   ]
  },
  {
   "cell_type": "code",
   "execution_count": null,
   "metadata": {},
   "outputs": [],
   "source": [
    "t = np.arange(-5, 5, 0.01)\n",
    "plt.plot(t, psi(t, 0, 0))"
   ]
  },
  {
   "cell_type": "code",
   "execution_count": null,
   "metadata": {},
   "outputs": [],
   "source": [
    "def func(t):\n",
    "    return np.sin(4 * np.pi * t)"
   ]
  },
  {
   "cell_type": "code",
   "execution_count": null,
   "metadata": {},
   "outputs": [],
   "source": [
    "t = np.arange(0, 1, 0.001)\n",
    "plt.plot(t, func(t))"
   ]
  },
  {
   "cell_type": "code",
   "execution_count": null,
   "metadata": {},
   "outputs": [],
   "source": [
    "def wt(f, m, psi=psi, a=0, b=1):\n",
    "    #w = np.zeros((m, 2 ** m - 1))\n",
    "    w = np.zeros((m, 2 ** m - 1))\n",
    "    for j in range(w.shape[0]):\n",
    "        for k in range(w.shape[1]):\n",
    "            dot, err = integrate.quad(lambda t: f(t) * psi(t, j, k), a, b)\n",
    "            #norm, err = integrate.quad(lambda t: psi(t, j, k) ** 2, a, b)\n",
    "            if err > 1e-6:\n",
    "                raise RuntimeError(\"Integrate\")\n",
    "            w[j, k] = dot\n",
    "    return w"
   ]
  },
  {
   "cell_type": "code",
   "execution_count": null,
   "metadata": {},
   "outputs": [],
   "source": [
    "def iwt(t, w, m, psi=psi):\n",
    "    s = 0\n",
    "    for j in range(w.shape[0]):\n",
    "        for k in range(w.shape[1]):\n",
    "            s += w[j, k] * psi(t, j, k)\n",
    "    return s"
   ]
  },
  {
   "cell_type": "code",
   "execution_count": null,
   "metadata": {},
   "outputs": [],
   "source": [
    "n = 10\n",
    "w = wt(func, n)\n",
    "iwt_vec = np.vectorize(lambda t: iwt(t, w, n))"
   ]
  },
  {
   "cell_type": "code",
   "execution_count": null,
   "metadata": {},
   "outputs": [],
   "source": [
    "plt.plot(t, func(t))\n",
    "plt.plot(t, iwt_vec(t))\n",
    "np.max(iwt_vec(t))"
   ]
  },
  {
   "cell_type": "code",
   "execution_count": null,
   "metadata": {},
   "outputs": [],
   "source": []
  }
 ],
 "metadata": {
  "kernelspec": {
   "display_name": "Python 3",
   "language": "python",
   "name": "python3"
  },
  "language_info": {
   "codemirror_mode": {
    "name": "ipython",
    "version": 3
   },
   "file_extension": ".py",
   "mimetype": "text/x-python",
   "name": "python",
   "nbconvert_exporter": "python",
   "pygments_lexer": "ipython3",
   "version": "3.8.0"
  }
 },
 "nbformat": 4,
 "nbformat_minor": 2
}
