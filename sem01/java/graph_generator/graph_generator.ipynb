{
 "cells": [
  {
   "cell_type": "code",
   "execution_count": null,
   "metadata": {},
   "outputs": [],
   "source": [
    "import networkx as netx\n",
    "import pandas as pd\n",
    "from matplotlib import pyplot as plt\n",
    "import json"
   ]
  },
  {
   "cell_type": "markdown",
   "metadata": {},
   "source": [
    "### 1. Генерация графа для тестирования социальной сети"
   ]
  },
  {
   "cell_type": "code",
   "execution_count": null,
   "metadata": {},
   "outputs": [],
   "source": [
    "g = netx.random_k_out_graph(1000, 40, 0.7, self_loops=False)\n",
    "#g = netx.random_k_out_graph(10, 3, 0.7, self_loops=False)\n",
    "#netx.draw(g, with_labels=True)"
   ]
  },
  {
   "cell_type": "markdown",
   "metadata": {},
   "source": [
    "### 2. Поиск подписчиков"
   ]
  },
  {
   "cell_type": "code",
   "execution_count": null,
   "metadata": {},
   "outputs": [],
   "source": [
    "def get_followers(g):\n",
    "    result = {}\n",
    "    \n",
    "    for n, nbrsdict in g.adj.items():\n",
    "        for node, value in nbrsdict.items():\n",
    "            if not n in g[node]:\n",
    "                res = result.get(node)\n",
    "                if res == None:\n",
    "                    res = []\n",
    "                    result[node] = res\n",
    "                \n",
    "                res.append(n)\n",
    "    return result"
   ]
  },
  {
   "cell_type": "code",
   "execution_count": null,
   "metadata": {},
   "outputs": [],
   "source": [
    "followers = get_followers(g)"
   ]
  },
  {
   "cell_type": "markdown",
   "metadata": {},
   "source": [
    "### 3. Поиск друзей"
   ]
  },
  {
   "cell_type": "code",
   "execution_count": null,
   "metadata": {},
   "outputs": [],
   "source": [
    "def get_friends_level(g, parent, node, result, level, current_level):\n",
    "    for m in g[node].keys():\n",
    "        if node in g[m] and m != parent:\n",
    "            result.add(m)\n",
    "            if current_level < level:\n",
    "                get_friends_level(g, parent, m, result, level, current_level + 1)\n",
    "\n",
    "def get_friends(g, level):\n",
    "    result = {}\n",
    "    for n, nbrsdict in g.adjacency():\n",
    "        friends = set()\n",
    "        get_friends_level(g, n, n, friends, level, 1)\n",
    "        if len(friends) > 0:\n",
    "            result[n] = list(friends)\n",
    "    \n",
    "    return result"
   ]
  },
  {
   "cell_type": "code",
   "execution_count": null,
   "metadata": {},
   "outputs": [],
   "source": [
    "friends = {}\n",
    "for i in range(1, 7):\n",
    "    friends[str(i)] = get_friends(g, i)"
   ]
  },
  {
   "cell_type": "markdown",
   "metadata": {},
   "source": [
    "### 4. Сохранения графа, подписчиков и друзей"
   ]
  },
  {
   "cell_type": "code",
   "execution_count": null,
   "metadata": {},
   "outputs": [],
   "source": [
    "ad = netx.readwrite.json_graph.adjacency_data(g)"
   ]
  },
  {
   "cell_type": "code",
   "execution_count": null,
   "metadata": {},
   "outputs": [],
   "source": [
    "with open('graph.json', 'w') as out:\n",
    "    json.dump(ad, out)"
   ]
  },
  {
   "cell_type": "code",
   "execution_count": null,
   "metadata": {},
   "outputs": [],
   "source": [
    "frd_fol = {'followers': followers, 'friends': friends}"
   ]
  },
  {
   "cell_type": "code",
   "execution_count": null,
   "metadata": {},
   "outputs": [],
   "source": [
    "with open('frd_fol.json', 'w') as out:\n",
    "    json.dump(frd_fol, out)"
   ]
  },
  {
   "cell_type": "code",
   "execution_count": null,
   "metadata": {},
   "outputs": [],
   "source": []
  },
  {
   "cell_type": "code",
   "execution_count": null,
   "metadata": {},
   "outputs": [],
   "source": []
  }
 ],
 "metadata": {
  "kernelspec": {
   "display_name": "Python 3",
   "language": "python",
   "name": "python3"
  },
  "language_info": {
   "codemirror_mode": {
    "name": "ipython",
    "version": 3
   },
   "file_extension": ".py",
   "mimetype": "text/x-python",
   "name": "python",
   "nbconvert_exporter": "python",
   "pygments_lexer": "ipython3",
   "version": "3.7.4"
  }
 },
 "nbformat": 4,
 "nbformat_minor": 2
}
